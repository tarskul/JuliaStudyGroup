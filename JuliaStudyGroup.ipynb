{
 "cells": [
  {
   "attachments": {},
   "cell_type": "markdown",
   "metadata": {},
   "source": [
    "# Julia study group\n",
    "Feel free to play around with these files as much as you need. If you find something nice, you can add it as well.\n",
    "\n",
    "All other information is in the readme file."
   ]
  },
  {
   "cell_type": "markdown",
   "metadata": {},
   "source": [
    "# Julia basics\n",
    "A first general impression is that Julia is less typing friendly (difficult characters) but does have some nice short hand notations as well.\n",
    "\n",
    "Julia has the same shallow copy shenanigans (just try copying dictionaries and nested dictionaries, I dare you, I double dare you).\n",
    "\n",
    "Julia seems to be a bit difficult about reusing variables and functions (which might be safer actually). Although it is possible to define a function multiple times which is particularly usefull in case of different input types.\n",
    "\n",
    "An important resource is the Julia Documentation: https://docs.julialang.org/en/v1/\n",
    "For Python-experienced users, an interesting part is the differences between the two languages: https://docs.julialang.org/en/v1/manual/noteworthy-differences/#Noteworthy-differences-from-Python"
   ]
  },
  {
   "cell_type": "markdown",
   "metadata": {},
   "source": [
    "## Values\n",
    "\n",
    "None in Python is replaced by nothing in Julia."
   ]
  },
  {
   "cell_type": "markdown",
   "metadata": {},
   "source": [
    "## Strings\n",
    "You have to use \"\", you can't use ''.\n",
    "\n",
    "In julia you can concatenate strings with string(). It is also possible to use * (as opposed to + in Python) but it might look weird for people who look at your code.\n",
    "\n",
    "In Julia it is easy to add variables in a string by using $\n",
    "\n",
    "In Python that is less clean:\n",
    "\n",
    "my_var = 5\n",
    "\n",
    "print(f\"The value of my_var is {my_var}.\")"
   ]
  },
  {
   "cell_type": "code",
   "execution_count": 2,
   "metadata": {
    "tags": []
   },
   "outputs": [
    {
     "data": {
      "text/plain": [
       "\"one two\""
      ]
     },
     "execution_count": 2,
     "metadata": {},
     "output_type": "execute_result"
    }
   ],
   "source": [
    "concat1=\"one\"\n",
    "concat2=\"two\"\n",
    "concatstr=concat1*\" \"*concat2"
   ]
  },
  {
   "cell_type": "code",
   "execution_count": 14,
   "metadata": {},
   "outputs": [
    {
     "name": "stdout",
     "output_type": "stream",
     "text": [
      "the next letter is a or the next letter is a\n",
      "the next letter is b or the next letter is b\n",
      "the next letter is c or the next letter is c\n"
     ]
    }
   ],
   "source": [
    "abc=[\"a\",\"b\",\"c\"]\n",
    "for letter in abc\n",
    "    print(\"the next letter is $letter\")\n",
    "    println(string(\" or \",\"the next letter is \",letter))\n",
    "end"
   ]
  },
  {
   "attachments": {},
   "cell_type": "markdown",
   "metadata": {},
   "source": [
    "'' is used to automatically create strings or symbols"
   ]
  },
  {
   "cell_type": "code",
   "execution_count": 3,
   "metadata": {},
   "outputs": [
    {
     "data": {
      "text/plain": [
       "5-element Vector{String}:\n",
       " \"a\"\n",
       " \"b\"\n",
       " \"c\"\n",
       " \"d\"\n",
       " \"e\""
      ]
     },
     "metadata": {},
     "output_type": "display_data"
    }
   ],
   "source": [
    "string.('a':'e')"
   ]
  },
  {
   "cell_type": "markdown",
   "metadata": {},
   "source": [
    "Special characters are added by means of the backslash. That can also be used for quotes in strings (\\\" instead of something like ' ). That also means that the backslash itself needs a backslash (\\\\ instead of \\). The same does not hold for forwardslash.\n",
    "\n",
    "advanced: you can also use rawstring to avoid the use of \\ [insert link here]"
   ]
  },
  {
   "cell_type": "code",
   "execution_count": 4,
   "metadata": {
    "tags": []
   },
   "outputs": [
    {
     "name": "stdout",
     "output_type": "stream",
     "text": [
      "this is a \"quote\" in a string"
     ]
    }
   ],
   "source": [
    "stringaling=\"this is a \\\"quote\\\" in a string\"\n",
    "print(stringaling)"
   ]
  },
  {
   "cell_type": "markdown",
   "metadata": {},
   "source": [
    "## Dictionaries\n",
    "Dictionaries cannot be created with {}\n",
    "\n",
    "use pop!(dict,key) similar to dict.pop(key)"
   ]
  },
  {
   "cell_type": "code",
   "execution_count": 15,
   "metadata": {},
   "outputs": [
    {
     "name": "stdout",
     "output_type": "stream",
     "text": [
      "Dict{Any, Any}(\"hp\" => 7)\n",
      "\n",
      "7\n"
     ]
    },
    {
     "data": {
      "text/plain": [
       "Dict{Any, Any}()"
      ]
     },
     "execution_count": 15,
     "metadata": {},
     "output_type": "execute_result"
    }
   ],
   "source": [
    "books=Dict()\n",
    "books[\"hp\"]=7\n",
    "println(books,\"\\n\")\n",
    "p=pop!(books,\"hp\")\n",
    "println(p)\n",
    "books"
   ]
  },
  {
   "cell_type": "code",
   "execution_count": 2,
   "metadata": {},
   "outputs": [
    {
     "data": {
      "text/plain": [
       "Dict{String, Int64} with 3 entries:\n",
       "  \"jommeke van herge denk ik\"    => 150\n",
       "  \"RIP van te lui om te checken\" => 4\n",
       "  \"alleen van geen idee\"         => 12"
      ]
     },
     "metadata": {},
     "output_type": "display_data"
    }
   ],
   "source": [
    "stripboeken=[\"jommeke\",\"alleen\",\"RIP\"]\n",
    "stripvolumes=[150,12,4]\n",
    "stripauteurs=[\"herge denk ik\",\"geen idee\",\"te lui om te checken\"]\n",
    "stripcitaat=stripboeken.*\" van \".*stripauteurs\n",
    "strips=Dict(stripcitaat .=> stripvolumes)"
   ]
  },
  {
   "cell_type": "markdown",
   "metadata": {},
   "source": [
    "## Arrays"
   ]
  },
  {
   "cell_type": "markdown",
   "metadata": {},
   "source": [
    "Julia is one indexed"
   ]
  },
  {
   "cell_type": "code",
   "execution_count": 16,
   "metadata": {},
   "outputs": [
    {
     "data": {
      "text/plain": [
       "4×2 Matrix{Float64}:\n",
       " 0.0  1.0\n",
       " 2.0  3.0\n",
       " 2.0  6.0\n",
       " 4.0  8.0"
      ]
     },
     "execution_count": 16,
     "metadata": {},
     "output_type": "execute_result"
    }
   ],
   "source": [
    "A=rand(4,2)\n",
    "B=zeros(4,2)\n",
    "for i in 1:4, j in 1:2\n",
    "    B[i,j]=i*j\n",
    "end\n",
    "B=[i*j for i in 1:4, j in 1:2]\n",
    "C=round.(B-A)"
   ]
  },
  {
   "cell_type": "markdown",
   "metadata": {},
   "source": [
    "## print\n",
    "You can just use print but apparently you typically use println. At least in Jupyter, print doesn't automatically add \"\\n\" at the end while println does."
   ]
  },
  {
   "cell_type": "code",
   "execution_count": 9,
   "metadata": {},
   "outputs": [
    {
     "name": "stdout",
     "output_type": "stream",
     "text": [
      "ab\n",
      "a\n",
      "b\n"
     ]
    }
   ],
   "source": [
    "# single line comment\n",
    "#=\n",
    "multi line comment\n",
    "=#\n",
    "print(\"a\")\n",
    "print(\"b\",\"\\n\")\n",
    "println(\"a\")\n",
    "println(\"b\")"
   ]
  },
  {
   "cell_type": "markdown",
   "metadata": {},
   "source": [
    "## Conditions\n",
    "if/elseif/else is similar to loops; remove the \":\" and add the \"end\" at the very end\n",
    "\n",
    "a ? b : c equals to if a then b else c\n",
    "\n",
    "&& is used for and but does not continue if the first argument is already false\n",
    "\n",
    "true and false are with lower case letters"
   ]
  },
  {
   "cell_type": "code",
   "execution_count": 12,
   "metadata": {},
   "outputs": [
    {
     "name": "stdout",
     "output_type": "stream",
     "text": [
      "5 is bigger than 4\n"
     ]
    }
   ],
   "source": [
    "4>5 && println(\"4 is bigger than 5\")\n",
    "5>4 && println(\"5 is bigger than 4\")"
   ]
  },
  {
   "cell_type": "markdown",
   "metadata": {},
   "source": [
    "Julia is a little bit more strict on its types than python; you cannot use nothing and int/float as booleans, you need to be more specific by checking the types."
   ]
  },
  {
   "cell_type": "code",
   "execution_count": 9,
   "metadata": {
    "tags": []
   },
   "outputs": [
    {
     "name": "stdout",
     "output_type": "stream",
     "text": [
      "thanks for your contribution\n"
     ]
    }
   ],
   "source": [
    "thanksfor=\"your contribution\"#nothing\n",
    "\n",
    "if thanksfor != nothing\n",
    "    println(\"thanks for \",thanksfor)\n",
    "else\n",
    "    print(\"thanks for nothing\")\n",
    "end"
   ]
  },
  {
   "cell_type": "code",
   "execution_count": 13,
   "metadata": {},
   "outputs": [
    {
     "data": {
      "text/plain": [
       "0.7142857142857143"
      ]
     },
     "execution_count": 13,
     "metadata": {},
     "output_type": "execute_result"
    }
   ],
   "source": [
    "ni=5\n",
    "nitarget=7\n",
    "ti=16\n",
    "titarget=NaN\n",
    "\n",
    "firatios=(!isnan(nitarget) ? ni/nitarget : 0.0, !isnan(titarget) ? ti/titarget : 0.0)\n",
    "finish=maximum(firatios)#use findmax to also get the index"
   ]
  },
  {
   "cell_type": "markdown",
   "metadata": {},
   "source": [
    "In python you can use check for None; it automatically converts to a boolean. In Julia you need to be more explicit. You can check for nothing."
   ]
  },
  {
   "cell_type": "markdown",
   "metadata": {},
   "source": [
    "## loops\n",
    "for i in range(1,10):\n",
    "\n",
    "becomes\n",
    "\n",
    "for i in 1:10\n",
    "\n",
    "end"
   ]
  },
  {
   "cell_type": "code",
   "execution_count": 11,
   "metadata": {},
   "outputs": [
    {
     "name": "stdout",
     "output_type": "stream",
     "text": [
      "12345678910"
     ]
    }
   ],
   "source": [
    "for i in 1:10\n",
    "    print(i)\n",
    "end"
   ]
  },
  {
   "cell_type": "markdown",
   "metadata": {},
   "source": [
    "## functions\n",
    "also similar to loops (no \":\" but \"end\" at the end)\n",
    "\n",
    "! is used to alter the original list (example sort() vs sort!())\n",
    "\n",
    ". is used to use the function on multiple elements (example round.(A))"
   ]
  },
  {
   "cell_type": "code",
   "execution_count": 17,
   "metadata": {},
   "outputs": [
    {
     "name": "stdout",
     "output_type": "stream",
     "text": [
      "the next letter is d or the next letter is d\n",
      "the next letter is e or the next letter is e\n",
      "the next letter is f or the next letter is f\n"
     ]
    }
   ],
   "source": [
    "function xyz(abc)\n",
    "    for letter in abc\n",
    "        print(\"the next letter is $letter\")\n",
    "        println(string(\" or \",\"the next letter is \",letter))\n",
    "    end\n",
    "end\n",
    "xyz([\"d\",\"e\",\"f\"])"
   ]
  },
  {
   "cell_type": "code",
   "execution_count": 18,
   "metadata": {},
   "outputs": [
    {
     "data": {
      "text/plain": [
       "4"
      ]
     },
     "execution_count": 18,
     "metadata": {},
     "output_type": "execute_result"
    }
   ],
   "source": [
    "y(x)=x^2\n",
    "y(2)"
   ]
  },
  {
   "cell_type": "code",
   "execution_count": 19,
   "metadata": {},
   "outputs": [
    {
     "data": {
      "text/plain": [
       "27"
      ]
     },
     "execution_count": 19,
     "metadata": {},
     "output_type": "execute_result"
    }
   ],
   "source": [
    "f=x->x^3\n",
    "f(3)"
   ]
  },
  {
   "cell_type": "code",
   "execution_count": 20,
   "metadata": {},
   "outputs": [
    {
     "name": "stdout",
     "output_type": "stream",
     "text": [
      "This is the sorted array b=[1, 4, 5]\n",
      "But the original a remains unharmed a=[1, 5, 4]\n",
      "Unless you use ! a=[1, 4, 5]\n"
     ]
    }
   ],
   "source": [
    "a=[1,5,4]\n",
    "println(string(\"This is the sorted array b=\",sort(a)))\n",
    "println(string(\"But the original a remains unharmed a=\",a))\n",
    "sort!(a)\n",
    "println(string(\"Unless you use ! a=\",a))\n"
   ]
  },
  {
   "cell_type": "markdown",
   "metadata": {},
   "source": [
    "Kwargs work a little different as well. ;D... is used instead of **D. Also, it is important to use symbols (:A) instead of strings (\"A\") for your dictionary.\n",
    "\n",
    "The ... is not necessary if you simply access one of the keyword arguments."
   ]
  },
  {
   "cell_type": "code",
   "execution_count": 7,
   "metadata": {},
   "outputs": [
    {
     "name": "stdout",
     "output_type": "stream",
     "text": [
      "3\n",
      "7\n",
      "5\n"
     ]
    }
   ],
   "source": [
    "function kiwi(;a=1,b=2)\n",
    "    println(a+b)\n",
    "end\n",
    "kwargs=Dict(:a=>2,:b=>3)\n",
    "kiwi()\n",
    "kiwi(;a=5)\n",
    "kiwi(;kwargs...)"
   ]
  },
  {
   "cell_type": "markdown",
   "metadata": {},
   "source": [
    "## Parallellism?"
   ]
  },
  {
   "cell_type": "markdown",
   "metadata": {},
   "source": [
    "## Object oriented programming?\n",
    "There are different types and function; in the function you disclose which types to use.\n",
    "Multiple dispatch (not only first argument \"self\")"
   ]
  },
  {
   "cell_type": "markdown",
   "metadata": {},
   "source": [
    "# Packages"
   ]
  },
  {
   "cell_type": "markdown",
   "metadata": {},
   "source": [
    "## using and import\n",
    "\n",
    "Within a module you can use the import statement but in Julia it is more common to use \"using\". Import can only be used at the beginning, within a function you need to use \"using\" anyway. In JuMP, for example, you need to use \"using\" because then the command \"@variable\" becomes available.\n",
    "\n",
    "(not 100% sure about these statements but in general \"using\" is better)"
   ]
  },
  {
   "cell_type": "markdown",
   "metadata": {},
   "source": [
    "## Package manager\n",
    "\n",
    "For the next part of the Jupyter notebook you might want to install some additional packages. We will use the package manager.\n",
    "\n",
    "In python you typically use pip to install a package. In Julia you use the build in package manager. In the terminal first type\n",
    "\n",
    "julia\n",
    "\n",
    "Once in julia you type\n",
    "\n",
    "]\n",
    "\n",
    "to go in the package manager mode (use backspace to return to normal mode). In package manager mode you can install a package simply through\n",
    "\n",
    "add packagename\n",
    "\n",
    "Alternatively, you can write a script using Pkg where you can add a package with Pkg.add(\"packagename\") and remove a package with Pkg.rm(\"packagename\")."
   ]
  },
  {
   "cell_type": "code",
   "execution_count": 3,
   "metadata": {},
   "outputs": [
    {
     "name": "stdout",
     "output_type": "stream",
     "text": [
      "\u001b[32m\u001b[1mStatus\u001b[22m\u001b[39m `~/.julia/environments/v1.8/Project.toml`\n",
      " \u001b[90m [336ed68f] \u001b[39mCSV v0.10.9\n",
      " \u001b[90m [9961bab8] \u001b[39mCbc v1.0.3\n",
      " \u001b[90m [5ae59095] \u001b[39mColors v0.12.10\n",
      " \u001b[90m [a93c6f00] \u001b[39mDataFrames v1.5.0\n",
      " \u001b[90m [60bf3e95] \u001b[39mGLPK v1.1.1\n",
      " \u001b[90m [87dc4568] \u001b[39mHiGHS v1.4.3\n",
      " \u001b[90m [7073ff75] \u001b[39mIJulia v1.24.0\n",
      " \u001b[90m [b6b21f68] \u001b[39mIpopt v1.2.0\n",
      " \u001b[90m [682c06a0] \u001b[39mJSON v0.21.3\n",
      "\u001b[32m⌃\u001b[39m\u001b[90m [4076af6c] \u001b[39mJuMP v1.8.2\n",
      " \u001b[90m [91a5bcdd] \u001b[39mPlots v1.38.6\n",
      " \u001b[90m [c3e4b0f8] \u001b[39mPluto v0.19.22\n",
      " \u001b[90m [7f904dfe] \u001b[39mPlutoUI v0.7.50\n",
      " \u001b[90m [0cda1612] \u001b[39mSpineInterface v0.9.4 `~/OneDrive_KUL/Mopo/Code/SpineInterface.jl`\n",
      " \u001b[90m [0d8fc150] \u001b[39mSpineOpt v0.6.9 `~/OneDrive_KUL/Mopo/Code/SpineOpt.jl`\n",
      " \u001b[90m [fdbf4ff8] \u001b[39mXLSX v0.9.0\n",
      " \u001b[90m [fa267f1f] \u001b[39mTOML v1.0.0\n",
      "\u001b[36m\u001b[1mInfo\u001b[22m\u001b[39m Packages marked with \u001b[32m⌃\u001b[39m have new versions available and may be upgradable.\n"
     ]
    }
   ],
   "source": [
    "using Pkg\n",
    "Pkg.status()"
   ]
  },
  {
   "cell_type": "code",
   "execution_count": 4,
   "metadata": {},
   "outputs": [
    {
     "name": "stderr",
     "output_type": "stream",
     "text": [
      "\u001b[32m\u001b[1m    Updating\u001b[22m\u001b[39m registry at `~/.julia/registries/General.toml`\n",
      "\u001b[32m\u001b[1m   Resolving\u001b[22m\u001b[39m package versions...\n",
      "\u001b[32m\u001b[1m  No Changes\u001b[22m\u001b[39m to `~/.julia/environments/v1.8/Project.toml`\n",
      "\u001b[32m\u001b[1m  No Changes\u001b[22m\u001b[39m to `~/.julia/environments/v1.8/Manifest.toml`\n",
      "\u001b[32m\u001b[1m   Resolving\u001b[22m\u001b[39m package versions...\n",
      "\u001b[32m\u001b[1m  No Changes\u001b[22m\u001b[39m to `~/.julia/environments/v1.8/Project.toml`\n",
      "\u001b[32m\u001b[1m  No Changes\u001b[22m\u001b[39m to `~/.julia/environments/v1.8/Manifest.toml`\n",
      "\u001b[32m\u001b[1m   Resolving\u001b[22m\u001b[39m package versions...\n",
      "\u001b[32m\u001b[1m  No Changes\u001b[22m\u001b[39m to `~/.julia/environments/v1.8/Project.toml`\n",
      "\u001b[32m\u001b[1m  No Changes\u001b[22m\u001b[39m to `~/.julia/environments/v1.8/Manifest.toml`\n",
      "\u001b[32m\u001b[1m   Resolving\u001b[22m\u001b[39m package versions...\n",
      "\u001b[32m\u001b[1m  No Changes\u001b[22m\u001b[39m to `~/.julia/environments/v1.8/Project.toml`\n",
      "\u001b[32m\u001b[1m  No Changes\u001b[22m\u001b[39m to `~/.julia/environments/v1.8/Manifest.toml`\n",
      "\u001b[32m\u001b[1m   Resolving\u001b[22m\u001b[39m package versions...\n",
      "\u001b[32m\u001b[1m  No Changes\u001b[22m\u001b[39m to `~/.julia/environments/v1.8/Project.toml`\n",
      "\u001b[32m\u001b[1m  No Changes\u001b[22m\u001b[39m to `~/.julia/environments/v1.8/Manifest.toml`\n",
      "\u001b[32m\u001b[1m   Resolving\u001b[22m\u001b[39m package versions...\n",
      "\u001b[32m\u001b[1m  No Changes\u001b[22m\u001b[39m to `~/.julia/environments/v1.8/Project.toml`\n",
      "\u001b[32m\u001b[1m  No Changes\u001b[22m\u001b[39m to `~/.julia/environments/v1.8/Manifest.toml`\n",
      "\u001b[32m\u001b[1m   Resolving\u001b[22m\u001b[39m package versions...\n",
      "\u001b[32m\u001b[1m  No Changes\u001b[22m\u001b[39m to `~/.julia/environments/v1.8/Project.toml`\n",
      "\u001b[32m\u001b[1m  No Changes\u001b[22m\u001b[39m to `~/.julia/environments/v1.8/Manifest.toml`\n"
     ]
    }
   ],
   "source": [
    "# generally useful packages\n",
    "Pkg.add(\"Colors\")\n",
    "Pkg.add(\"Plots\")\n",
    "Pkg.add(\"JuMP\")\n",
    "Pkg.add(\"GLPK\")\n",
    "Pkg.add(\"DataFrames\")\n",
    "\n",
    "# mod specific packages\n",
    "Pkg.add([\"TOML\",\"CSV\",\"XLSX\"])\n",
    "Pkg.add([\"GLPK\",\"Cbc\",\"Ipopt\",\"HiGHS\"])"
   ]
  },
  {
   "cell_type": "markdown",
   "metadata": {},
   "source": [
    "## local files\n",
    "importing local files is a bit different from what you are used to in Python. In Python you could just import the local file as if it is any other installed package. In Julia you have to use a completely different command: \"include\".\n",
    "\n",
    "Similar to Python is that any code is executed. In the auxiliary file you can see that the script can be protected from being executed but that is a pythonic way of doing things. In Julia they usually make a separate example or test file instead."
   ]
  },
  {
   "cell_type": "code",
   "execution_count": 10,
   "metadata": {},
   "outputs": [
    {
     "name": "stdout",
     "output_type": "stream",
     "text": [
      "The file is used indirectly\n"
     ]
    }
   ],
   "source": [
    "include(\"./AuxiliaryJuliaStudyGroup.jl\")"
   ]
  },
  {
   "cell_type": "markdown",
   "metadata": {},
   "source": [
    "## reproducability? Virtual environments?\n",
    "\n",
    "https://gitlab.kuleuven.be/UCM/esim-advanced-julia-training/-/blob/master/01.general_tips/general_tips.ipynb\n",
    "\n",
    "Also check the additional training material."
   ]
  },
  {
   "cell_type": "markdown",
   "metadata": {},
   "source": [
    "## Some useful packages"
   ]
  },
  {
   "cell_type": "code",
   "execution_count": 2,
   "metadata": {},
   "outputs": [],
   "source": [
    "using Colors\n",
    "using Plots\n",
    "using JuMP\n",
    "using GLPK\n",
    "using DataFrames\n",
    "using XLSX\n",
    "#= packages that are not yet in this codelibrary\n",
    "using ScikitLearn # machine learning ported from Python\n",
    "using MLJ # machine learning in native Julia\n",
    "=#"
   ]
  },
  {
   "cell_type": "code",
   "execution_count": 25,
   "metadata": {},
   "outputs": [
    {
     "data": {
      "image/svg+xml": "<?xml version=\"1.0\" encoding=\"UTF-8\"?>\n<!DOCTYPE svg PUBLIC \"-//W3C//DTD SVG 1.1//EN\"\n \"http://www.w3.org/Graphics/SVG/1.1/DTD/svg11.dtd\">\n<svg xmlns=\"http://www.w3.org/2000/svg\" version=\"1.1\"\n     width=\"180mm\" height=\"25mm\"\n     viewBox=\"0 0 100 1\" preserveAspectRatio=\"none\"\n     shape-rendering=\"crispEdges\" stroke=\"none\">\n<rect width=\"1\" height=\".96\" x=\"0\" y=\"0\" fill=\"#000000\" />\n<rect width=\"1\" height=\".96\" x=\"1\" y=\"0\" fill=\"#FFFF74\" />\n<rect width=\"1\" height=\".96\" x=\"2\" y=\"0\" fill=\"#FF9BFF\" />\n<rect width=\"1\" height=\".96\" x=\"3\" y=\"0\" fill=\"#00D3FF\" />\n<rect width=\"1\" height=\".96\" x=\"4\" y=\"0\" fill=\"#E2630D\" />\n<rect width=\"1\" height=\".96\" x=\"5\" y=\"0\" fill=\"#007E00\" />\n<rect width=\"1\" height=\".96\" x=\"6\" y=\"0\" fill=\"#0050E6\" />\n<rect width=\"1\" height=\".96\" x=\"7\" y=\"0\" fill=\"#AC0047\" />\n<rect width=\"1\" height=\".96\" x=\"8\" y=\"0\" fill=\"#00FFC8\" />\n<rect width=\"1\" height=\".96\" x=\"9\" y=\"0\" fill=\"#006468\" />\n<rect width=\"1\" height=\".96\" x=\"10\" y=\"0\" fill=\"#FFD5C4\" />\n<rect width=\"1\" height=\".96\" x=\"11\" y=\"0\" fill=\"#6C5200\" />\n<rect width=\"1\" height=\".96\" x=\"12\" y=\"0\" fill=\"#7A7581\" />\n<rect width=\"1\" height=\".96\" x=\"13\" y=\"0\" fill=\"#44005C\" />\n<rect width=\"1\" height=\".96\" x=\"14\" y=\"0\" fill=\"#9E9E77\" />\n<rect width=\"1\" height=\".96\" x=\"15\" y=\"0\" fill=\"#FF5C78\" />\n<rect width=\"1\" height=\".96\" x=\"16\" y=\"0\" fill=\"#8197F1\" />\n<rect width=\"1\" height=\".96\" x=\"17\" y=\"0\" fill=\"#003200\" />\n<rect width=\"1\" height=\".96\" x=\"18\" y=\"0\" fill=\"#C721DD\" />\n<rect width=\"1\" height=\".96\" x=\"19\" y=\"0\" fill=\"#FFAD07\" />\n<rect width=\"1\" height=\".96\" x=\"20\" y=\"0\" fill=\"#611C00\" />\n<rect width=\"1\" height=\".96\" x=\"21\" y=\"0\" fill=\"#F3FFFA\" />\n<rect width=\"1\" height=\".96\" x=\"22\" y=\"0\" fill=\"#009E88\" />\n<rect width=\"1\" height=\".96\" x=\"23\" y=\"0\" fill=\"#5EC700\" />\n<rect width=\"1\" height=\".96\" x=\"24\" y=\"0\" fill=\"#002D54\" />\n<rect width=\"1\" height=\".96\" x=\"25\" y=\"0\" fill=\"#553C4A\" />\n<rect width=\"1\" height=\".96\" x=\"26\" y=\"0\" fill=\"#444439\" />\n<rect width=\"1\" height=\".96\" x=\"27\" y=\"0\" fill=\"#008FB6\" />\n<rect width=\"1\" height=\".96\" x=\"28\" y=\"0\" fill=\"#CFD4FD\" />\n<rect width=\"1\" height=\".96\" x=\"29\" y=\"0\" fill=\"#C40000\" />\n<rect width=\"1\" height=\".96\" x=\"30\" y=\"0\" fill=\"#A4675C\" />\n<rect width=\"1\" height=\".96\" x=\"31\" y=\"0\" fill=\"#BB8FA8\" />\n<rect width=\"1\" height=\".96\" x=\"32\" y=\"0\" fill=\"#290001\" />\n<rect width=\"1\" height=\".96\" x=\"33\" y=\"0\" fill=\"#A78600\" />\n<rect width=\"1\" height=\".96\" x=\"34\" y=\"0\" fill=\"#002D30\" />\n<rect width=\"1\" height=\".96\" x=\"35\" y=\"0\" fill=\"#C7DEAA\" />\n<rect width=\"1\" height=\".96\" x=\"36\" y=\"0\" fill=\"#8D9FA3\" />\n<rect width=\"1\" height=\".96\" x=\"37\" y=\"0\" fill=\"#6F5B95\" />\n<rect width=\"1\" height=\".96\" x=\"38\" y=\"0\" fill=\"#A1FFFF\" />\n<rect width=\"1\" height=\".96\" x=\"39\" y=\"0\" fill=\"#B39688\" />\n<rect width=\"1\" height=\".96\" x=\"40\" y=\"0\" fill=\"#4E6D50\" />\n<rect width=\"1\" height=\".96\" x=\"41\" y=\"0\" fill=\"#FF977B\" />\n<rect width=\"1\" height=\".96\" x=\"42\" y=\"0\" fill=\"#FFD1EC\" />\n<rect width=\"1\" height=\".96\" x=\"43\" y=\"0\" fill=\"#9E5100\" />\n<rect width=\"1\" height=\".96\" x=\"44\" y=\"0\" fill=\"#AE5B8E\" />\n<rect width=\"1\" height=\".96\" x=\"45\" y=\"0\" fill=\"#799400\" />\n<rect width=\"1\" height=\".96\" x=\"46\" y=\"0\" fill=\"#362200\" />\n<rect width=\"1\" height=\".96\" x=\"47\" y=\"0\" fill=\"#0E0026\" />\n<rect width=\"1\" height=\".96\" x=\"48\" y=\"0\" fill=\"#80765F\" />\n<rect width=\"1\" height=\".96\" x=\"49\" y=\"0\" fill=\"#485C00\" />\n<rect width=\"1\" height=\".96\" x=\"50\" y=\"0\" fill=\"#C8C2B5\" />\n<rect width=\"1\" height=\".96\" x=\"51\" y=\"0\" fill=\"#8800A1\" />\n<rect width=\"1\" height=\".96\" x=\"52\" y=\"0\" fill=\"#00A853\" />\n<rect width=\"1\" height=\".96\" x=\"53\" y=\"0\" fill=\"#FFE1AA\" />\n<rect width=\"1\" height=\".96\" x=\"54\" y=\"0\" fill=\"#674F42\" />\n<rect width=\"1\" height=\".96\" x=\"55\" y=\"0\" fill=\"#FF342D\" />\n<rect width=\"1\" height=\".96\" x=\"56\" y=\"0\" fill=\"#6B0041\" />\n<rect width=\"1\" height=\".96\" x=\"57\" y=\"0\" fill=\"#0806B1\" />\n<rect width=\"1\" height=\".96\" x=\"58\" y=\"0\" fill=\"#986DFF\" />\n<rect width=\"1\" height=\".96\" x=\"59\" y=\"0\" fill=\"#FF4EC7\" />\n<rect width=\"1\" height=\".96\" x=\"60\" y=\"0\" fill=\"#8AB9A2\" />\n<rect width=\"1\" height=\".96\" x=\"61\" y=\"0\" fill=\"#2EFF71\" />\n<rect width=\"1\" height=\".96\" x=\"62\" y=\"0\" fill=\"#005577\" />\n<rect width=\"1\" height=\".96\" x=\"63\" y=\"0\" fill=\"#0078E3\" />\n<rect width=\"1\" height=\".96\" x=\"64\" y=\"0\" fill=\"#B2ADB9\" />\n<rect width=\"1\" height=\".96\" x=\"65\" y=\"0\" fill=\"#00C3C6\" />\n<rect width=\"1\" height=\".96\" x=\"66\" y=\"0\" fill=\"#00AEFF\" />\n<rect width=\"1\" height=\".96\" x=\"67\" y=\"0\" fill=\"#4E545F\" />\n<rect width=\"1\" height=\".96\" x=\"68\" y=\"0\" fill=\"#FF9BB0\" />\n<rect width=\"1\" height=\".96\" x=\"69\" y=\"0\" fill=\"#FED206\" />\n<rect width=\"1\" height=\".96\" x=\"70\" y=\"0\" fill=\"#687B7A\" />\n<rect width=\"1\" height=\".96\" x=\"71\" y=\"0\" fill=\"#B1DCFC\" />\n<rect width=\"1\" height=\".96\" x=\"72\" y=\"0\" fill=\"#FFF6FF\" />\n<rect width=\"1\" height=\".96\" x=\"73\" y=\"0\" fill=\"#620019\" />\n<rect width=\"1\" height=\".96\" x=\"74\" y=\"0\" fill=\"#C79253\" />\n<rect width=\"1\" height=\".96\" x=\"75\" y=\"0\" fill=\"#A891CF\" />\n<rect width=\"1\" height=\".96\" x=\"76\" y=\"0\" fill=\"#EF007A\" />\n<rect width=\"1\" height=\".96\" x=\"77\" y=\"0\" fill=\"#B8CE00\" />\n<rect width=\"1\" height=\".96\" x=\"78\" y=\"0\" fill=\"#001700\" />\n<rect width=\"1\" height=\".96\" x=\"79\" y=\"0\" fill=\"#204B39\" />\n<rect width=\"1\" height=\".96\" x=\"80\" y=\"0\" fill=\"#875866\" />\n<rect width=\"1\" height=\".96\" x=\"81\" y=\"0\" fill=\"#B5FF4E\" />\n<rect width=\"1\" height=\".96\" x=\"82\" y=\"0\" fill=\"#B40080\" />\n<rect width=\"1\" height=\".96\" x=\"83\" y=\"0\" fill=\"#853F34\" />\n<rect width=\"1\" height=\".96\" x=\"84\" y=\"0\" fill=\"#69936B\" />\n<rect width=\"1\" height=\".96\" x=\"85\" y=\"0\" fill=\"#FFBC80\" />\n<rect width=\"1\" height=\".96\" x=\"86\" y=\"0\" fill=\"#4C3779\" />\n<rect width=\"1\" height=\".96\" x=\"87\" y=\"0\" fill=\"#323606\" />\n<rect width=\"1\" height=\".96\" x=\"88\" y=\"0\" fill=\"#008E94\" />\n<rect width=\"1\" height=\".96\" x=\"89\" y=\"0\" fill=\"#CAAC51\" />\n<rect width=\"1\" height=\".96\" x=\"90\" y=\"0\" fill=\"#787B3B\" />\n<rect width=\"1\" height=\".96\" x=\"91\" y=\"0\" fill=\"#B6F9D9\" />\n<rect width=\"1\" height=\".96\" x=\"92\" y=\"0\" fill=\"#DA003F\" />\n<rect width=\"1\" height=\".96\" x=\"93\" y=\"0\" fill=\"#2E2124\" />\n<rect width=\"1\" height=\".96\" x=\"94\" y=\"0\" fill=\"#005815\" />\n<rect width=\"1\" height=\".96\" x=\"95\" y=\"0\" fill=\"#FF8E1D\" />\n<rect width=\"1\" height=\".96\" x=\"96\" y=\"0\" fill=\"#6674B1\" />\n<rect width=\"1\" height=\".96\" x=\"97\" y=\"0\" fill=\"#00CDAD\" />\n<rect width=\"1\" height=\".96\" x=\"98\" y=\"0\" fill=\"#007F63\" />\n<rect width=\"1\" height=\".96\" x=\"99\" y=\"0\" fill=\"#996F3D\" />\n</svg>",
      "text/plain": [
       "100-element Array{RGB{N0f8},1} with eltype RGB{FixedPointNumbers.N0f8}:\n",
       " RGB{N0f8}(0.0,0.0,0.0)\n",
       " RGB{N0f8}(1.0,1.0,0.455)\n",
       " RGB{N0f8}(1.0,0.608,1.0)\n",
       " RGB{N0f8}(0.0,0.827,1.0)\n",
       " RGB{N0f8}(0.886,0.388,0.051)\n",
       " RGB{N0f8}(0.0,0.494,0.0)\n",
       " RGB{N0f8}(0.0,0.314,0.902)\n",
       " RGB{N0f8}(0.675,0.0,0.278)\n",
       " RGB{N0f8}(0.0,1.0,0.784)\n",
       " RGB{N0f8}(0.0,0.392,0.408)\n",
       " RGB{N0f8}(1.0,0.835,0.769)\n",
       " RGB{N0f8}(0.424,0.322,0.0)\n",
       " RGB{N0f8}(0.478,0.459,0.506)\n",
       " ⋮\n",
       " RGB{N0f8}(0.0,0.557,0.58)\n",
       " RGB{N0f8}(0.792,0.675,0.318)\n",
       " RGB{N0f8}(0.471,0.482,0.231)\n",
       " RGB{N0f8}(0.714,0.976,0.851)\n",
       " RGB{N0f8}(0.855,0.0,0.247)\n",
       " RGB{N0f8}(0.18,0.129,0.141)\n",
       " RGB{N0f8}(0.0,0.345,0.082)\n",
       " RGB{N0f8}(1.0,0.557,0.114)\n",
       " RGB{N0f8}(0.4,0.455,0.694)\n",
       " RGB{N0f8}(0.0,0.804,0.678)\n",
       " RGB{N0f8}(0.0,0.498,0.388)\n",
       " RGB{N0f8}(0.6,0.435,0.239)"
      ]
     },
     "execution_count": 25,
     "metadata": {},
     "output_type": "execute_result"
    }
   ],
   "source": [
    "palette=distinguishable_colors(100)"
   ]
  },
  {
   "cell_type": "code",
   "execution_count": 26,
   "metadata": {},
   "outputs": [
    {
     "data": {
      "image/svg+xml": "<?xml version=\"1.0\" encoding=\"UTF-8\"?>\n<!DOCTYPE svg PUBLIC \"-//W3C//DTD SVG 1.1//EN\"\n \"http://www.w3.org/Graphics/SVG/1.1/DTD/svg11.dtd\">\n<svg xmlns=\"http://www.w3.org/2000/svg\" version=\"1.1\"\n     width=\"75mm\" height=\"75mm\"\n     viewBox=\"0 0 3 3\" preserveAspectRatio=\"none\"\n     shape-rendering=\"crispEdges\" stroke=\"none\">\n<rect width=\".96\" height=\".96\" x=\"0\" y=\"0\" fill=\"#B1DCFC\" />\n<rect width=\".96\" height=\".96\" x=\"1\" y=\"0\" fill=\"#00FFC8\" />\n<rect width=\".96\" height=\".96\" x=\"2\" y=\"0\" fill=\"#007E00\" />\n<rect width=\".96\" height=\".96\" x=\"0\" y=\"1\" fill=\"#FFBC80\" />\n<rect width=\".96\" height=\".96\" x=\"1\" y=\"1\" fill=\"#553C4A\" />\n<rect width=\".96\" height=\".96\" x=\"2\" y=\"1\" fill=\"#FFF6FF\" />\n<rect width=\".96\" height=\".96\" x=\"0\" y=\"2\" fill=\"#A891CF\" />\n<rect width=\".96\" height=\".96\" x=\"1\" y=\"2\" fill=\"#BB8FA8\" />\n<rect width=\".96\" height=\".96\" x=\"2\" y=\"2\" fill=\"#007F63\" />\n</svg>",
      "text/plain": [
       "3×3 Array{RGB{N0f8},2} with eltype RGB{FixedPointNumbers.N0f8}:\n",
       " RGB{N0f8}(0.694,0.863,0.988)  …  RGB{N0f8}(0.0,0.494,0.0)\n",
       " RGB{N0f8}(1.0,0.737,0.502)       RGB{N0f8}(1.0,0.965,1.0)\n",
       " RGB{N0f8}(0.659,0.569,0.812)     RGB{N0f8}(0.0,0.498,0.388)"
      ]
     },
     "execution_count": 26,
     "metadata": {},
     "output_type": "execute_result"
    }
   ],
   "source": [
    "rand(palette,3,3)"
   ]
  },
  {
   "cell_type": "code",
   "execution_count": 27,
   "metadata": {},
   "outputs": [
    {
     "data": {
      "image/svg+xml": "<?xml version=\"1.0\" encoding=\"utf-8\"?>\n<svg xmlns=\"http://www.w3.org/2000/svg\" xmlns:xlink=\"http://www.w3.org/1999/xlink\" width=\"600\" height=\"400\" viewBox=\"0 0 2400 1600\">\n<defs>\n  <clipPath id=\"clip480\">\n    <rect x=\"0\" y=\"0\" width=\"2400\" height=\"1600\"/>\n  </clipPath>\n</defs>\n<path clip-path=\"url(#clip480)\" d=\"M0 1600 L2400 1600 L2400 0 L0 0  Z\" fill=\"#ffffff\" fill-rule=\"evenodd\" fill-opacity=\"1\"/>\n<defs>\n  <clipPath id=\"clip481\">\n    <rect x=\"480\" y=\"0\" width=\"1681\" height=\"1600\"/>\n  </clipPath>\n</defs>\n<path clip-path=\"url(#clip480)\" d=\"M219.38 1423.18 L2352.76 1423.18 L2352.76 123.472 L219.38 123.472  Z\" fill=\"#ffffff\" fill-rule=\"evenodd\" fill-opacity=\"1\"/>\n<defs>\n  <clipPath id=\"clip482\">\n    <rect x=\"219\" y=\"123\" width=\"2134\" height=\"1301\"/>\n  </clipPath>\n</defs>\n<polyline clip-path=\"url(#clip482)\" style=\"stroke:#000000; stroke-linecap:round; stroke-linejoin:round; stroke-width:2; stroke-opacity:0.1; fill:none\" points=\"259.429,1423.18 259.429,123.472 \"/>\n<polyline clip-path=\"url(#clip482)\" style=\"stroke:#000000; stroke-linecap:round; stroke-linejoin:round; stroke-width:2; stroke-opacity:0.1; fill:none\" points=\"767.666,1423.18 767.666,123.472 \"/>\n<polyline clip-path=\"url(#clip482)\" style=\"stroke:#000000; stroke-linecap:round; stroke-linejoin:round; stroke-width:2; stroke-opacity:0.1; fill:none\" points=\"1275.9,1423.18 1275.9,123.472 \"/>\n<polyline clip-path=\"url(#clip482)\" style=\"stroke:#000000; stroke-linecap:round; stroke-linejoin:round; stroke-width:2; stroke-opacity:0.1; fill:none\" points=\"1784.14,1423.18 1784.14,123.472 \"/>\n<polyline clip-path=\"url(#clip482)\" style=\"stroke:#000000; stroke-linecap:round; stroke-linejoin:round; stroke-width:2; stroke-opacity:0.1; fill:none\" points=\"2292.38,1423.18 2292.38,123.472 \"/>\n<polyline clip-path=\"url(#clip480)\" style=\"stroke:#000000; stroke-linecap:round; stroke-linejoin:round; stroke-width:4; stroke-opacity:1; fill:none\" points=\"219.38,1423.18 2352.76,1423.18 \"/>\n<polyline clip-path=\"url(#clip480)\" style=\"stroke:#000000; stroke-linecap:round; stroke-linejoin:round; stroke-width:4; stroke-opacity:1; fill:none\" points=\"259.429,1423.18 259.429,1404.28 \"/>\n<polyline clip-path=\"url(#clip480)\" style=\"stroke:#000000; stroke-linecap:round; stroke-linejoin:round; stroke-width:4; stroke-opacity:1; fill:none\" points=\"767.666,1423.18 767.666,1404.28 \"/>\n<polyline clip-path=\"url(#clip480)\" style=\"stroke:#000000; stroke-linecap:round; stroke-linejoin:round; stroke-width:4; stroke-opacity:1; fill:none\" points=\"1275.9,1423.18 1275.9,1404.28 \"/>\n<polyline clip-path=\"url(#clip480)\" style=\"stroke:#000000; stroke-linecap:round; stroke-linejoin:round; stroke-width:4; stroke-opacity:1; fill:none\" points=\"1784.14,1423.18 1784.14,1404.28 \"/>\n<polyline clip-path=\"url(#clip480)\" style=\"stroke:#000000; stroke-linecap:round; stroke-linejoin:round; stroke-width:4; stroke-opacity:1; fill:none\" points=\"2292.38,1423.18 2292.38,1404.28 \"/>\n<path clip-path=\"url(#clip480)\" d=\"M259.429 1454.1 Q255.818 1454.1 253.989 1457.66 Q252.184 1461.2 252.184 1468.33 Q252.184 1475.44 253.989 1479.01 Q255.818 1482.55 259.429 1482.55 Q263.063 1482.55 264.869 1479.01 Q266.698 1475.44 266.698 1468.33 Q266.698 1461.2 264.869 1457.66 Q263.063 1454.1 259.429 1454.1 M259.429 1450.39 Q265.239 1450.39 268.295 1455 Q271.374 1459.58 271.374 1468.33 Q271.374 1477.06 268.295 1481.67 Q265.239 1486.25 259.429 1486.25 Q253.619 1486.25 250.54 1481.67 Q247.485 1477.06 247.485 1468.33 Q247.485 1459.58 250.54 1455 Q253.619 1450.39 259.429 1450.39 Z\" fill=\"#000000\" fill-rule=\"evenodd\" fill-opacity=\"1\" /><path clip-path=\"url(#clip480)\" d=\"M746.937 1481.64 L763.257 1481.64 L763.257 1485.58 L741.312 1485.58 L741.312 1481.64 Q743.974 1478.89 748.558 1474.26 Q753.164 1469.61 754.345 1468.27 Q756.59 1465.74 757.47 1464.01 Q758.372 1462.25 758.372 1460.56 Q758.372 1457.8 756.428 1456.07 Q754.507 1454.33 751.405 1454.33 Q749.206 1454.33 746.752 1455.09 Q744.321 1455.86 741.544 1457.41 L741.544 1452.69 Q744.368 1451.55 746.821 1450.97 Q749.275 1450.39 751.312 1450.39 Q756.683 1450.39 759.877 1453.08 Q763.071 1455.77 763.071 1460.26 Q763.071 1462.39 762.261 1464.31 Q761.474 1466.2 759.368 1468.8 Q758.789 1469.47 755.687 1472.69 Q752.585 1475.88 746.937 1481.64 Z\" fill=\"#000000\" fill-rule=\"evenodd\" fill-opacity=\"1\" /><path clip-path=\"url(#clip480)\" d=\"M773.118 1451.02 L791.474 1451.02 L791.474 1454.96 L777.4 1454.96 L777.4 1463.43 Q778.419 1463.08 779.437 1462.92 Q780.456 1462.73 781.474 1462.73 Q787.261 1462.73 790.641 1465.9 Q794.02 1469.08 794.02 1474.49 Q794.02 1480.07 790.548 1483.17 Q787.076 1486.25 780.756 1486.25 Q778.581 1486.25 776.312 1485.88 Q774.067 1485.51 771.659 1484.77 L771.659 1480.07 Q773.743 1481.2 775.965 1481.76 Q778.187 1482.32 780.664 1482.32 Q784.668 1482.32 787.006 1480.21 Q789.344 1478.1 789.344 1474.49 Q789.344 1470.88 787.006 1468.77 Q784.668 1466.67 780.664 1466.67 Q778.789 1466.67 776.914 1467.08 Q775.062 1467.5 773.118 1468.38 L773.118 1451.02 Z\" fill=\"#000000\" fill-rule=\"evenodd\" fill-opacity=\"1\" /><path clip-path=\"url(#clip480)\" d=\"M1250.6 1451.02 L1268.96 1451.02 L1268.96 1454.96 L1254.88 1454.96 L1254.88 1463.43 Q1255.9 1463.08 1256.92 1462.92 Q1257.94 1462.73 1258.96 1462.73 Q1264.75 1462.73 1268.13 1465.9 Q1271.51 1469.08 1271.51 1474.49 Q1271.51 1480.07 1268.03 1483.17 Q1264.56 1486.25 1258.24 1486.25 Q1256.07 1486.25 1253.8 1485.88 Q1251.55 1485.51 1249.14 1484.77 L1249.14 1480.07 Q1251.23 1481.2 1253.45 1481.76 Q1255.67 1482.32 1258.15 1482.32 Q1262.15 1482.32 1264.49 1480.21 Q1266.83 1478.1 1266.83 1474.49 Q1266.83 1470.88 1264.49 1468.77 Q1262.15 1466.67 1258.15 1466.67 Q1256.27 1466.67 1254.4 1467.08 Q1252.55 1467.5 1250.6 1468.38 L1250.6 1451.02 Z\" fill=\"#000000\" fill-rule=\"evenodd\" fill-opacity=\"1\" /><path clip-path=\"url(#clip480)\" d=\"M1290.72 1454.1 Q1287.11 1454.1 1285.28 1457.66 Q1283.47 1461.2 1283.47 1468.33 Q1283.47 1475.44 1285.28 1479.01 Q1287.11 1482.55 1290.72 1482.55 Q1294.35 1482.55 1296.16 1479.01 Q1297.99 1475.44 1297.99 1468.33 Q1297.99 1461.2 1296.16 1457.66 Q1294.35 1454.1 1290.72 1454.1 M1290.72 1450.39 Q1296.53 1450.39 1299.58 1455 Q1302.66 1459.58 1302.66 1468.33 Q1302.66 1477.06 1299.58 1481.67 Q1296.53 1486.25 1290.72 1486.25 Q1284.91 1486.25 1281.83 1481.67 Q1278.77 1477.06 1278.77 1468.33 Q1278.77 1459.58 1281.83 1455 Q1284.91 1450.39 1290.72 1450.39 Z\" fill=\"#000000\" fill-rule=\"evenodd\" fill-opacity=\"1\" /><path clip-path=\"url(#clip480)\" d=\"M1757.99 1451.02 L1780.22 1451.02 L1780.22 1453.01 L1767.67 1485.58 L1762.79 1485.58 L1774.59 1454.96 L1757.99 1454.96 L1757.99 1451.02 Z\" fill=\"#000000\" fill-rule=\"evenodd\" fill-opacity=\"1\" /><path clip-path=\"url(#clip480)\" d=\"M1789.38 1451.02 L1807.74 1451.02 L1807.74 1454.96 L1793.67 1454.96 L1793.67 1463.43 Q1794.68 1463.08 1795.7 1462.92 Q1796.72 1462.73 1797.74 1462.73 Q1803.53 1462.73 1806.91 1465.9 Q1810.29 1469.08 1810.29 1474.49 Q1810.29 1480.07 1806.81 1483.17 Q1803.34 1486.25 1797.02 1486.25 Q1794.85 1486.25 1792.58 1485.88 Q1790.33 1485.51 1787.93 1484.77 L1787.93 1480.07 Q1790.01 1481.2 1792.23 1481.76 Q1794.45 1482.32 1796.93 1482.32 Q1800.93 1482.32 1803.27 1480.21 Q1805.61 1478.1 1805.61 1474.49 Q1805.61 1470.88 1803.27 1468.77 Q1800.93 1466.67 1796.93 1466.67 Q1795.05 1466.67 1793.18 1467.08 Q1791.33 1467.5 1789.38 1468.38 L1789.38 1451.02 Z\" fill=\"#000000\" fill-rule=\"evenodd\" fill-opacity=\"1\" /><path clip-path=\"url(#clip480)\" d=\"M2251.98 1481.64 L2259.62 1481.64 L2259.62 1455.28 L2251.31 1456.95 L2251.31 1452.69 L2259.58 1451.02 L2264.25 1451.02 L2264.25 1481.64 L2271.89 1481.64 L2271.89 1485.58 L2251.98 1485.58 L2251.98 1481.64 Z\" fill=\"#000000\" fill-rule=\"evenodd\" fill-opacity=\"1\" /><path clip-path=\"url(#clip480)\" d=\"M2291.34 1454.1 Q2287.72 1454.1 2285.9 1457.66 Q2284.09 1461.2 2284.09 1468.33 Q2284.09 1475.44 2285.9 1479.01 Q2287.72 1482.55 2291.34 1482.55 Q2294.97 1482.55 2296.78 1479.01 Q2298.6 1475.44 2298.6 1468.33 Q2298.6 1461.2 2296.78 1457.66 Q2294.97 1454.1 2291.34 1454.1 M2291.34 1450.39 Q2297.15 1450.39 2300.2 1455 Q2303.28 1459.58 2303.28 1468.33 Q2303.28 1477.06 2300.2 1481.67 Q2297.15 1486.25 2291.34 1486.25 Q2285.53 1486.25 2282.45 1481.67 Q2279.39 1477.06 2279.39 1468.33 Q2279.39 1459.58 2282.45 1455 Q2285.53 1450.39 2291.34 1450.39 Z\" fill=\"#000000\" fill-rule=\"evenodd\" fill-opacity=\"1\" /><path clip-path=\"url(#clip480)\" d=\"M2321.5 1454.1 Q2317.89 1454.1 2316.06 1457.66 Q2314.25 1461.2 2314.25 1468.33 Q2314.25 1475.44 2316.06 1479.01 Q2317.89 1482.55 2321.5 1482.55 Q2325.13 1482.55 2326.94 1479.01 Q2328.77 1475.44 2328.77 1468.33 Q2328.77 1461.2 2326.94 1457.66 Q2325.13 1454.1 2321.5 1454.1 M2321.5 1450.39 Q2327.31 1450.39 2330.36 1455 Q2333.44 1459.58 2333.44 1468.33 Q2333.44 1477.06 2330.36 1481.67 Q2327.31 1486.25 2321.5 1486.25 Q2315.69 1486.25 2312.61 1481.67 Q2309.55 1477.06 2309.55 1468.33 Q2309.55 1459.58 2312.61 1455 Q2315.69 1450.39 2321.5 1450.39 Z\" fill=\"#000000\" fill-rule=\"evenodd\" fill-opacity=\"1\" /><path clip-path=\"url(#clip480)\" d=\"M1302.68 1532.4 L1289.79 1549.74 L1303.35 1568.04 L1296.44 1568.04 L1286.07 1554.04 L1275.69 1568.04 L1268.79 1568.04 L1282.63 1549.39 L1269.96 1532.4 L1276.87 1532.4 L1286.32 1545.1 L1295.78 1532.4 L1302.68 1532.4 Z\" fill=\"#000000\" fill-rule=\"evenodd\" fill-opacity=\"1\" /><polyline clip-path=\"url(#clip482)\" style=\"stroke:#000000; stroke-linecap:round; stroke-linejoin:round; stroke-width:2; stroke-opacity:0.1; fill:none\" points=\"219.38,1393.64 2352.76,1393.64 \"/>\n<polyline clip-path=\"url(#clip482)\" style=\"stroke:#000000; stroke-linecap:round; stroke-linejoin:round; stroke-width:2; stroke-opacity:0.1; fill:none\" points=\"219.38,1030.88 2352.76,1030.88 \"/>\n<polyline clip-path=\"url(#clip482)\" style=\"stroke:#000000; stroke-linecap:round; stroke-linejoin:round; stroke-width:2; stroke-opacity:0.1; fill:none\" points=\"219.38,668.119 2352.76,668.119 \"/>\n<polyline clip-path=\"url(#clip482)\" style=\"stroke:#000000; stroke-linecap:round; stroke-linejoin:round; stroke-width:2; stroke-opacity:0.1; fill:none\" points=\"219.38,305.36 2352.76,305.36 \"/>\n<polyline clip-path=\"url(#clip480)\" style=\"stroke:#000000; stroke-linecap:round; stroke-linejoin:round; stroke-width:4; stroke-opacity:1; fill:none\" points=\"219.38,1423.18 219.38,123.472 \"/>\n<polyline clip-path=\"url(#clip480)\" style=\"stroke:#000000; stroke-linecap:round; stroke-linejoin:round; stroke-width:4; stroke-opacity:1; fill:none\" points=\"219.38,1393.64 238.278,1393.64 \"/>\n<polyline clip-path=\"url(#clip480)\" style=\"stroke:#000000; stroke-linecap:round; stroke-linejoin:round; stroke-width:4; stroke-opacity:1; fill:none\" points=\"219.38,1030.88 238.278,1030.88 \"/>\n<polyline clip-path=\"url(#clip480)\" style=\"stroke:#000000; stroke-linecap:round; stroke-linejoin:round; stroke-width:4; stroke-opacity:1; fill:none\" points=\"219.38,668.119 238.278,668.119 \"/>\n<polyline clip-path=\"url(#clip480)\" style=\"stroke:#000000; stroke-linecap:round; stroke-linejoin:round; stroke-width:4; stroke-opacity:1; fill:none\" points=\"219.38,305.36 238.278,305.36 \"/>\n<path clip-path=\"url(#clip480)\" d=\"M126.205 1379.44 Q122.593 1379.44 120.765 1383 Q118.959 1386.54 118.959 1393.67 Q118.959 1400.78 120.765 1404.34 Q122.593 1407.89 126.205 1407.89 Q129.839 1407.89 131.644 1404.34 Q133.473 1400.78 133.473 1393.67 Q133.473 1386.54 131.644 1383 Q129.839 1379.44 126.205 1379.44 M126.205 1375.73 Q132.015 1375.73 135.07 1380.34 Q138.149 1384.92 138.149 1393.67 Q138.149 1402.4 135.07 1407.01 Q132.015 1411.59 126.205 1411.59 Q120.394 1411.59 117.316 1407.01 Q114.26 1402.4 114.26 1393.67 Q114.26 1384.92 117.316 1380.34 Q120.394 1375.73 126.205 1375.73 Z\" fill=\"#000000\" fill-rule=\"evenodd\" fill-opacity=\"1\" /><path clip-path=\"url(#clip480)\" d=\"M146.366 1405.04 L151.251 1405.04 L151.251 1410.92 L146.366 1410.92 L146.366 1405.04 Z\" fill=\"#000000\" fill-rule=\"evenodd\" fill-opacity=\"1\" /><path clip-path=\"url(#clip480)\" d=\"M171.436 1379.44 Q167.825 1379.44 165.996 1383 Q164.19 1386.54 164.19 1393.67 Q164.19 1400.78 165.996 1404.34 Q167.825 1407.89 171.436 1407.89 Q175.07 1407.89 176.876 1404.34 Q178.704 1400.78 178.704 1393.67 Q178.704 1386.54 176.876 1383 Q175.07 1379.44 171.436 1379.44 M171.436 1375.73 Q177.246 1375.73 180.301 1380.34 Q183.38 1384.92 183.38 1393.67 Q183.38 1402.4 180.301 1407.01 Q177.246 1411.59 171.436 1411.59 Q165.626 1411.59 162.547 1407.01 Q159.491 1402.4 159.491 1393.67 Q159.491 1384.92 162.547 1380.34 Q165.626 1375.73 171.436 1375.73 Z\" fill=\"#000000\" fill-rule=\"evenodd\" fill-opacity=\"1\" /><path clip-path=\"url(#clip480)\" d=\"M127.2 1016.68 Q123.589 1016.68 121.76 1020.24 Q119.955 1023.78 119.955 1030.91 Q119.955 1038.02 121.76 1041.58 Q123.589 1045.13 127.2 1045.13 Q130.834 1045.13 132.64 1041.58 Q134.468 1038.02 134.468 1030.91 Q134.468 1023.78 132.64 1020.24 Q130.834 1016.68 127.2 1016.68 M127.2 1012.97 Q133.01 1012.97 136.066 1017.58 Q139.144 1022.16 139.144 1030.91 Q139.144 1039.64 136.066 1044.25 Q133.01 1048.83 127.2 1048.83 Q121.39 1048.83 118.311 1044.25 Q115.256 1039.64 115.256 1030.91 Q115.256 1022.16 118.311 1017.58 Q121.39 1012.97 127.2 1012.97 Z\" fill=\"#000000\" fill-rule=\"evenodd\" fill-opacity=\"1\" /><path clip-path=\"url(#clip480)\" d=\"M147.362 1042.28 L152.246 1042.28 L152.246 1048.16 L147.362 1048.16 L147.362 1042.28 Z\" fill=\"#000000\" fill-rule=\"evenodd\" fill-opacity=\"1\" /><path clip-path=\"url(#clip480)\" d=\"M162.477 1013.6 L180.834 1013.6 L180.834 1017.53 L166.76 1017.53 L166.76 1026.01 Q167.778 1025.66 168.797 1025.5 Q169.815 1025.31 170.834 1025.31 Q176.621 1025.31 180.001 1028.48 Q183.38 1031.65 183.38 1037.07 Q183.38 1042.65 179.908 1045.75 Q176.436 1048.83 170.116 1048.83 Q167.94 1048.83 165.672 1048.46 Q163.427 1048.09 161.019 1047.35 L161.019 1042.65 Q163.102 1043.78 165.325 1044.34 Q167.547 1044.89 170.024 1044.89 Q174.028 1044.89 176.366 1042.79 Q178.704 1040.68 178.704 1037.07 Q178.704 1033.46 176.366 1031.35 Q174.028 1029.25 170.024 1029.25 Q168.149 1029.25 166.274 1029.66 Q164.422 1030.08 162.477 1030.96 L162.477 1013.6 Z\" fill=\"#000000\" fill-rule=\"evenodd\" fill-opacity=\"1\" /><path clip-path=\"url(#clip480)\" d=\"M117.015 681.464 L124.654 681.464 L124.654 655.099 L116.343 656.765 L116.343 652.506 L124.607 650.839 L129.283 650.839 L129.283 681.464 L136.922 681.464 L136.922 685.399 L117.015 685.399 L117.015 681.464 Z\" fill=\"#000000\" fill-rule=\"evenodd\" fill-opacity=\"1\" /><path clip-path=\"url(#clip480)\" d=\"M146.366 679.52 L151.251 679.52 L151.251 685.399 L146.366 685.399 L146.366 679.52 Z\" fill=\"#000000\" fill-rule=\"evenodd\" fill-opacity=\"1\" /><path clip-path=\"url(#clip480)\" d=\"M171.436 653.918 Q167.825 653.918 165.996 657.483 Q164.19 661.024 164.19 668.154 Q164.19 675.26 165.996 678.825 Q167.825 682.367 171.436 682.367 Q175.07 682.367 176.876 678.825 Q178.704 675.26 178.704 668.154 Q178.704 661.024 176.876 657.483 Q175.07 653.918 171.436 653.918 M171.436 650.214 Q177.246 650.214 180.301 654.821 Q183.38 659.404 183.38 668.154 Q183.38 676.881 180.301 681.487 Q177.246 686.071 171.436 686.071 Q165.626 686.071 162.547 681.487 Q159.491 676.881 159.491 668.154 Q159.491 659.404 162.547 654.821 Q165.626 650.214 171.436 650.214 Z\" fill=\"#000000\" fill-rule=\"evenodd\" fill-opacity=\"1\" /><path clip-path=\"url(#clip480)\" d=\"M118.01 318.705 L125.649 318.705 L125.649 292.339 L117.339 294.006 L117.339 289.747 L125.603 288.08 L130.279 288.08 L130.279 318.705 L137.917 318.705 L137.917 322.64 L118.01 322.64 L118.01 318.705 Z\" fill=\"#000000\" fill-rule=\"evenodd\" fill-opacity=\"1\" /><path clip-path=\"url(#clip480)\" d=\"M147.362 316.76 L152.246 316.76 L152.246 322.64 L147.362 322.64 L147.362 316.76 Z\" fill=\"#000000\" fill-rule=\"evenodd\" fill-opacity=\"1\" /><path clip-path=\"url(#clip480)\" d=\"M162.477 288.08 L180.834 288.08 L180.834 292.015 L166.76 292.015 L166.76 300.487 Q167.778 300.14 168.797 299.978 Q169.815 299.793 170.834 299.793 Q176.621 299.793 180.001 302.964 Q183.38 306.135 183.38 311.552 Q183.38 317.131 179.908 320.233 Q176.436 323.311 170.116 323.311 Q167.94 323.311 165.672 322.941 Q163.427 322.571 161.019 321.83 L161.019 317.131 Q163.102 318.265 165.325 318.821 Q167.547 319.376 170.024 319.376 Q174.028 319.376 176.366 317.27 Q178.704 315.163 178.704 311.552 Q178.704 307.941 176.366 305.835 Q174.028 303.728 170.024 303.728 Q168.149 303.728 166.274 304.145 Q164.422 304.561 162.477 305.441 L162.477 288.08 Z\" fill=\"#000000\" fill-rule=\"evenodd\" fill-opacity=\"1\" /><path clip-path=\"url(#clip480)\" d=\"M67.3143 771.639 Q73.68 774.122 75.6216 776.477 Q77.5631 778.832 77.5631 782.779 L77.5631 787.458 L72.6615 787.458 L72.6615 784.02 Q72.6615 781.601 71.5157 780.265 Q70.3699 778.928 66.1048 777.305 L63.4312 776.254 L28.3562 790.673 L28.3562 784.466 L56.238 773.326 L28.3562 762.186 L28.3562 755.979 L67.3143 771.639 Z\" fill=\"#000000\" fill-rule=\"evenodd\" fill-opacity=\"1\" /><path clip-path=\"url(#clip480)\" d=\"M453.972 28.9478 L453.972 35.9153 Q450.812 34.1734 447.612 33.3227 Q444.452 32.4315 441.211 32.4315 Q433.96 32.4315 429.95 37.0496 Q425.94 41.6271 425.94 49.9314 Q425.94 58.2358 429.95 62.8538 Q433.96 67.4314 441.211 67.4314 Q444.452 67.4314 447.612 66.5807 Q450.812 65.6895 453.972 63.9476 L453.972 70.8341 Q450.853 72.2924 447.49 73.0216 Q444.169 73.7508 440.401 73.7508 Q430.152 73.7508 424.117 67.3098 Q418.081 60.8689 418.081 49.9314 Q418.081 38.832 424.157 32.472 Q430.274 26.1121 440.887 26.1121 Q444.331 26.1121 447.612 26.8413 Q450.893 27.5299 453.972 28.9478 Z\" fill=\"#000000\" fill-rule=\"evenodd\" fill-opacity=\"1\" /><path clip-path=\"url(#clip480)\" d=\"M484.516 32.4315 Q478.52 32.4315 475.036 37.1306 Q471.553 41.7891 471.553 49.9314 Q471.553 58.0738 474.996 62.7728 Q478.48 67.4314 484.516 67.4314 Q490.47 67.4314 493.954 62.7323 Q497.438 58.0333 497.438 49.9314 Q497.438 41.8701 493.954 37.1711 Q490.47 32.4315 484.516 32.4315 M484.516 26.1121 Q494.238 26.1121 499.788 32.4315 Q505.337 38.7509 505.337 49.9314 Q505.337 61.0714 499.788 67.4314 Q494.238 73.7508 484.516 73.7508 Q474.753 73.7508 469.203 67.4314 Q463.694 61.0714 463.694 49.9314 Q463.694 38.7509 469.203 32.4315 Q474.753 26.1121 484.516 26.1121 Z\" fill=\"#000000\" fill-rule=\"evenodd\" fill-opacity=\"1\" /><path clip-path=\"url(#clip480)\" d=\"M553.016 35.9153 Q555.812 30.8922 559.7 28.5022 Q563.589 26.1121 568.855 26.1121 Q575.945 26.1121 579.793 31.0947 Q583.641 36.0368 583.641 45.1919 L583.641 72.576 L576.147 72.576 L576.147 45.4349 Q576.147 38.913 573.838 35.7533 Q571.529 32.5936 566.789 32.5936 Q560.997 32.5936 557.634 36.4419 Q554.272 40.2903 554.272 46.9338 L554.272 72.576 L546.778 72.576 L546.778 45.4349 Q546.778 38.8725 544.469 35.7533 Q542.16 32.5936 537.339 32.5936 Q531.628 32.5936 528.265 36.4824 Q524.903 40.3308 524.903 46.9338 L524.903 72.576 L517.409 72.576 L517.409 27.2059 L524.903 27.2059 L524.903 34.2544 Q527.455 30.082 531.02 28.0971 Q534.585 26.1121 539.486 26.1121 Q544.428 26.1121 547.872 28.6237 Q551.356 31.1352 553.016 35.9153 Z\" fill=\"#000000\" fill-rule=\"evenodd\" fill-opacity=\"1\" /><path clip-path=\"url(#clip480)\" d=\"M605.719 65.7705 L605.719 89.8329 L598.224 89.8329 L598.224 27.2059 L605.719 27.2059 L605.719 34.0924 Q608.068 30.0415 611.633 28.0971 Q615.238 26.1121 620.221 26.1121 Q628.485 26.1121 633.629 32.6746 Q638.815 39.2371 638.815 49.9314 Q638.815 60.6258 633.629 67.1883 Q628.485 73.7508 620.221 73.7508 Q615.238 73.7508 611.633 71.8063 Q608.068 69.8214 605.719 65.7705 M631.077 49.9314 Q631.077 41.7081 627.675 37.0496 Q624.312 32.3505 618.398 32.3505 Q612.484 32.3505 609.081 37.0496 Q605.719 41.7081 605.719 49.9314 Q605.719 58.1548 609.081 62.8538 Q612.484 67.5124 618.398 67.5124 Q624.312 67.5124 627.675 62.8538 Q631.077 58.1548 631.077 49.9314 Z\" fill=\"#000000\" fill-rule=\"evenodd\" fill-opacity=\"1\" /><path clip-path=\"url(#clip480)\" d=\"M671.789 49.7694 Q662.755 49.7694 659.272 51.8354 Q655.788 53.9013 655.788 58.8839 Q655.788 62.8538 658.38 65.2034 Q661.014 67.5124 665.51 67.5124 Q671.708 67.5124 675.435 63.1374 Q679.202 58.7219 679.202 51.4303 L679.202 49.7694 L671.789 49.7694 M686.656 46.6907 L686.656 72.576 L679.202 72.576 L679.202 65.6895 Q676.65 69.8214 672.842 71.8063 Q669.034 73.7508 663.525 73.7508 Q656.558 73.7508 652.426 69.8619 Q648.334 65.9325 648.334 59.3701 Q648.334 51.7138 653.438 47.825 Q658.583 43.9361 668.751 43.9361 L679.202 43.9361 L679.202 43.2069 Q679.202 38.0623 675.799 35.2672 Q672.437 32.4315 666.32 32.4315 Q662.431 32.4315 658.745 33.3632 Q655.059 34.295 651.656 36.1584 L651.656 29.2718 Q655.747 27.692 659.596 26.9223 Q663.444 26.1121 667.09 26.1121 Q676.934 26.1121 681.795 31.2163 Q686.656 36.3204 686.656 46.6907 Z\" fill=\"#000000\" fill-rule=\"evenodd\" fill-opacity=\"1\" /><path clip-path=\"url(#clip480)\" d=\"M728.299 34.1734 Q727.043 33.4443 725.544 33.1202 Q724.086 32.7556 722.304 32.7556 Q715.984 32.7556 712.582 36.8875 Q709.219 40.9789 709.219 48.6757 L709.219 72.576 L701.725 72.576 L701.725 27.2059 L709.219 27.2059 L709.219 34.2544 Q711.569 30.1225 715.336 28.1376 Q719.103 26.1121 724.491 26.1121 Q725.261 26.1121 726.193 26.2337 Q727.124 26.3147 728.259 26.5172 L728.299 34.1734 Z\" fill=\"#000000\" fill-rule=\"evenodd\" fill-opacity=\"1\" /><path clip-path=\"url(#clip480)\" d=\"M736.117 27.2059 L743.571 27.2059 L743.571 72.576 L736.117 72.576 L736.117 27.2059 M736.117 9.54393 L743.571 9.54393 L743.571 18.9825 L736.117 18.9825 L736.117 9.54393 Z\" fill=\"#000000\" fill-rule=\"evenodd\" fill-opacity=\"1\" /><path clip-path=\"url(#clip480)\" d=\"M788.09 28.5427 L788.09 35.5912 Q784.931 33.9709 781.528 33.1607 Q778.125 32.3505 774.479 32.3505 Q768.93 32.3505 766.134 34.0519 Q763.38 35.7533 763.38 39.156 Q763.38 41.7486 765.365 43.2475 Q767.35 44.7058 773.345 46.0426 L775.897 46.6097 Q783.837 48.3111 787.159 51.4303 Q790.521 54.509 790.521 60.0587 Q790.521 66.3781 785.498 70.0644 Q780.515 73.7508 771.765 73.7508 Q768.119 73.7508 764.15 73.0216 Q760.22 72.3329 755.845 70.9151 L755.845 63.2184 Q759.977 65.3654 763.987 66.4591 Q767.998 67.5124 771.927 67.5124 Q777.193 67.5124 780.029 65.73 Q782.865 63.9071 782.865 60.6258 Q782.865 57.5877 780.799 55.9673 Q778.773 54.3469 771.846 52.8481 L769.254 52.2405 Q762.327 50.7821 759.248 47.7845 Q756.169 44.7463 756.169 39.4801 Q756.169 33.0797 760.706 29.5959 Q765.243 26.1121 773.588 26.1121 Q777.72 26.1121 781.366 26.7198 Q785.012 27.3274 788.09 28.5427 Z\" fill=\"#000000\" fill-rule=\"evenodd\" fill-opacity=\"1\" /><path clip-path=\"url(#clip480)\" d=\"M819.971 32.4315 Q813.976 32.4315 810.492 37.1306 Q807.008 41.7891 807.008 49.9314 Q807.008 58.0738 810.451 62.7728 Q813.935 67.4314 819.971 67.4314 Q825.926 67.4314 829.41 62.7323 Q832.893 58.0333 832.893 49.9314 Q832.893 41.8701 829.41 37.1711 Q825.926 32.4315 819.971 32.4315 M819.971 26.1121 Q829.693 26.1121 835.243 32.4315 Q840.793 38.7509 840.793 49.9314 Q840.793 61.0714 835.243 67.4314 Q829.693 73.7508 819.971 73.7508 Q810.208 73.7508 804.659 67.4314 Q799.149 61.0714 799.149 49.9314 Q799.149 38.7509 804.659 32.4315 Q810.208 26.1121 819.971 26.1121 Z\" fill=\"#000000\" fill-rule=\"evenodd\" fill-opacity=\"1\" /><path clip-path=\"url(#clip480)\" d=\"M890.862 45.1919 L890.862 72.576 L883.408 72.576 L883.408 45.4349 Q883.408 38.994 880.897 35.7938 Q878.385 32.5936 873.362 32.5936 Q867.326 32.5936 863.842 36.4419 Q860.359 40.2903 860.359 46.9338 L860.359 72.576 L852.864 72.576 L852.864 27.2059 L860.359 27.2059 L860.359 34.2544 Q863.032 30.163 866.637 28.1376 Q870.283 26.1121 875.023 26.1121 Q882.841 26.1121 886.851 30.9732 Q890.862 35.7938 890.862 45.1919 Z\" fill=\"#000000\" fill-rule=\"evenodd\" fill-opacity=\"1\" /><path clip-path=\"url(#clip480)\" d=\"M949.681 32.4315 Q943.686 32.4315 940.202 37.1306 Q936.718 41.7891 936.718 49.9314 Q936.718 58.0738 940.161 62.7728 Q943.645 67.4314 949.681 67.4314 Q955.636 67.4314 959.12 62.7323 Q962.603 58.0333 962.603 49.9314 Q962.603 41.8701 959.12 37.1711 Q955.636 32.4315 949.681 32.4315 M949.681 26.1121 Q959.403 26.1121 964.953 32.4315 Q970.503 38.7509 970.503 49.9314 Q970.503 61.0714 964.953 67.4314 Q959.403 73.7508 949.681 73.7508 Q939.918 73.7508 934.369 67.4314 Q928.859 61.0714 928.859 49.9314 Q928.859 38.7509 934.369 32.4315 Q939.918 26.1121 949.681 26.1121 Z\" fill=\"#000000\" fill-rule=\"evenodd\" fill-opacity=\"1\" /><path clip-path=\"url(#clip480)\" d=\"M1005.83 9.54393 L1005.83 15.7418 L998.697 15.7418 Q994.686 15.7418 993.107 17.3622 Q991.567 18.9825 991.567 23.1955 L991.567 27.2059 L1003.84 27.2059 L1003.84 32.9987 L991.567 32.9987 L991.567 72.576 L984.073 72.576 L984.073 32.9987 L976.944 32.9987 L976.944 27.2059 L984.073 27.2059 L984.073 24.0462 Q984.073 16.471 987.597 13.0277 Q991.122 9.54393 998.778 9.54393 L1005.83 9.54393 Z\" fill=\"#000000\" fill-rule=\"evenodd\" fill-opacity=\"1\" /><path clip-path=\"url(#clip480)\" d=\"M1076.15 45.1919 L1076.15 72.576 L1068.7 72.576 L1068.7 45.4349 Q1068.7 38.994 1066.18 35.7938 Q1063.67 32.5936 1058.65 32.5936 Q1052.61 32.5936 1049.13 36.4419 Q1045.65 40.2903 1045.65 46.9338 L1045.65 72.576 L1038.15 72.576 L1038.15 9.54393 L1045.65 9.54393 L1045.65 34.2544 Q1048.32 30.163 1051.93 28.1376 Q1055.57 26.1121 1060.31 26.1121 Q1068.13 26.1121 1072.14 30.9732 Q1076.15 35.7938 1076.15 45.1919 Z\" fill=\"#000000\" fill-rule=\"evenodd\" fill-opacity=\"1\" /><path clip-path=\"url(#clip480)\" d=\"M1109.89 76.7889 Q1106.73 84.8907 1103.74 87.3618 Q1100.74 89.8329 1095.72 89.8329 L1089.76 89.8329 L1089.76 83.5945 L1094.14 83.5945 Q1097.21 83.5945 1098.92 82.1361 Q1100.62 80.6778 1102.68 75.2496 L1104.02 71.8468 L1085.67 27.2059 L1093.57 27.2059 L1107.75 62.6918 L1121.93 27.2059 L1129.82 27.2059 L1109.89 76.7889 Z\" fill=\"#000000\" fill-rule=\"evenodd\" fill-opacity=\"1\" /><path clip-path=\"url(#clip480)\" d=\"M1147.32 65.7705 L1147.32 89.8329 L1139.83 89.8329 L1139.83 27.2059 L1147.32 27.2059 L1147.32 34.0924 Q1149.67 30.0415 1153.24 28.0971 Q1156.84 26.1121 1161.83 26.1121 Q1170.09 26.1121 1175.24 32.6746 Q1180.42 39.2371 1180.42 49.9314 Q1180.42 60.6258 1175.24 67.1883 Q1170.09 73.7508 1161.83 73.7508 Q1156.84 73.7508 1153.24 71.8063 Q1149.67 69.8214 1147.32 65.7705 M1172.68 49.9314 Q1172.68 41.7081 1169.28 37.0496 Q1165.92 32.3505 1160 32.3505 Q1154.09 32.3505 1150.69 37.0496 Q1147.32 41.7081 1147.32 49.9314 Q1147.32 58.1548 1150.69 62.8538 Q1154.09 67.5124 1160 67.5124 Q1165.92 67.5124 1169.28 62.8538 Q1172.68 58.1548 1172.68 49.9314 Z\" fill=\"#000000\" fill-rule=\"evenodd\" fill-opacity=\"1\" /><path clip-path=\"url(#clip480)\" d=\"M1231.58 48.0275 L1231.58 51.6733 L1197.31 51.6733 Q1197.8 59.3701 1201.93 63.421 Q1206.1 67.4314 1213.52 67.4314 Q1217.81 67.4314 1221.82 66.3781 Q1225.87 65.3249 1229.84 63.2184 L1229.84 70.267 Q1225.83 71.9684 1221.62 72.8596 Q1217.41 73.7508 1213.07 73.7508 Q1202.21 73.7508 1195.85 67.4314 Q1189.53 61.1119 1189.53 50.3365 Q1189.53 39.1965 1195.53 32.6746 Q1201.57 26.1121 1211.77 26.1121 Q1220.93 26.1121 1226.24 32.0264 Q1231.58 37.9003 1231.58 48.0275 M1224.13 45.84 Q1224.05 39.7232 1220.69 36.0774 Q1217.36 32.4315 1211.86 32.4315 Q1205.62 32.4315 1201.85 35.9558 Q1198.12 39.4801 1197.56 45.8805 L1224.13 45.84 Z\" fill=\"#000000\" fill-rule=\"evenodd\" fill-opacity=\"1\" /><path clip-path=\"url(#clip480)\" d=\"M1270.11 34.1734 Q1268.85 33.4443 1267.35 33.1202 Q1265.89 32.7556 1264.11 32.7556 Q1257.79 32.7556 1254.39 36.8875 Q1251.03 40.9789 1251.03 48.6757 L1251.03 72.576 L1243.53 72.576 L1243.53 27.2059 L1251.03 27.2059 L1251.03 34.2544 Q1253.38 30.1225 1257.14 28.1376 Q1260.91 26.1121 1266.3 26.1121 Q1267.07 26.1121 1268 26.2337 Q1268.93 26.3147 1270.07 26.5172 L1270.11 34.1734 Z\" fill=\"#000000\" fill-rule=\"evenodd\" fill-opacity=\"1\" /><path clip-path=\"url(#clip480)\" d=\"M1310.49 49.9314 Q1310.49 41.7081 1307.09 37.0496 Q1303.73 32.3505 1297.82 32.3505 Q1291.9 32.3505 1288.5 37.0496 Q1285.14 41.7081 1285.14 49.9314 Q1285.14 58.1548 1288.5 62.8538 Q1291.9 67.5124 1297.82 67.5124 Q1303.73 67.5124 1307.09 62.8538 Q1310.49 58.1548 1310.49 49.9314 M1285.14 34.0924 Q1287.49 30.0415 1291.05 28.0971 Q1294.66 26.1121 1299.64 26.1121 Q1307.9 26.1121 1313.05 32.6746 Q1318.23 39.2371 1318.23 49.9314 Q1318.23 60.6258 1313.05 67.1883 Q1307.9 73.7508 1299.64 73.7508 Q1294.66 73.7508 1291.05 71.8063 Q1287.49 69.8214 1285.14 65.7705 L1285.14 72.576 L1277.64 72.576 L1277.64 9.54393 L1285.14 9.54393 L1285.14 34.0924 Z\" fill=\"#000000\" fill-rule=\"evenodd\" fill-opacity=\"1\" /><path clip-path=\"url(#clip480)\" d=\"M1348.17 32.4315 Q1342.17 32.4315 1338.69 37.1306 Q1335.21 41.7891 1335.21 49.9314 Q1335.21 58.0738 1338.65 62.7728 Q1342.13 67.4314 1348.17 67.4314 Q1354.12 67.4314 1357.61 62.7323 Q1361.09 58.0333 1361.09 49.9314 Q1361.09 41.8701 1357.61 37.1711 Q1354.12 32.4315 1348.17 32.4315 M1348.17 26.1121 Q1357.89 26.1121 1363.44 32.4315 Q1368.99 38.7509 1368.99 49.9314 Q1368.99 61.0714 1363.44 67.4314 Q1357.89 73.7508 1348.17 73.7508 Q1338.41 73.7508 1332.86 67.4314 Q1327.35 61.0714 1327.35 49.9314 Q1327.35 38.7509 1332.86 32.4315 Q1338.41 26.1121 1348.17 26.1121 Z\" fill=\"#000000\" fill-rule=\"evenodd\" fill-opacity=\"1\" /><path clip-path=\"url(#clip480)\" d=\"M1381.35 9.54393 L1388.8 9.54393 L1388.8 72.576 L1381.35 72.576 L1381.35 9.54393 Z\" fill=\"#000000\" fill-rule=\"evenodd\" fill-opacity=\"1\" /><path clip-path=\"url(#clip480)\" d=\"M1404.39 27.2059 L1411.85 27.2059 L1411.85 72.576 L1404.39 72.576 L1404.39 27.2059 M1404.39 9.54393 L1411.85 9.54393 L1411.85 18.9825 L1404.39 18.9825 L1404.39 9.54393 Z\" fill=\"#000000\" fill-rule=\"evenodd\" fill-opacity=\"1\" /><path clip-path=\"url(#clip480)\" d=\"M1460.09 28.9478 L1460.09 35.9153 Q1456.94 34.1734 1453.73 33.3227 Q1450.58 32.4315 1447.33 32.4315 Q1440.08 32.4315 1436.07 37.0496 Q1432.06 41.6271 1432.06 49.9314 Q1432.06 58.2358 1436.07 62.8538 Q1440.08 67.4314 1447.33 67.4314 Q1450.58 67.4314 1453.73 66.5807 Q1456.94 65.6895 1460.09 63.9476 L1460.09 70.8341 Q1456.98 72.2924 1453.61 73.0216 Q1450.29 73.7508 1446.52 73.7508 Q1436.28 73.7508 1430.24 67.3098 Q1424.2 60.8689 1424.2 49.9314 Q1424.2 38.832 1430.28 32.472 Q1436.4 26.1121 1447.01 26.1121 Q1450.45 26.1121 1453.73 26.8413 Q1457.02 27.5299 1460.09 28.9478 Z\" fill=\"#000000\" fill-rule=\"evenodd\" fill-opacity=\"1\" /><path clip-path=\"url(#clip480)\" d=\"M1520.05 49.7694 Q1511.01 49.7694 1507.53 51.8354 Q1504.05 53.9013 1504.05 58.8839 Q1504.05 62.8538 1506.64 65.2034 Q1509.27 67.5124 1513.77 67.5124 Q1519.97 67.5124 1523.69 63.1374 Q1527.46 58.7219 1527.46 51.4303 L1527.46 49.7694 L1520.05 49.7694 M1534.92 46.6907 L1534.92 72.576 L1527.46 72.576 L1527.46 65.6895 Q1524.91 69.8214 1521.1 71.8063 Q1517.29 73.7508 1511.78 73.7508 Q1504.82 73.7508 1500.68 69.8619 Q1496.59 65.9325 1496.59 59.3701 Q1496.59 51.7138 1501.7 47.825 Q1506.84 43.9361 1517.01 43.9361 L1527.46 43.9361 L1527.46 43.2069 Q1527.46 38.0623 1524.06 35.2672 Q1520.7 32.4315 1514.58 32.4315 Q1510.69 32.4315 1507 33.3632 Q1503.32 34.295 1499.92 36.1584 L1499.92 29.2718 Q1504.01 27.692 1507.86 26.9223 Q1511.7 26.1121 1515.35 26.1121 Q1525.19 26.1121 1530.05 31.2163 Q1534.92 36.3204 1534.92 46.6907 Z\" fill=\"#000000\" fill-rule=\"evenodd\" fill-opacity=\"1\" /><path clip-path=\"url(#clip480)\" d=\"M1587.98 45.1919 L1587.98 72.576 L1580.53 72.576 L1580.53 45.4349 Q1580.53 38.994 1578.02 35.7938 Q1575.51 32.5936 1570.48 32.5936 Q1564.45 32.5936 1560.96 36.4419 Q1557.48 40.2903 1557.48 46.9338 L1557.48 72.576 L1549.98 72.576 L1549.98 27.2059 L1557.48 27.2059 L1557.48 34.2544 Q1560.15 30.163 1563.76 28.1376 Q1567.4 26.1121 1572.14 26.1121 Q1579.96 26.1121 1583.97 30.9732 Q1587.98 35.7938 1587.98 45.1919 Z\" fill=\"#000000\" fill-rule=\"evenodd\" fill-opacity=\"1\" /><path clip-path=\"url(#clip480)\" d=\"M1632.7 34.0924 L1632.7 9.54393 L1640.16 9.54393 L1640.16 72.576 L1632.7 72.576 L1632.7 65.7705 Q1630.35 69.8214 1626.75 71.8063 Q1623.18 73.7508 1618.16 73.7508 Q1609.94 73.7508 1604.75 67.1883 Q1599.61 60.6258 1599.61 49.9314 Q1599.61 39.2371 1604.75 32.6746 Q1609.94 26.1121 1618.16 26.1121 Q1623.18 26.1121 1626.75 28.0971 Q1630.35 30.0415 1632.7 34.0924 M1607.3 49.9314 Q1607.3 58.1548 1610.67 62.8538 Q1614.07 67.5124 1619.98 67.5124 Q1625.9 67.5124 1629.3 62.8538 Q1632.7 58.1548 1632.7 49.9314 Q1632.7 41.7081 1629.3 37.0496 Q1625.9 32.3505 1619.98 32.3505 Q1614.07 32.3505 1610.67 37.0496 Q1607.3 41.7081 1607.3 49.9314 Z\" fill=\"#000000\" fill-rule=\"evenodd\" fill-opacity=\"1\" /><path clip-path=\"url(#clip480)\" d=\"M1720.69 48.0275 L1720.69 51.6733 L1686.42 51.6733 Q1686.91 59.3701 1691.04 63.421 Q1695.21 67.4314 1702.62 67.4314 Q1706.92 67.4314 1710.93 66.3781 Q1714.98 65.3249 1718.95 63.2184 L1718.95 70.267 Q1714.94 71.9684 1710.72 72.8596 Q1706.51 73.7508 1702.18 73.7508 Q1691.32 73.7508 1684.96 67.4314 Q1678.64 61.1119 1678.64 50.3365 Q1678.64 39.1965 1684.64 32.6746 Q1690.67 26.1121 1700.88 26.1121 Q1710.04 26.1121 1715.34 32.0264 Q1720.69 37.9003 1720.69 48.0275 M1713.24 45.84 Q1713.15 39.7232 1709.79 36.0774 Q1706.47 32.4315 1700.96 32.4315 Q1694.72 32.4315 1690.96 35.9558 Q1687.23 39.4801 1686.66 45.8805 L1713.24 45.84 Z\" fill=\"#000000\" fill-rule=\"evenodd\" fill-opacity=\"1\" /><path clip-path=\"url(#clip480)\" d=\"M1769.18 27.2059 L1752.77 49.2833 L1770.03 72.576 L1761.24 72.576 L1748.03 54.752 L1734.83 72.576 L1726.04 72.576 L1743.66 48.8377 L1727.54 27.2059 L1736.33 27.2059 L1748.36 43.369 L1760.39 27.2059 L1769.18 27.2059 Z\" fill=\"#000000\" fill-rule=\"evenodd\" fill-opacity=\"1\" /><path clip-path=\"url(#clip480)\" d=\"M1787.77 65.7705 L1787.77 89.8329 L1780.28 89.8329 L1780.28 27.2059 L1787.77 27.2059 L1787.77 34.0924 Q1790.12 30.0415 1793.69 28.0971 Q1797.29 26.1121 1802.27 26.1121 Q1810.54 26.1121 1815.68 32.6746 Q1820.87 39.2371 1820.87 49.9314 Q1820.87 60.6258 1815.68 67.1883 Q1810.54 73.7508 1802.27 73.7508 Q1797.29 73.7508 1793.69 71.8063 Q1790.12 69.8214 1787.77 65.7705 M1813.13 49.9314 Q1813.13 41.7081 1809.73 37.0496 Q1806.37 32.3505 1800.45 32.3505 Q1794.54 32.3505 1791.13 37.0496 Q1787.77 41.7081 1787.77 49.9314 Q1787.77 58.1548 1791.13 62.8538 Q1794.54 67.5124 1800.45 67.5124 Q1806.37 67.5124 1809.73 62.8538 Q1813.13 58.1548 1813.13 49.9314 Z\" fill=\"#000000\" fill-rule=\"evenodd\" fill-opacity=\"1\" /><path clip-path=\"url(#clip480)\" d=\"M1850.8 32.4315 Q1844.81 32.4315 1841.33 37.1306 Q1837.84 41.7891 1837.84 49.9314 Q1837.84 58.0738 1841.28 62.7728 Q1844.77 67.4314 1850.8 67.4314 Q1856.76 67.4314 1860.24 62.7323 Q1863.73 58.0333 1863.73 49.9314 Q1863.73 41.8701 1860.24 37.1711 Q1856.76 32.4315 1850.8 32.4315 M1850.8 26.1121 Q1860.53 26.1121 1866.08 32.4315 Q1871.63 38.7509 1871.63 49.9314 Q1871.63 61.0714 1866.08 67.4314 Q1860.53 73.7508 1850.8 73.7508 Q1841.04 73.7508 1835.49 67.4314 Q1829.98 61.0714 1829.98 49.9314 Q1829.98 38.7509 1835.49 32.4315 Q1841.04 26.1121 1850.8 26.1121 Z\" fill=\"#000000\" fill-rule=\"evenodd\" fill-opacity=\"1\" /><path clip-path=\"url(#clip480)\" d=\"M1921.7 45.1919 L1921.7 72.576 L1914.24 72.576 L1914.24 45.4349 Q1914.24 38.994 1911.73 35.7938 Q1909.22 32.5936 1904.2 32.5936 Q1898.16 32.5936 1894.68 36.4419 Q1891.19 40.2903 1891.19 46.9338 L1891.19 72.576 L1883.7 72.576 L1883.7 27.2059 L1891.19 27.2059 L1891.19 34.2544 Q1893.87 30.163 1897.47 28.1376 Q1901.12 26.1121 1905.86 26.1121 Q1913.67 26.1121 1917.69 30.9732 Q1921.7 35.7938 1921.7 45.1919 Z\" fill=\"#000000\" fill-rule=\"evenodd\" fill-opacity=\"1\" /><path clip-path=\"url(#clip480)\" d=\"M1975.37 48.0275 L1975.37 51.6733 L1941.1 51.6733 Q1941.59 59.3701 1945.72 63.421 Q1949.89 67.4314 1957.3 67.4314 Q1961.6 67.4314 1965.61 66.3781 Q1969.66 65.3249 1973.63 63.2184 L1973.63 70.267 Q1969.62 71.9684 1965.4 72.8596 Q1961.19 73.7508 1956.86 73.7508 Q1946 73.7508 1939.64 67.4314 Q1933.32 61.1119 1933.32 50.3365 Q1933.32 39.1965 1939.32 32.6746 Q1945.35 26.1121 1955.56 26.1121 Q1964.72 26.1121 1970.02 32.0264 Q1975.37 37.9003 1975.37 48.0275 M1967.92 45.84 Q1967.84 39.7232 1964.47 36.0774 Q1961.15 32.4315 1955.64 32.4315 Q1949.4 32.4315 1945.64 35.9558 Q1941.91 39.4801 1941.34 45.8805 L1967.92 45.84 Z\" fill=\"#000000\" fill-rule=\"evenodd\" fill-opacity=\"1\" /><path clip-path=\"url(#clip480)\" d=\"M2025.32 45.1919 L2025.32 72.576 L2017.86 72.576 L2017.86 45.4349 Q2017.86 38.994 2015.35 35.7938 Q2012.84 32.5936 2007.82 32.5936 Q2001.78 32.5936 1998.3 36.4419 Q1994.81 40.2903 1994.81 46.9338 L1994.81 72.576 L1987.32 72.576 L1987.32 27.2059 L1994.81 27.2059 L1994.81 34.2544 Q1997.49 30.163 2001.09 28.1376 Q2004.74 26.1121 2009.48 26.1121 Q2017.3 26.1121 2021.31 30.9732 Q2025.32 35.7938 2025.32 45.1919 Z\" fill=\"#000000\" fill-rule=\"evenodd\" fill-opacity=\"1\" /><path clip-path=\"url(#clip480)\" d=\"M2047.56 14.324 L2047.56 27.2059 L2062.91 27.2059 L2062.91 32.9987 L2047.56 32.9987 L2047.56 57.6282 Q2047.56 63.1779 2049.06 64.7578 Q2050.6 66.3376 2055.25 66.3376 L2062.91 66.3376 L2062.91 72.576 L2055.25 72.576 Q2046.63 72.576 2043.34 69.3758 Q2040.06 66.1351 2040.06 57.6282 L2040.06 32.9987 L2034.59 32.9987 L2034.59 27.2059 L2040.06 27.2059 L2040.06 14.324 L2047.56 14.324 Z\" fill=\"#000000\" fill-rule=\"evenodd\" fill-opacity=\"1\" /><path clip-path=\"url(#clip480)\" d=\"M2072.71 27.2059 L2080.17 27.2059 L2080.17 72.576 L2072.71 72.576 L2072.71 27.2059 M2072.71 9.54393 L2080.17 9.54393 L2080.17 18.9825 L2072.71 18.9825 L2072.71 9.54393 Z\" fill=\"#000000\" fill-rule=\"evenodd\" fill-opacity=\"1\" /><path clip-path=\"url(#clip480)\" d=\"M2116.38 49.7694 Q2107.35 49.7694 2103.86 51.8354 Q2100.38 53.9013 2100.38 58.8839 Q2100.38 62.8538 2102.97 65.2034 Q2105.61 67.5124 2110.1 67.5124 Q2116.3 67.5124 2120.03 63.1374 Q2123.8 58.7219 2123.8 51.4303 L2123.8 49.7694 L2116.38 49.7694 M2131.25 46.6907 L2131.25 72.576 L2123.8 72.576 L2123.8 65.6895 Q2121.24 69.8214 2117.44 71.8063 Q2113.63 73.7508 2108.12 73.7508 Q2101.15 73.7508 2097.02 69.8619 Q2092.93 65.9325 2092.93 59.3701 Q2092.93 51.7138 2098.03 47.825 Q2103.18 43.9361 2113.34 43.9361 L2123.8 43.9361 L2123.8 43.2069 Q2123.8 38.0623 2120.39 35.2672 Q2117.03 32.4315 2110.91 32.4315 Q2107.02 32.4315 2103.34 33.3632 Q2099.65 34.295 2096.25 36.1584 L2096.25 29.2718 Q2100.34 27.692 2104.19 26.9223 Q2108.04 26.1121 2111.68 26.1121 Q2121.53 26.1121 2126.39 31.2163 Q2131.25 36.3204 2131.25 46.6907 Z\" fill=\"#000000\" fill-rule=\"evenodd\" fill-opacity=\"1\" /><path clip-path=\"url(#clip480)\" d=\"M2146.6 9.54393 L2154.06 9.54393 L2154.06 72.576 L2146.6 72.576 L2146.6 9.54393 Z\" fill=\"#000000\" fill-rule=\"evenodd\" fill-opacity=\"1\" /><polyline clip-path=\"url(#clip482)\" style=\"stroke:#009af9; stroke-linecap:round; stroke-linejoin:round; stroke-width:4; stroke-opacity:1; fill:none\" points=\"279.759,668.119 281.792,734.076 283.825,789.039 285.858,835.547 287.891,875.41 289.923,909.959 291.956,940.189 293.989,966.862 296.022,990.572 298.055,1011.79 300.088,1030.88 302.121,1048.15 304.154,1063.86 306.187,1078.19 308.22,1091.34 310.253,1103.43 312.286,1114.59 314.319,1124.93 316.352,1134.52 318.385,1143.46 320.418,1151.8 322.451,1159.6 324.484,1166.91 326.517,1173.78 328.549,1180.25 330.582,1186.35 332.615,1192.1 334.648,1197.55 336.681,1202.71 338.714,1207.61 340.747,1212.26 342.78,1216.68 344.813,1220.9 346.846,1224.91 348.879,1228.75 350.912,1232.41 352.945,1235.92 354.978,1239.27 357.011,1242.49 359.044,1245.57 361.077,1248.53 363.11,1251.38 365.143,1254.12 367.175,1256.75 369.208,1259.28 371.241,1261.73 373.274,1264.08 375.307,1266.35 377.34,1268.55 379.373,1270.67 381.406,1272.72 383.439,1274.7 385.472,1276.62 387.505,1278.48 389.538,1280.28 391.571,1282.02 393.604,1283.71 395.637,1285.35 397.67,1286.94 399.703,1288.49 401.736,1289.99 403.769,1291.45 405.801,1292.87 407.834,1294.25 409.867,1295.59 411.9,1296.9 413.933,1298.17 415.966,1299.41 417.999,1300.62 420.032,1301.8 422.065,1302.95 424.098,1304.07 426.131,1305.16 428.164,1306.23 430.197,1307.27 432.23,1308.28 434.263,1309.28 436.296,1310.24 438.329,1311.19 440.362,1312.12 442.395,1313.02 444.428,1313.91 446.46,1314.78 448.493,1315.63 450.526,1316.45 452.559,1317.27 454.592,1318.06 456.625,1318.84 458.658,1319.61 460.691,1320.35 462.724,1321.09 464.757,1321.8 466.79,1322.51 468.823,1323.2 470.856,1323.88 472.889,1324.54 474.922,1325.19 476.955,1325.83 478.988,1326.46 481.021,1327.08 483.054,1327.68 485.086,1328.28 487.119,1328.86 489.152,1329.43 491.185,1330 493.218,1330.55 495.251,1331.09 497.284,1331.63 499.317,1332.15 501.35,1332.67 503.383,1333.18 505.416,1333.68 507.449,1334.17 509.482,1334.65 511.515,1335.13 513.548,1335.6 515.581,1336.06 517.614,1336.51 519.647,1336.96 521.68,1337.4 523.712,1337.83 525.745,1338.25 527.778,1338.67 529.811,1339.09 531.844,1339.49 533.877,1339.9 535.91,1340.29 537.943,1340.68 539.976,1341.06 542.009,1341.44 544.042,1341.82 546.075,1342.18 548.108,1342.54 550.141,1342.9 552.174,1343.25 554.207,1343.6 556.24,1343.94 558.273,1344.28 560.306,1344.62 562.339,1344.95 564.371,1345.27 566.404,1345.59 568.437,1345.91 570.47,1346.22 572.503,1346.53 574.536,1346.83 576.569,1347.13 578.602,1347.43 580.635,1347.72 582.668,1348.01 584.701,1348.29 586.734,1348.57 588.767,1348.85 590.8,1349.13 592.833,1349.4 594.866,1349.67 596.899,1349.93 598.932,1350.19 600.965,1350.45 602.997,1350.71 605.03,1350.96 607.063,1351.21 609.096,1351.46 611.129,1351.7 613.162,1351.94 615.195,1352.18 617.228,1352.42 619.261,1352.65 621.294,1352.88 623.327,1353.11 625.36,1353.33 627.393,1353.55 629.426,1353.77 631.459,1353.99 633.492,1354.21 635.525,1354.42 637.558,1354.63 639.591,1354.84 641.623,1355.05 643.656,1355.25 645.689,1355.45 647.722,1355.65 649.755,1355.85 651.788,1356.05 653.821,1356.24 655.854,1356.43 657.887,1356.62 659.92,1356.81 661.953,1357 663.986,1357.18 666.019,1357.36 668.052,1357.54 670.085,1357.72 672.118,1357.9 674.151,1358.07 676.184,1358.25 678.217,1358.42 680.249,1358.59 682.282,1358.76 684.315,1358.92 686.348,1359.09 688.381,1359.25 690.414,1359.42 692.447,1359.58 694.48,1359.74 696.513,1359.89 698.546,1360.05 700.579,1360.2 702.612,1360.36 704.645,1360.51 706.678,1360.66 708.711,1360.81 710.744,1360.96 712.777,1361.1 714.81,1361.25 716.843,1361.39 718.876,1361.54 720.908,1361.68 722.941,1361.82 724.974,1361.96 727.007,1362.09 729.04,1362.23 731.073,1362.37 733.106,1362.5 735.139,1362.63 737.172,1362.76 739.205,1362.9 741.238,1363.03 743.271,1363.15 745.304,1363.28 747.337,1363.41 749.37,1363.53 751.403,1363.66 753.436,1363.78 755.469,1363.9 757.502,1364.02 759.534,1364.15 761.567,1364.26 763.6,1364.38 765.633,1364.5 767.666,1364.62 769.699,1364.73 771.732,1364.85 773.765,1364.96 775.798,1365.07 777.831,1365.19 779.864,1365.3 781.897,1365.41 783.93,1365.52 785.963,1365.63 787.996,1365.73 790.029,1365.84 792.062,1365.95 794.095,1366.05 796.128,1366.16 798.16,1366.26 800.193,1366.36 802.226,1366.46 804.259,1366.57 806.292,1366.67 808.325,1366.77 810.358,1366.87 812.391,1366.96 814.424,1367.06 816.457,1367.16 818.49,1367.26 820.523,1367.35 822.556,1367.45 824.589,1367.54 826.622,1367.63 828.655,1367.73 830.688,1367.82 832.721,1367.91 834.754,1368 836.786,1368.09 838.819,1368.18 840.852,1368.27 842.885,1368.36 844.918,1368.45 846.951,1368.53 848.984,1368.62 851.017,1368.71 853.05,1368.79 855.083,1368.88 857.116,1368.96 859.149,1369.04 861.182,1369.13 863.215,1369.21 865.248,1369.29 867.281,1369.37 869.314,1369.45 871.347,1369.53 873.38,1369.61 875.413,1369.69 877.445,1369.77 879.478,1369.85 881.511,1369.93 883.544,1370.01 885.577,1370.08 887.61,1370.16 889.643,1370.23 891.676,1370.31 893.709,1370.38 895.742,1370.46 897.775,1370.53 899.808,1370.61 901.841,1370.68 903.874,1370.75 905.907,1370.82 907.94,1370.89 909.973,1370.97 912.006,1371.04 914.039,1371.11 916.071,1371.18 918.104,1371.25 920.137,1371.31 922.17,1371.38 924.203,1371.45 926.236,1371.52 928.269,1371.59 930.302,1371.65 932.335,1371.72 934.368,1371.78 936.401,1371.85 938.434,1371.92 940.467,1371.98 942.5,1372.04 944.533,1372.11 946.566,1372.17 948.599,1372.24 950.632,1372.3 952.665,1372.36 954.697,1372.42 956.73,1372.49 958.763,1372.55 960.796,1372.61 962.829,1372.67 964.862,1372.73 966.895,1372.79 968.928,1372.85 970.961,1372.91 972.994,1372.97 975.027,1373.03 977.06,1373.08 979.093,1373.14 981.126,1373.2 983.159,1373.26 985.192,1373.32 987.225,1373.37 989.258,1373.43 991.291,1373.48 993.324,1373.54 995.356,1373.6 997.389,1373.65 999.422,1373.71 1001.46,1373.76 1003.49,1373.81 1005.52,1373.87 1007.55,1373.92 1009.59,1373.98 1011.62,1374.03 1013.65,1374.08 1015.69,1374.13 1017.72,1374.19 1019.75,1374.24 1021.78,1374.29 1023.82,1374.34 1025.85,1374.39 1027.88,1374.44 1029.92,1374.49 1031.95,1374.55 1033.98,1374.6 1036.02,1374.65 1038.05,1374.69 1040.08,1374.74 1042.11,1374.79 1044.15,1374.84 1046.18,1374.89 1048.21,1374.94 1050.25,1374.99 1052.28,1375.03 1054.31,1375.08 1056.34,1375.13 1058.38,1375.18 1060.41,1375.22 1062.44,1375.27 1064.48,1375.32 1066.51,1375.36 1068.54,1375.41 1070.58,1375.45 1072.61,1375.5 1074.64,1375.55 1076.67,1375.59 1078.71,1375.63 1080.74,1375.68 1082.77,1375.72 1084.81,1375.77 1086.84,1375.81 1088.87,1375.86 1090.91,1375.9 1092.94,1375.94 1094.97,1375.99 1097,1376.03 1099.04,1376.07 1101.07,1376.11 1103.1,1376.16 1105.14,1376.2 1107.17,1376.24 1109.2,1376.28 1111.23,1376.32 1113.27,1376.36 1115.3,1376.4 1117.33,1376.45 1119.37,1376.49 1121.4,1376.53 1123.43,1376.57 1125.47,1376.61 1127.5,1376.65 1129.53,1376.69 1131.56,1376.73 1133.6,1376.77 1135.63,1376.8 1137.66,1376.84 1139.7,1376.88 1141.73,1376.92 1143.76,1376.96 1145.79,1377 1147.83,1377.04 1149.86,1377.07 1151.89,1377.11 1153.93,1377.15 1155.96,1377.19 1157.99,1377.22 1160.03,1377.26 1162.06,1377.3 1164.09,1377.33 1166.12,1377.37 1168.16,1377.41 1170.19,1377.44 1172.22,1377.48 1174.26,1377.52 1176.29,1377.55 1178.32,1377.59 1180.35,1377.62 1182.39,1377.66 1184.42,1377.69 1186.45,1377.73 1188.49,1377.76 1190.52,1377.8 1192.55,1377.83 1194.59,1377.87 1196.62,1377.9 1198.65,1377.93 1200.68,1377.97 1202.72,1378 1204.75,1378.04 1206.78,1378.07 1208.82,1378.1 1210.85,1378.14 1212.88,1378.17 1214.91,1378.2 1216.95,1378.23 1218.98,1378.27 1221.01,1378.3 1223.05,1378.33 1225.08,1378.36 1227.11,1378.4 1229.15,1378.43 1231.18,1378.46 1233.21,1378.49 1235.24,1378.52 1237.28,1378.55 1239.31,1378.59 1241.34,1378.62 1243.38,1378.65 1245.41,1378.68 1247.44,1378.71 1249.47,1378.74 1251.51,1378.77 1253.54,1378.8 1255.57,1378.83 1257.61,1378.86 1259.64,1378.89 1261.67,1378.92 1263.71,1378.95 1265.74,1378.98 1267.77,1379.01 1269.8,1379.04 1271.84,1379.07 1273.87,1379.1 1275.9,1379.13 1277.94,1379.16 1279.97,1379.19 1282,1379.21 1284.04,1379.24 1286.07,1379.27 1288.1,1379.3 1290.13,1379.33 1292.17,1379.36 1294.2,1379.38 1296.23,1379.41 1298.27,1379.44 1300.3,1379.47 1302.33,1379.5 1304.36,1379.52 1306.4,1379.55 1308.43,1379.58 1310.46,1379.6 1312.5,1379.63 1314.53,1379.66 1316.56,1379.69 1318.6,1379.71 1320.63,1379.74 1322.66,1379.77 1324.69,1379.79 1326.73,1379.82 1328.76,1379.84 1330.79,1379.87 1332.83,1379.9 1334.86,1379.92 1336.89,1379.95 1338.92,1379.97 1340.96,1380 1342.99,1380.03 1345.02,1380.05 1347.06,1380.08 1349.09,1380.1 1351.12,1380.13 1353.16,1380.15 1355.19,1380.18 1357.22,1380.2 1359.25,1380.23 1361.29,1380.25 1363.32,1380.28 1365.35,1380.3 1367.39,1380.33 1369.42,1380.35 1371.45,1380.37 1373.48,1380.4 1375.52,1380.42 1377.55,1380.45 1379.58,1380.47 1381.62,1380.49 1383.65,1380.52 1385.68,1380.54 1387.72,1380.57 1389.75,1380.59 1391.78,1380.61 1393.81,1380.64 1395.85,1380.66 1397.88,1380.68 1399.91,1380.71 1401.95,1380.73 1403.98,1380.75 1406.01,1380.77 1408.04,1380.8 1410.08,1380.82 1412.11,1380.84 1414.14,1380.86 1416.18,1380.89 1418.21,1380.91 1420.24,1380.93 1422.28,1380.95 1424.31,1380.98 1426.34,1381 1428.37,1381.02 1430.41,1381.04 1432.44,1381.06 1434.47,1381.09 1436.51,1381.11 1438.54,1381.13 1440.57,1381.15 1442.61,1381.17 1444.64,1381.19 1446.67,1381.21 1448.7,1381.24 1450.74,1381.26 1452.77,1381.28 1454.8,1381.3 1456.84,1381.32 1458.87,1381.34 1460.9,1381.36 1462.93,1381.38 1464.97,1381.4 1467,1381.42 1469.03,1381.44 1471.07,1381.46 1473.1,1381.49 1475.13,1381.51 1477.17,1381.53 1479.2,1381.55 1481.23,1381.57 1483.26,1381.59 1485.3,1381.61 1487.33,1381.63 1489.36,1381.65 1491.4,1381.67 1493.43,1381.69 1495.46,1381.7 1497.49,1381.72 1499.53,1381.74 1501.56,1381.76 1503.59,1381.78 1505.63,1381.8 1507.66,1381.82 1509.69,1381.84 1511.73,1381.86 1513.76,1381.88 1515.79,1381.9 1517.82,1381.92 1519.86,1381.94 1521.89,1381.95 1523.92,1381.97 1525.96,1381.99 1527.99,1382.01 1530.02,1382.03 1532.05,1382.05 1534.09,1382.07 1536.12,1382.08 1538.15,1382.1 1540.19,1382.12 1542.22,1382.14 1544.25,1382.16 1546.29,1382.18 1548.32,1382.19 1550.35,1382.21 1552.38,1382.23 1554.42,1382.25 1556.45,1382.27 1558.48,1382.28 1560.52,1382.3 1562.55,1382.32 1564.58,1382.34 1566.61,1382.35 1568.65,1382.37 1570.68,1382.39 1572.71,1382.41 1574.75,1382.42 1576.78,1382.44 1578.81,1382.46 1580.85,1382.48 1582.88,1382.49 1584.91,1382.51 1586.94,1382.53 1588.98,1382.54 1591.01,1382.56 1593.04,1382.58 1595.08,1382.59 1597.11,1382.61 1599.14,1382.63 1601.17,1382.65 1603.21,1382.66 1605.24,1382.68 1607.27,1382.69 1609.31,1382.71 1611.34,1382.73 1613.37,1382.74 1615.41,1382.76 1617.44,1382.78 1619.47,1382.79 1621.5,1382.81 1623.54,1382.83 1625.57,1382.84 1627.6,1382.86 1629.64,1382.87 1631.67,1382.89 1633.7,1382.91 1635.74,1382.92 1637.77,1382.94 1639.8,1382.95 1641.83,1382.97 1643.87,1382.98 1645.9,1383 1647.93,1383.02 1649.97,1383.03 1652,1383.05 1654.03,1383.06 1656.06,1383.08 1658.1,1383.09 1660.13,1383.11 1662.16,1383.12 1664.2,1383.14 1666.23,1383.15 1668.26,1383.17 1670.3,1383.18 1672.33,1383.2 1674.36,1383.21 1676.39,1383.23 1678.43,1383.24 1680.46,1383.26 1682.49,1383.27 1684.53,1383.29 1686.56,1383.3 1688.59,1383.32 1690.62,1383.33 1692.66,1383.35 1694.69,1383.36 1696.72,1383.38 1698.76,1383.39 1700.79,1383.4 1702.82,1383.42 1704.86,1383.43 1706.89,1383.45 1708.92,1383.46 1710.95,1383.48 1712.99,1383.49 1715.02,1383.5 1717.05,1383.52 1719.09,1383.53 1721.12,1383.55 1723.15,1383.56 1725.18,1383.58 1727.22,1383.59 1729.25,1383.6 1731.28,1383.62 1733.32,1383.63 1735.35,1383.64 1737.38,1383.66 1739.42,1383.67 1741.45,1383.69 1743.48,1383.7 1745.51,1383.71 1747.55,1383.73 1749.58,1383.74 1751.61,1383.75 1753.65,1383.77 1755.68,1383.78 1757.71,1383.79 1759.74,1383.81 1761.78,1383.82 1763.81,1383.83 1765.84,1383.85 1767.88,1383.86 1769.91,1383.87 1771.94,1383.89 1773.98,1383.9 1776.01,1383.91 1778.04,1383.93 1780.07,1383.94 1782.11,1383.95 1784.14,1383.96 1786.17,1383.98 1788.21,1383.99 1790.24,1384 1792.27,1384.02 1794.31,1384.03 1796.34,1384.04 1798.37,1384.05 1800.4,1384.07 1802.44,1384.08 1804.47,1384.09 1806.5,1384.1 1808.54,1384.12 1810.57,1384.13 1812.6,1384.14 1814.63,1384.15 1816.67,1384.17 1818.7,1384.18 1820.73,1384.19 1822.77,1384.2 1824.8,1384.22 1826.83,1384.23 1828.87,1384.24 1830.9,1384.25 1832.93,1384.26 1834.96,1384.28 1837,1384.29 1839.03,1384.3 1841.06,1384.31 1843.1,1384.32 1845.13,1384.34 1847.16,1384.35 1849.19,1384.36 1851.23,1384.37 1853.26,1384.38 1855.29,1384.4 1857.33,1384.41 1859.36,1384.42 1861.39,1384.43 1863.43,1384.44 1865.46,1384.45 1867.49,1384.47 1869.52,1384.48 1871.56,1384.49 1873.59,1384.5 1875.62,1384.51 1877.66,1384.52 1879.69,1384.53 1881.72,1384.55 1883.75,1384.56 1885.79,1384.57 1887.82,1384.58 1889.85,1384.59 1891.89,1384.6 1893.92,1384.61 1895.95,1384.63 1897.99,1384.64 1900.02,1384.65 1902.05,1384.66 1904.08,1384.67 1906.12,1384.68 1908.15,1384.69 1910.18,1384.7 1912.22,1384.71 1914.25,1384.72 1916.28,1384.74 1918.31,1384.75 1920.35,1384.76 1922.38,1384.77 1924.41,1384.78 1926.45,1384.79 1928.48,1384.8 1930.51,1384.81 1932.55,1384.82 1934.58,1384.83 1936.61,1384.84 1938.64,1384.85 1940.68,1384.86 1942.71,1384.88 1944.74,1384.89 1946.78,1384.9 1948.81,1384.91 1950.84,1384.92 1952.88,1384.93 1954.91,1384.94 1956.94,1384.95 1958.97,1384.96 1961.01,1384.97 1963.04,1384.98 1965.07,1384.99 1967.11,1385 1969.14,1385.01 1971.17,1385.02 1973.2,1385.03 1975.24,1385.04 1977.27,1385.05 1979.3,1385.06 1981.34,1385.07 1983.37,1385.08 1985.4,1385.09 1987.44,1385.1 1989.47,1385.11 1991.5,1385.12 1993.53,1385.13 1995.57,1385.14 1997.6,1385.15 1999.63,1385.16 2001.67,1385.17 2003.7,1385.18 2005.73,1385.19 2007.76,1385.2 2009.8,1385.21 2011.83,1385.22 2013.86,1385.23 2015.9,1385.24 2017.93,1385.25 2019.96,1385.26 2022,1385.27 2024.03,1385.28 2026.06,1385.29 2028.09,1385.3 2030.13,1385.31 2032.16,1385.32 2034.19,1385.33 2036.23,1385.34 2038.26,1385.35 2040.29,1385.36 2042.32,1385.37 2044.36,1385.37 2046.39,1385.38 2048.42,1385.39 2050.46,1385.4 2052.49,1385.41 2054.52,1385.42 2056.56,1385.43 2058.59,1385.44 2060.62,1385.45 2062.65,1385.46 2064.69,1385.47 2066.72,1385.48 2068.75,1385.49 2070.79,1385.5 2072.82,1385.5 2074.85,1385.51 2076.88,1385.52 2078.92,1385.53 2080.95,1385.54 2082.98,1385.55 2085.02,1385.56 2087.05,1385.57 2089.08,1385.58 2091.12,1385.59 2093.15,1385.59 2095.18,1385.6 2097.21,1385.61 2099.25,1385.62 2101.28,1385.63 2103.31,1385.64 2105.35,1385.65 2107.38,1385.66 2109.41,1385.67 2111.44,1385.67 2113.48,1385.68 2115.51,1385.69 2117.54,1385.7 2119.58,1385.71 2121.61,1385.72 2123.64,1385.73 2125.68,1385.73 2127.71,1385.74 2129.74,1385.75 2131.77,1385.76 2133.81,1385.77 2135.84,1385.78 2137.87,1385.79 2139.91,1385.79 2141.94,1385.8 2143.97,1385.81 2146.01,1385.82 2148.04,1385.83 2150.07,1385.84 2152.1,1385.84 2154.14,1385.85 2156.17,1385.86 2158.2,1385.87 2160.24,1385.88 2162.27,1385.89 2164.3,1385.89 2166.33,1385.9 2168.37,1385.91 2170.4,1385.92 2172.43,1385.93 2174.47,1385.94 2176.5,1385.94 2178.53,1385.95 2180.57,1385.96 2182.6,1385.97 2184.63,1385.98 2186.66,1385.98 2188.7,1385.99 2190.73,1386 2192.76,1386.01 2194.8,1386.02 2196.83,1386.02 2198.86,1386.03 2200.89,1386.04 2202.93,1386.05 2204.96,1386.06 2206.99,1386.06 2209.03,1386.07 2211.06,1386.08 2213.09,1386.09 2215.13,1386.1 2217.16,1386.1 2219.19,1386.11 2221.22,1386.12 2223.26,1386.13 2225.29,1386.14 2227.32,1386.14 2229.36,1386.15 2231.39,1386.16 2233.42,1386.17 2235.45,1386.17 2237.49,1386.18 2239.52,1386.19 2241.55,1386.2 2243.59,1386.2 2245.62,1386.21 2247.65,1386.22 2249.69,1386.23 2251.72,1386.23 2253.75,1386.24 2255.78,1386.25 2257.82,1386.26 2259.85,1386.26 2261.88,1386.27 2263.92,1386.28 2265.95,1386.29 2267.98,1386.29 2270.01,1386.3 2272.05,1386.31 2274.08,1386.32 2276.11,1386.32 2278.15,1386.33 2280.18,1386.34 2282.21,1386.35 2284.25,1386.35 2286.28,1386.36 2288.31,1386.37 2290.34,1386.38 2292.38,1386.38 \"/>\n<polyline clip-path=\"url(#clip482)\" style=\"stroke:#e26f46; stroke-linecap:round; stroke-linejoin:round; stroke-width:4; stroke-opacity:1; fill:none\" points=\"279.759,1386.4 281.792,1385.67 283.825,1384.94 285.858,1384.21 287.891,1383.48 289.923,1382.75 291.956,1382.02 293.989,1381.28 296.022,1380.55 298.055,1379.82 300.088,1379.08 302.121,1378.35 304.154,1377.61 306.187,1376.87 308.22,1376.14 310.253,1375.4 312.286,1374.66 314.319,1373.92 316.352,1373.18 318.385,1372.44 320.418,1371.69 322.451,1370.95 324.484,1370.21 326.517,1369.46 328.549,1368.72 330.582,1367.97 332.615,1367.23 334.648,1366.48 336.681,1365.73 338.714,1364.98 340.747,1364.23 342.78,1363.48 344.813,1362.73 346.846,1361.98 348.879,1361.23 350.912,1360.47 352.945,1359.72 354.978,1358.97 357.011,1358.21 359.044,1357.45 361.077,1356.7 363.11,1355.94 365.143,1355.18 367.175,1354.42 369.208,1353.66 371.241,1352.9 373.274,1352.14 375.307,1351.38 377.34,1350.61 379.373,1349.85 381.406,1349.09 383.439,1348.32 385.472,1347.55 387.505,1346.79 389.538,1346.02 391.571,1345.25 393.604,1344.48 395.637,1343.71 397.67,1342.94 399.703,1342.17 401.736,1341.4 403.769,1340.63 405.801,1339.85 407.834,1339.08 409.867,1338.3 411.9,1337.53 413.933,1336.75 415.966,1335.97 417.999,1335.19 420.032,1334.42 422.065,1333.64 424.098,1332.86 426.131,1332.07 428.164,1331.29 430.197,1330.51 432.23,1329.72 434.263,1328.94 436.296,1328.16 438.329,1327.37 440.362,1326.58 442.395,1325.79 444.428,1325.01 446.46,1324.22 448.493,1323.43 450.526,1322.64 452.559,1321.84 454.592,1321.05 456.625,1320.26 458.658,1319.47 460.691,1318.67 462.724,1317.88 464.757,1317.08 466.79,1316.28 468.823,1315.48 470.856,1314.69 472.889,1313.89 474.922,1313.09 476.955,1312.28 478.988,1311.48 481.021,1310.68 483.054,1309.88 485.086,1309.07 487.119,1308.27 489.152,1307.46 491.185,1306.66 493.218,1305.85 495.251,1305.04 497.284,1304.23 499.317,1303.42 501.35,1302.61 503.383,1301.8 505.416,1300.99 507.449,1300.17 509.482,1299.36 511.515,1298.54 513.548,1297.73 515.581,1296.91 517.614,1296.1 519.647,1295.28 521.68,1294.46 523.712,1293.64 525.745,1292.82 527.778,1292 529.811,1291.18 531.844,1290.35 533.877,1289.53 535.91,1288.71 537.943,1287.88 539.976,1287.05 542.009,1286.23 544.042,1285.4 546.075,1284.57 548.108,1283.74 550.141,1282.91 552.174,1282.08 554.207,1281.25 556.24,1280.42 558.273,1279.58 560.306,1278.75 562.339,1277.91 564.371,1277.08 566.404,1276.24 568.437,1275.4 570.47,1274.56 572.503,1273.72 574.536,1272.88 576.569,1272.04 578.602,1271.2 580.635,1270.36 582.668,1269.52 584.701,1268.67 586.734,1267.83 588.767,1266.98 590.8,1266.13 592.833,1265.29 594.866,1264.44 596.899,1263.59 598.932,1262.74 600.965,1261.89 602.997,1261.03 605.03,1260.18 607.063,1259.33 609.096,1258.47 611.129,1257.62 613.162,1256.76 615.195,1255.91 617.228,1255.05 619.261,1254.19 621.294,1253.33 623.327,1252.47 625.36,1251.61 627.393,1250.75 629.426,1249.88 631.459,1249.02 633.492,1248.15 635.525,1247.29 637.558,1246.42 639.591,1245.55 641.623,1244.69 643.656,1243.82 645.689,1242.95 647.722,1242.08 649.755,1241.21 651.788,1240.33 653.821,1239.46 655.854,1238.59 657.887,1237.71 659.92,1236.83 661.953,1235.96 663.986,1235.08 666.019,1234.2 668.052,1233.32 670.085,1232.44 672.118,1231.56 674.151,1230.68 676.184,1229.8 678.217,1228.91 680.249,1228.03 682.282,1227.14 684.315,1226.25 686.348,1225.37 688.381,1224.48 690.414,1223.59 692.447,1222.7 694.48,1221.81 696.513,1220.92 698.546,1220.03 700.579,1219.13 702.612,1218.24 704.645,1217.34 706.678,1216.45 708.711,1215.55 710.744,1214.65 712.777,1213.75 714.81,1212.85 716.843,1211.95 718.876,1211.05 720.908,1210.15 722.941,1209.24 724.974,1208.34 727.007,1207.43 729.04,1206.53 731.073,1205.62 733.106,1204.71 735.139,1203.81 737.172,1202.9 739.205,1201.99 741.238,1201.07 743.271,1200.16 745.304,1199.25 747.337,1198.33 749.37,1197.42 751.403,1196.5 753.436,1195.59 755.469,1194.67 757.502,1193.75 759.534,1192.83 761.567,1191.91 763.6,1190.99 765.633,1190.07 767.666,1189.14 769.699,1188.22 771.732,1187.29 773.765,1186.37 775.798,1185.44 777.831,1184.51 779.864,1183.58 781.897,1182.65 783.93,1181.72 785.963,1180.79 787.996,1179.86 790.029,1178.93 792.062,1177.99 794.095,1177.06 796.128,1176.12 798.16,1175.18 800.193,1174.24 802.226,1173.31 804.259,1172.37 806.292,1171.42 808.325,1170.48 810.358,1169.54 812.391,1168.6 814.424,1167.65 816.457,1166.71 818.49,1165.76 820.523,1164.81 822.556,1163.86 824.589,1162.91 826.622,1161.96 828.655,1161.01 830.688,1160.06 832.721,1159.11 834.754,1158.15 836.786,1157.2 838.819,1156.24 840.852,1155.29 842.885,1154.33 844.918,1153.37 846.951,1152.41 848.984,1151.45 851.017,1150.49 853.05,1149.52 855.083,1148.56 857.116,1147.6 859.149,1146.63 861.182,1145.66 863.215,1144.7 865.248,1143.73 867.281,1142.76 869.314,1141.79 871.347,1140.82 873.38,1139.85 875.413,1138.87 877.445,1137.9 879.478,1136.92 881.511,1135.95 883.544,1134.97 885.577,1133.99 887.61,1133.01 889.643,1132.03 891.676,1131.05 893.709,1130.07 895.742,1129.09 897.775,1128.1 899.808,1127.12 901.841,1126.13 903.874,1125.15 905.907,1124.16 907.94,1123.17 909.973,1122.18 912.006,1121.19 914.039,1120.2 916.071,1119.2 918.104,1118.21 920.137,1117.22 922.17,1116.22 924.203,1115.22 926.236,1114.23 928.269,1113.23 930.302,1112.23 932.335,1111.23 934.368,1110.23 936.401,1109.22 938.434,1108.22 940.467,1107.21 942.5,1106.21 944.533,1105.2 946.566,1104.2 948.599,1103.19 950.632,1102.18 952.665,1101.17 954.697,1100.15 956.73,1099.14 958.763,1098.13 960.796,1097.11 962.829,1096.1 964.862,1095.08 966.895,1094.06 968.928,1093.05 970.961,1092.03 972.994,1091 975.027,1089.98 977.06,1088.96 979.093,1087.94 981.126,1086.91 983.159,1085.89 985.192,1084.86 987.225,1083.83 989.258,1082.8 991.291,1081.77 993.324,1080.74 995.356,1079.71 997.389,1078.68 999.422,1077.64 1001.46,1076.61 1003.49,1075.57 1005.52,1074.53 1007.55,1073.5 1009.59,1072.46 1011.62,1071.42 1013.65,1070.38 1015.69,1069.33 1017.72,1068.29 1019.75,1067.25 1021.78,1066.2 1023.82,1065.15 1025.85,1064.11 1027.88,1063.06 1029.92,1062.01 1031.95,1060.96 1033.98,1059.91 1036.02,1058.85 1038.05,1057.8 1040.08,1056.75 1042.11,1055.69 1044.15,1054.63 1046.18,1053.58 1048.21,1052.52 1050.25,1051.46 1052.28,1050.4 1054.31,1049.33 1056.34,1048.27 1058.38,1047.21 1060.41,1046.14 1062.44,1045.07 1064.48,1044.01 1066.51,1042.94 1068.54,1041.87 1070.58,1040.8 1072.61,1039.73 1074.64,1038.65 1076.67,1037.58 1078.71,1036.51 1080.74,1035.43 1082.77,1034.35 1084.81,1033.28 1086.84,1032.2 1088.87,1031.12 1090.91,1030.03 1092.94,1028.95 1094.97,1027.87 1097,1026.78 1099.04,1025.7 1101.07,1024.61 1103.1,1023.52 1105.14,1022.44 1107.17,1021.35 1109.2,1020.26 1111.23,1019.16 1113.27,1018.07 1115.3,1016.98 1117.33,1015.88 1119.37,1014.78 1121.4,1013.69 1123.43,1012.59 1125.47,1011.49 1127.5,1010.39 1129.53,1009.29 1131.56,1008.18 1133.6,1007.08 1135.63,1005.97 1137.66,1004.87 1139.7,1003.76 1141.73,1002.65 1143.76,1001.54 1145.79,1000.43 1147.83,999.32 1149.86,998.207 1151.89,997.093 1153.93,995.978 1155.96,994.862 1157.99,993.745 1160.03,992.627 1162.06,991.507 1164.09,990.387 1166.12,989.265 1168.16,988.142 1170.19,987.018 1172.22,985.893 1174.26,984.767 1176.29,983.64 1178.32,982.511 1180.35,981.382 1182.39,980.251 1184.42,979.119 1186.45,977.986 1188.49,976.852 1190.52,975.717 1192.55,974.581 1194.59,973.443 1196.62,972.305 1198.65,971.165 1200.68,970.024 1202.72,968.882 1204.75,967.739 1206.78,966.595 1208.82,965.45 1210.85,964.303 1212.88,963.156 1214.91,962.007 1216.95,960.857 1218.98,959.706 1221.01,958.554 1223.05,957.4 1225.08,956.246 1227.11,955.09 1229.15,953.933 1231.18,952.775 1233.21,951.616 1235.24,950.456 1237.28,949.295 1239.31,948.132 1241.34,946.969 1243.38,945.804 1245.41,944.638 1247.44,943.47 1249.47,942.302 1251.51,941.133 1253.54,939.962 1255.57,938.79 1257.61,937.617 1259.64,936.443 1261.67,935.268 1263.71,934.091 1265.74,932.914 1267.77,931.735 1269.8,930.555 1271.84,929.374 1273.87,928.191 1275.9,927.008 1277.94,925.823 1279.97,924.637 1282,923.45 1284.04,922.262 1286.07,921.072 1288.1,919.882 1290.13,918.69 1292.17,917.497 1294.2,916.303 1296.23,915.108 1298.27,913.911 1300.3,912.713 1302.33,911.515 1304.36,910.314 1306.4,909.113 1308.43,907.911 1310.46,906.707 1312.5,905.502 1314.53,904.296 1316.56,903.089 1318.6,901.88 1320.63,900.671 1322.66,899.46 1324.69,898.248 1326.73,897.035 1328.76,895.82 1330.79,894.604 1332.83,893.387 1334.86,892.169 1336.89,890.95 1338.92,889.73 1340.96,888.508 1342.99,887.285 1345.02,886.061 1347.06,884.835 1349.09,883.609 1351.12,882.381 1353.16,881.152 1355.19,879.922 1357.22,878.69 1359.25,877.457 1361.29,876.223 1363.32,874.988 1365.35,873.752 1367.39,872.514 1369.42,871.275 1371.45,870.035 1373.48,868.794 1375.52,867.552 1377.55,866.308 1379.58,865.063 1381.62,863.817 1383.65,862.569 1385.68,861.32 1387.72,860.07 1389.75,858.819 1391.78,857.567 1393.81,856.313 1395.85,855.058 1397.88,853.802 1399.91,852.544 1401.95,851.286 1403.98,850.026 1406.01,848.765 1408.04,847.502 1410.08,846.238 1412.11,844.973 1414.14,843.707 1416.18,842.44 1418.21,841.171 1420.24,839.901 1422.28,838.63 1424.31,837.357 1426.34,836.083 1428.37,834.808 1430.41,833.532 1432.44,832.255 1434.47,830.976 1436.51,829.696 1438.54,828.414 1440.57,827.132 1442.61,825.848 1444.64,824.562 1446.67,823.276 1448.7,821.988 1450.74,820.699 1452.77,819.409 1454.8,818.117 1456.84,816.824 1458.87,815.53 1460.9,814.235 1462.93,812.938 1464.97,811.64 1467,810.34 1469.03,809.04 1471.07,807.738 1473.1,806.435 1475.13,805.13 1477.17,803.824 1479.2,802.517 1481.23,801.209 1483.26,799.899 1485.3,798.588 1487.33,797.276 1489.36,795.962 1491.4,794.647 1493.43,793.331 1495.46,792.013 1497.49,790.695 1499.53,789.374 1501.56,788.053 1503.59,786.73 1505.63,785.406 1507.66,784.081 1509.69,782.754 1511.73,781.426 1513.76,780.097 1515.79,778.766 1517.82,777.434 1519.86,776.101 1521.89,774.766 1523.92,773.43 1525.96,772.093 1527.99,770.754 1530.02,769.414 1532.05,768.073 1534.09,766.73 1536.12,765.386 1538.15,764.041 1540.19,762.694 1542.22,761.346 1544.25,759.997 1546.29,758.646 1548.32,757.294 1550.35,755.941 1552.38,754.586 1554.42,753.23 1556.45,751.873 1558.48,750.514 1560.52,749.154 1562.55,747.793 1564.58,746.43 1566.61,745.066 1568.65,743.7 1570.68,742.333 1572.71,740.965 1574.75,739.595 1576.78,738.225 1578.81,736.852 1580.85,735.479 1582.88,734.104 1584.91,732.727 1586.94,731.349 1588.98,729.97 1591.01,728.59 1593.04,727.208 1595.08,725.825 1597.11,724.44 1599.14,723.054 1601.17,721.667 1603.21,720.278 1605.24,718.888 1607.27,717.496 1609.31,716.103 1611.34,714.709 1613.37,713.313 1615.41,711.916 1617.44,710.518 1619.47,709.118 1621.5,707.717 1623.54,706.314 1625.57,704.91 1627.6,703.505 1629.64,702.098 1631.67,700.69 1633.7,699.28 1635.74,697.869 1637.77,696.457 1639.8,695.043 1641.83,693.628 1643.87,692.211 1645.9,690.793 1647.93,689.374 1649.97,687.953 1652,686.531 1654.03,685.107 1656.06,683.682 1658.1,682.256 1660.13,680.828 1662.16,679.398 1664.2,677.968 1666.23,676.535 1668.26,675.102 1670.3,673.667 1672.33,672.23 1674.36,670.792 1676.39,669.353 1678.43,667.912 1680.46,666.47 1682.49,665.027 1684.53,663.582 1686.56,662.135 1688.59,660.687 1690.62,659.238 1692.66,657.787 1694.69,656.335 1696.72,654.881 1698.76,653.426 1700.79,651.97 1702.82,650.511 1704.86,649.052 1706.89,647.591 1708.92,646.129 1710.95,644.665 1712.99,643.2 1715.02,641.733 1717.05,640.265 1719.09,638.795 1721.12,637.324 1723.15,635.851 1725.18,634.377 1727.22,632.902 1729.25,631.425 1731.28,629.947 1733.32,628.467 1735.35,626.985 1737.38,625.502 1739.42,624.018 1741.45,622.532 1743.48,621.045 1745.51,619.556 1747.55,618.066 1749.58,616.574 1751.61,615.081 1753.65,613.587 1755.68,612.09 1757.71,610.593 1759.74,609.094 1761.78,607.593 1763.81,606.091 1765.84,604.587 1767.88,603.082 1769.91,601.576 1771.94,600.068 1773.98,598.558 1776.01,597.047 1778.04,595.534 1780.07,594.02 1782.11,592.505 1784.14,590.988 1786.17,589.469 1788.21,587.949 1790.24,586.427 1792.27,584.904 1794.31,583.379 1796.34,581.853 1798.37,580.326 1800.4,578.796 1802.44,577.266 1804.47,575.733 1806.5,574.2 1808.54,572.664 1810.57,571.127 1812.6,569.589 1814.63,568.049 1816.67,566.508 1818.7,564.965 1820.73,563.42 1822.77,561.874 1824.8,560.327 1826.83,558.778 1828.87,557.227 1830.9,555.675 1832.93,554.121 1834.96,552.566 1837,551.009 1839.03,549.451 1841.06,547.891 1843.1,546.33 1845.13,544.767 1847.16,543.202 1849.19,541.636 1851.23,540.068 1853.26,538.499 1855.29,536.928 1857.33,535.356 1859.36,533.782 1861.39,532.207 1863.43,530.63 1865.46,529.051 1867.49,527.471 1869.52,525.889 1871.56,524.306 1873.59,522.721 1875.62,521.135 1877.66,519.547 1879.69,517.957 1881.72,516.366 1883.75,514.773 1885.79,513.179 1887.82,511.583 1889.85,509.985 1891.89,508.386 1893.92,506.785 1895.95,505.183 1897.99,503.579 1900.02,501.974 1902.05,500.367 1904.08,498.758 1906.12,497.148 1908.15,495.536 1910.18,493.922 1912.22,492.307 1914.25,490.691 1916.28,489.072 1918.31,487.452 1920.35,485.831 1922.38,484.208 1924.41,482.583 1926.45,480.957 1928.48,479.329 1930.51,477.699 1932.55,476.068 1934.58,474.435 1936.61,472.801 1938.64,471.165 1940.68,469.527 1942.71,467.888 1944.74,466.247 1946.78,464.604 1948.81,462.96 1950.84,461.314 1952.88,459.667 1954.91,458.018 1956.94,456.367 1958.97,454.715 1961.01,453.06 1963.04,451.405 1965.07,449.748 1967.11,448.089 1969.14,446.428 1971.17,444.766 1973.2,443.102 1975.24,441.436 1977.27,439.769 1979.3,438.1 1981.34,436.43 1983.37,434.757 1985.4,433.083 1987.44,431.408 1989.47,429.731 1991.5,428.052 1993.53,426.371 1995.57,424.689 1997.6,423.005 1999.63,421.32 2001.67,419.633 2003.7,417.944 2005.73,416.253 2007.76,414.561 2009.8,412.867 2011.83,411.171 2013.86,409.474 2015.9,407.775 2017.93,406.074 2019.96,404.372 2022,402.668 2024.03,400.962 2026.06,399.255 2028.09,397.546 2030.13,395.835 2032.16,394.122 2034.19,392.408 2036.23,390.692 2038.26,388.974 2040.29,387.255 2042.32,385.534 2044.36,383.811 2046.39,382.087 2048.42,380.36 2050.46,378.632 2052.49,376.903 2054.52,375.171 2056.56,373.438 2058.59,371.704 2060.62,369.967 2062.65,368.229 2064.69,366.489 2066.72,364.747 2068.75,363.004 2070.79,361.259 2072.82,359.512 2074.85,357.763 2076.88,356.013 2078.92,354.261 2080.95,352.507 2082.98,350.751 2085.02,348.994 2087.05,347.235 2089.08,345.474 2091.12,343.711 2093.15,341.947 2095.18,340.181 2097.21,338.413 2099.25,336.643 2101.28,334.872 2103.31,333.099 2105.35,331.324 2107.38,329.547 2109.41,327.769 2111.44,325.989 2113.48,324.207 2115.51,322.423 2117.54,320.638 2119.58,318.85 2121.61,317.061 2123.64,315.27 2125.68,313.478 2127.71,311.683 2129.74,309.887 2131.77,308.089 2133.81,306.29 2135.84,304.488 2137.87,302.685 2139.91,300.88 2141.94,299.073 2143.97,297.264 2146.01,295.453 2148.04,293.641 2150.07,291.827 2152.1,290.011 2154.14,288.193 2156.17,286.374 2158.2,284.553 2160.24,282.73 2162.27,280.905 2164.3,279.078 2166.33,277.249 2168.37,275.419 2170.4,273.587 2172.43,271.753 2174.47,269.917 2176.5,268.079 2178.53,266.24 2180.57,264.398 2182.6,262.555 2184.63,260.71 2186.66,258.863 2188.7,257.015 2190.73,255.164 2192.76,253.312 2194.8,251.458 2196.83,249.602 2198.86,247.744 2200.89,245.884 2202.93,244.023 2204.96,242.159 2206.99,240.294 2209.03,238.427 2211.06,236.558 2213.09,234.687 2215.13,232.814 2217.16,230.94 2219.19,229.063 2221.22,227.185 2223.26,225.305 2225.29,223.423 2227.32,221.539 2229.36,219.653 2231.39,217.766 2233.42,215.876 2235.45,213.985 2237.49,212.092 2239.52,210.196 2241.55,208.299 2243.59,206.4 2245.62,204.5 2247.65,202.597 2249.69,200.692 2251.72,198.786 2253.75,196.878 2255.78,194.967 2257.82,193.055 2259.85,191.141 2261.88,189.225 2263.92,187.307 2265.95,185.388 2267.98,183.466 2270.01,181.542 2272.05,179.617 2274.08,177.689 2276.11,175.76 2278.15,173.829 2280.18,171.896 2282.21,169.961 2284.25,168.024 2286.28,166.085 2288.31,164.144 2290.34,162.201 2292.38,160.256 \"/>\n<path clip-path=\"url(#clip480)\" d=\"M290.493 322.316 L775.495 322.316 L775.495 166.796 L290.493 166.796  Z\" fill=\"#ffffff\" fill-rule=\"evenodd\" fill-opacity=\"1\"/>\n<polyline clip-path=\"url(#clip480)\" style=\"stroke:#000000; stroke-linecap:round; stroke-linejoin:round; stroke-width:4; stroke-opacity:1; fill:none\" points=\"290.493,322.316 775.495,322.316 775.495,166.796 290.493,166.796 290.493,322.316 \"/>\n<polyline clip-path=\"url(#clip480)\" style=\"stroke:#009af9; stroke-linecap:round; stroke-linejoin:round; stroke-width:4; stroke-opacity:1; fill:none\" points=\"314.197,218.636 456.422,218.636 \"/>\n<path clip-path=\"url(#clip480)\" d=\"M501.839 220.268 L501.839 235.916 L497.58 235.916 L497.58 220.407 Q497.58 216.726 496.145 214.897 Q494.709 213.069 491.839 213.069 Q488.39 213.069 486.399 215.268 Q484.408 217.467 484.408 221.263 L484.408 235.916 L480.126 235.916 L480.126 199.897 L484.408 199.897 L484.408 214.018 Q485.936 211.68 487.996 210.522 Q490.08 209.365 492.788 209.365 Q497.256 209.365 499.547 212.143 Q501.839 214.897 501.839 220.268 Z\" fill=\"#000000\" fill-rule=\"evenodd\" fill-opacity=\"1\" /><path clip-path=\"url(#clip480)\" d=\"M521.121 238.323 Q519.316 242.953 517.603 244.365 Q515.89 245.777 513.019 245.777 L509.617 245.777 L509.617 242.212 L512.117 242.212 Q513.876 242.212 514.848 241.379 Q515.82 240.545 517.001 237.443 L517.765 235.499 L507.279 209.99 L511.793 209.99 L519.894 230.268 L527.996 209.99 L532.51 209.99 L521.121 238.323 Z\" fill=\"#000000\" fill-rule=\"evenodd\" fill-opacity=\"1\" /><path clip-path=\"url(#clip480)\" d=\"M542.51 232.027 L542.51 245.777 L538.228 245.777 L538.228 209.99 L542.51 209.99 L542.51 213.925 Q543.853 211.61 545.89 210.499 Q547.95 209.365 550.797 209.365 Q555.519 209.365 558.459 213.115 Q561.422 216.865 561.422 222.976 Q561.422 229.087 558.459 232.837 Q555.519 236.587 550.797 236.587 Q547.95 236.587 545.89 235.476 Q543.853 234.342 542.51 232.027 M557.001 222.976 Q557.001 218.277 555.056 215.615 Q553.135 212.93 549.755 212.93 Q546.376 212.93 544.431 215.615 Q542.51 218.277 542.51 222.976 Q542.51 227.675 544.431 230.36 Q546.376 233.022 549.755 233.022 Q553.135 233.022 555.056 230.36 Q557.001 227.675 557.001 222.976 Z\" fill=\"#000000\" fill-rule=\"evenodd\" fill-opacity=\"1\" /><path clip-path=\"url(#clip480)\" d=\"M590.658 221.888 L590.658 223.971 L571.075 223.971 Q571.352 228.369 573.714 230.684 Q576.098 232.976 580.334 232.976 Q582.788 232.976 585.079 232.374 Q587.394 231.772 589.663 230.569 L589.663 234.596 Q587.371 235.568 584.963 236.078 Q582.556 236.587 580.079 236.587 Q573.876 236.587 570.241 232.976 Q566.63 229.365 566.63 223.207 Q566.63 216.842 570.056 213.115 Q573.505 209.365 579.339 209.365 Q584.57 209.365 587.602 212.745 Q590.658 216.101 590.658 221.888 M586.399 220.638 Q586.352 217.143 584.431 215.059 Q582.533 212.976 579.385 212.976 Q575.82 212.976 573.667 214.99 Q571.538 217.004 571.214 220.661 L586.399 220.638 Z\" fill=\"#000000\" fill-rule=\"evenodd\" fill-opacity=\"1\" /><path clip-path=\"url(#clip480)\" d=\"M612.672 213.971 Q611.954 213.555 611.098 213.37 Q610.264 213.161 609.246 213.161 Q605.635 213.161 603.69 215.522 Q601.769 217.86 601.769 222.258 L601.769 235.916 L597.487 235.916 L597.487 209.99 L601.769 209.99 L601.769 214.018 Q603.112 211.657 605.264 210.522 Q607.417 209.365 610.496 209.365 Q610.936 209.365 611.468 209.434 Q612 209.481 612.649 209.596 L612.672 213.971 Z\" fill=\"#000000\" fill-rule=\"evenodd\" fill-opacity=\"1\" /><path clip-path=\"url(#clip480)\" d=\"M635.75 222.976 Q635.75 218.277 633.806 215.615 Q631.885 212.93 628.505 212.93 Q625.125 212.93 623.181 215.615 Q621.26 218.277 621.26 222.976 Q621.26 227.675 623.181 230.36 Q625.125 233.022 628.505 233.022 Q631.885 233.022 633.806 230.36 Q635.75 227.675 635.75 222.976 M621.26 213.925 Q622.602 211.61 624.639 210.499 Q626.699 209.365 629.547 209.365 Q634.269 209.365 637.209 213.115 Q640.172 216.865 640.172 222.976 Q640.172 229.087 637.209 232.837 Q634.269 236.587 629.547 236.587 Q626.699 236.587 624.639 235.476 Q622.602 234.342 621.26 232.027 L621.26 235.916 L616.977 235.916 L616.977 199.897 L621.26 199.897 L621.26 213.925 Z\" fill=\"#000000\" fill-rule=\"evenodd\" fill-opacity=\"1\" /><path clip-path=\"url(#clip480)\" d=\"M657.278 212.976 Q653.852 212.976 651.861 215.661 Q649.871 218.323 649.871 222.976 Q649.871 227.629 651.838 230.314 Q653.829 232.976 657.278 232.976 Q660.681 232.976 662.671 230.291 Q664.662 227.606 664.662 222.976 Q664.662 218.37 662.671 215.684 Q660.681 212.976 657.278 212.976 M657.278 209.365 Q662.833 209.365 666.005 212.976 Q669.176 216.587 669.176 222.976 Q669.176 229.342 666.005 232.976 Q662.833 236.587 657.278 236.587 Q651.699 236.587 648.528 232.976 Q645.38 229.342 645.38 222.976 Q645.38 216.587 648.528 212.976 Q651.699 209.365 657.278 209.365 Z\" fill=\"#000000\" fill-rule=\"evenodd\" fill-opacity=\"1\" /><path clip-path=\"url(#clip480)\" d=\"M676.236 199.897 L680.495 199.897 L680.495 235.916 L676.236 235.916 L676.236 199.897 Z\" fill=\"#000000\" fill-rule=\"evenodd\" fill-opacity=\"1\" /><path clip-path=\"url(#clip480)\" d=\"M689.407 209.99 L693.667 209.99 L693.667 235.916 L689.407 235.916 L689.407 209.99 M689.407 199.897 L693.667 199.897 L693.667 205.291 L689.407 205.291 L689.407 199.897 Z\" fill=\"#000000\" fill-rule=\"evenodd\" fill-opacity=\"1\" /><path clip-path=\"url(#clip480)\" d=\"M721.236 210.985 L721.236 214.967 Q719.43 213.971 717.602 213.485 Q715.796 212.976 713.944 212.976 Q709.801 212.976 707.509 215.615 Q705.217 218.231 705.217 222.976 Q705.217 227.721 707.509 230.36 Q709.801 232.976 713.944 232.976 Q715.796 232.976 717.602 232.49 Q719.43 231.981 721.236 230.985 L721.236 234.92 Q719.454 235.754 717.532 236.17 Q715.634 236.587 713.481 236.587 Q707.625 236.587 704.176 232.906 Q700.727 229.226 700.727 222.976 Q700.727 216.633 704.199 212.999 Q707.694 209.365 713.759 209.365 Q715.727 209.365 717.602 209.782 Q719.477 210.175 721.236 210.985 Z\" fill=\"#000000\" fill-rule=\"evenodd\" fill-opacity=\"1\" /><polyline clip-path=\"url(#clip480)\" style=\"stroke:#e26f46; stroke-linecap:round; stroke-linejoin:round; stroke-width:4; stroke-opacity:1; fill:none\" points=\"314.197,270.476 456.422,270.476 \"/>\n<path clip-path=\"url(#clip480)\" d=\"M504.154 273.728 L504.154 275.811 L484.571 275.811 Q484.848 280.209 487.209 282.524 Q489.594 284.816 493.83 284.816 Q496.283 284.816 498.575 284.214 Q500.89 283.612 503.158 282.409 L503.158 286.436 Q500.867 287.408 498.459 287.918 Q496.052 288.427 493.575 288.427 Q487.371 288.427 483.737 284.816 Q480.126 281.205 480.126 275.047 Q480.126 268.682 483.552 264.955 Q487.001 261.205 492.834 261.205 Q498.066 261.205 501.098 264.585 Q504.154 267.941 504.154 273.728 M499.894 272.478 Q499.848 268.983 497.927 266.899 Q496.029 264.816 492.881 264.816 Q489.316 264.816 487.163 266.83 Q485.033 268.844 484.709 272.501 L499.894 272.478 Z\" fill=\"#000000\" fill-rule=\"evenodd\" fill-opacity=\"1\" /><path clip-path=\"url(#clip480)\" d=\"M531.862 261.83 L522.487 274.446 L532.348 287.756 L527.325 287.756 L519.779 277.571 L512.232 287.756 L507.209 287.756 L517.279 274.191 L508.066 261.83 L513.089 261.83 L519.964 271.066 L526.839 261.83 L531.862 261.83 Z\" fill=\"#000000\" fill-rule=\"evenodd\" fill-opacity=\"1\" /><path clip-path=\"url(#clip480)\" d=\"M542.487 283.867 L542.487 297.617 L538.204 297.617 L538.204 261.83 L542.487 261.83 L542.487 265.765 Q543.829 263.45 545.866 262.339 Q547.927 261.205 550.774 261.205 Q555.496 261.205 558.436 264.955 Q561.399 268.705 561.399 274.816 Q561.399 280.927 558.436 284.677 Q555.496 288.427 550.774 288.427 Q547.927 288.427 545.866 287.316 Q543.829 286.182 542.487 283.867 M556.978 274.816 Q556.978 270.117 555.033 267.455 Q553.112 264.77 549.732 264.77 Q546.353 264.77 544.408 267.455 Q542.487 270.117 542.487 274.816 Q542.487 279.515 544.408 282.2 Q546.353 284.862 549.732 284.862 Q553.112 284.862 555.033 282.2 Q556.978 279.515 556.978 274.816 Z\" fill=\"#000000\" fill-rule=\"evenodd\" fill-opacity=\"1\" /><path clip-path=\"url(#clip480)\" d=\"M578.505 264.816 Q575.079 264.816 573.089 267.501 Q571.098 270.163 571.098 274.816 Q571.098 279.469 573.065 282.154 Q575.056 284.816 578.505 284.816 Q581.908 284.816 583.899 282.131 Q585.889 279.446 585.889 274.816 Q585.889 270.21 583.899 267.524 Q581.908 264.816 578.505 264.816 M578.505 261.205 Q584.061 261.205 587.232 264.816 Q590.403 268.427 590.403 274.816 Q590.403 281.182 587.232 284.816 Q584.061 288.427 578.505 288.427 Q572.927 288.427 569.755 284.816 Q566.607 281.182 566.607 274.816 Q566.607 268.427 569.755 264.816 Q572.927 261.205 578.505 261.205 Z\" fill=\"#000000\" fill-rule=\"evenodd\" fill-opacity=\"1\" /><path clip-path=\"url(#clip480)\" d=\"M619.014 272.108 L619.014 287.756 L614.755 287.756 L614.755 272.247 Q614.755 268.566 613.32 266.737 Q611.885 264.909 609.014 264.909 Q605.565 264.909 603.574 267.108 Q601.584 269.307 601.584 273.103 L601.584 287.756 L597.301 287.756 L597.301 261.83 L601.584 261.83 L601.584 265.858 Q603.112 263.52 605.172 262.362 Q607.255 261.205 609.963 261.205 Q614.431 261.205 616.723 263.983 Q619.014 266.737 619.014 272.108 Z\" fill=\"#000000\" fill-rule=\"evenodd\" fill-opacity=\"1\" /><path clip-path=\"url(#clip480)\" d=\"M649.685 273.728 L649.685 275.811 L630.102 275.811 Q630.38 280.209 632.741 282.524 Q635.125 284.816 639.361 284.816 Q641.815 284.816 644.107 284.214 Q646.421 283.612 648.69 282.409 L648.69 286.436 Q646.398 287.408 643.991 287.918 Q641.584 288.427 639.107 288.427 Q632.903 288.427 629.269 284.816 Q625.658 281.205 625.658 275.047 Q625.658 268.682 629.084 264.955 Q632.533 261.205 638.366 261.205 Q643.597 261.205 646.63 264.585 Q649.685 267.941 649.685 273.728 M645.426 272.478 Q645.38 268.983 643.459 266.899 Q641.56 264.816 638.412 264.816 Q634.847 264.816 632.695 266.83 Q630.565 268.844 630.241 272.501 L645.426 272.478 Z\" fill=\"#000000\" fill-rule=\"evenodd\" fill-opacity=\"1\" /><path clip-path=\"url(#clip480)\" d=\"M678.227 272.108 L678.227 287.756 L673.968 287.756 L673.968 272.247 Q673.968 268.566 672.532 266.737 Q671.097 264.909 668.227 264.909 Q664.778 264.909 662.787 267.108 Q660.796 269.307 660.796 273.103 L660.796 287.756 L656.514 287.756 L656.514 261.83 L660.796 261.83 L660.796 265.858 Q662.324 263.52 664.384 262.362 Q666.468 261.205 669.176 261.205 Q673.644 261.205 675.935 263.983 Q678.227 266.737 678.227 272.108 Z\" fill=\"#000000\" fill-rule=\"evenodd\" fill-opacity=\"1\" /><path clip-path=\"url(#clip480)\" d=\"M690.935 254.469 L690.935 261.83 L699.708 261.83 L699.708 265.14 L690.935 265.14 L690.935 279.214 Q690.935 282.385 691.792 283.288 Q692.671 284.191 695.333 284.191 L699.708 284.191 L699.708 287.756 L695.333 287.756 Q690.403 287.756 688.528 285.927 Q686.653 284.075 686.653 279.214 L686.653 265.14 L683.528 265.14 L683.528 261.83 L686.653 261.83 L686.653 254.469 L690.935 254.469 Z\" fill=\"#000000\" fill-rule=\"evenodd\" fill-opacity=\"1\" /><path clip-path=\"url(#clip480)\" d=\"M705.31 261.83 L709.569 261.83 L709.569 287.756 L705.31 287.756 L705.31 261.83 M705.31 251.737 L709.569 251.737 L709.569 257.131 L705.31 257.131 L705.31 251.737 Z\" fill=\"#000000\" fill-rule=\"evenodd\" fill-opacity=\"1\" /><path clip-path=\"url(#clip480)\" d=\"M730.264 274.723 Q725.102 274.723 723.111 275.904 Q721.12 277.084 721.12 279.932 Q721.12 282.2 722.602 283.543 Q724.106 284.862 726.676 284.862 Q730.217 284.862 732.347 282.362 Q734.5 279.839 734.5 275.672 L734.5 274.723 L730.264 274.723 M738.759 272.964 L738.759 287.756 L734.5 287.756 L734.5 283.821 Q733.041 286.182 730.865 287.316 Q728.69 288.427 725.541 288.427 Q721.56 288.427 719.199 286.205 Q716.861 283.959 716.861 280.209 Q716.861 275.834 719.778 273.612 Q722.717 271.39 728.528 271.39 L734.5 271.39 L734.5 270.973 Q734.5 268.034 732.555 266.436 Q730.634 264.816 727.139 264.816 Q724.916 264.816 722.81 265.348 Q720.703 265.881 718.759 266.946 L718.759 263.01 Q721.097 262.108 723.296 261.668 Q725.495 261.205 727.578 261.205 Q733.203 261.205 735.981 264.122 Q738.759 267.038 738.759 272.964 Z\" fill=\"#000000\" fill-rule=\"evenodd\" fill-opacity=\"1\" /><path clip-path=\"url(#clip480)\" d=\"M747.532 251.737 L751.791 251.737 L751.791 287.756 L747.532 287.756 L747.532 251.737 Z\" fill=\"#000000\" fill-rule=\"evenodd\" fill-opacity=\"1\" /></svg>\n"
     },
     "execution_count": 27,
     "metadata": {},
     "output_type": "execute_result"
    }
   ],
   "source": [
    "#= there are different backends to choose from\n",
    "pyplot() # allows to use yguidefontrotation=-90\n",
    "gr()\n",
    "plotjs()\n",
    "=#\n",
    "p=1:0.1:100\n",
    "g(x)=x^-1\n",
    "gg(x)=2.7^(x/100)-1\n",
    "q=g.(p)\n",
    "qq=gg.(p)\n",
    "plot(p,q,label=\"hyperbolic\")\n",
    "# ! implies that it is added to the current plot\n",
    "plot!(p,qq,label=\"exponential\")\n",
    "xlabel!(\"x\")\n",
    "ylabel!(\"y\")\n",
    "title!(\"comparison of hyperbolic and exponential\")"
   ]
  },
  {
   "cell_type": "code",
   "execution_count": 28,
   "metadata": {},
   "outputs": [
    {
     "data": {
      "image/svg+xml": "<?xml version=\"1.0\" encoding=\"utf-8\"?>\n<svg xmlns=\"http://www.w3.org/2000/svg\" xmlns:xlink=\"http://www.w3.org/1999/xlink\" width=\"600\" height=\"400\" viewBox=\"0 0 2400 1600\">\n<defs>\n  <clipPath id=\"clip520\">\n    <rect x=\"0\" y=\"0\" width=\"2400\" height=\"1600\"/>\n  </clipPath>\n</defs>\n<path clip-path=\"url(#clip520)\" d=\"M0 1600 L2400 1600 L2400 0 L0 0  Z\" fill=\"#ffffff\" fill-rule=\"evenodd\" fill-opacity=\"1\"/>\n<defs>\n  <clipPath id=\"clip521\">\n    <rect x=\"480\" y=\"0\" width=\"1681\" height=\"1600\"/>\n  </clipPath>\n</defs>\n<path clip-path=\"url(#clip520)\" d=\"M186.274 1486.45 L1167.84 1486.45 L1167.84 123.472 L186.274 123.472  Z\" fill=\"#ffffff\" fill-rule=\"evenodd\" fill-opacity=\"1\"/>\n<defs>\n  <clipPath id=\"clip522\">\n    <rect x=\"186\" y=\"123\" width=\"983\" height=\"1364\"/>\n  </clipPath>\n</defs>\n<polyline clip-path=\"url(#clip522)\" style=\"stroke:#000000; stroke-linecap:round; stroke-linejoin:round; stroke-width:2; stroke-opacity:0.1; fill:none\" points=\"204.701,1486.45 204.701,123.472 \"/>\n<polyline clip-path=\"url(#clip522)\" style=\"stroke:#000000; stroke-linecap:round; stroke-linejoin:round; stroke-width:2; stroke-opacity:0.1; fill:none\" points=\"438.54,1486.45 438.54,123.472 \"/>\n<polyline clip-path=\"url(#clip522)\" style=\"stroke:#000000; stroke-linecap:round; stroke-linejoin:round; stroke-width:2; stroke-opacity:0.1; fill:none\" points=\"672.379,1486.45 672.379,123.472 \"/>\n<polyline clip-path=\"url(#clip522)\" style=\"stroke:#000000; stroke-linecap:round; stroke-linejoin:round; stroke-width:2; stroke-opacity:0.1; fill:none\" points=\"906.218,1486.45 906.218,123.472 \"/>\n<polyline clip-path=\"url(#clip522)\" style=\"stroke:#000000; stroke-linecap:round; stroke-linejoin:round; stroke-width:2; stroke-opacity:0.1; fill:none\" points=\"1140.06,1486.45 1140.06,123.472 \"/>\n<polyline clip-path=\"url(#clip520)\" style=\"stroke:#000000; stroke-linecap:round; stroke-linejoin:round; stroke-width:4; stroke-opacity:1; fill:none\" points=\"186.274,1486.45 1167.84,1486.45 \"/>\n<polyline clip-path=\"url(#clip520)\" style=\"stroke:#000000; stroke-linecap:round; stroke-linejoin:round; stroke-width:4; stroke-opacity:1; fill:none\" points=\"204.701,1486.45 204.701,1467.55 \"/>\n<polyline clip-path=\"url(#clip520)\" style=\"stroke:#000000; stroke-linecap:round; stroke-linejoin:round; stroke-width:4; stroke-opacity:1; fill:none\" points=\"438.54,1486.45 438.54,1467.55 \"/>\n<polyline clip-path=\"url(#clip520)\" style=\"stroke:#000000; stroke-linecap:round; stroke-linejoin:round; stroke-width:4; stroke-opacity:1; fill:none\" points=\"672.379,1486.45 672.379,1467.55 \"/>\n<polyline clip-path=\"url(#clip520)\" style=\"stroke:#000000; stroke-linecap:round; stroke-linejoin:round; stroke-width:4; stroke-opacity:1; fill:none\" points=\"906.218,1486.45 906.218,1467.55 \"/>\n<polyline clip-path=\"url(#clip520)\" style=\"stroke:#000000; stroke-linecap:round; stroke-linejoin:round; stroke-width:4; stroke-opacity:1; fill:none\" points=\"1140.06,1486.45 1140.06,1467.55 \"/>\n<path clip-path=\"url(#clip520)\" d=\"M204.701 1517.37 Q201.089 1517.37 199.261 1520.93 Q197.455 1524.47 197.455 1531.6 Q197.455 1538.71 199.261 1542.27 Q201.089 1545.82 204.701 1545.82 Q208.335 1545.82 210.14 1542.27 Q211.969 1538.71 211.969 1531.6 Q211.969 1524.47 210.14 1520.93 Q208.335 1517.37 204.701 1517.37 M204.701 1513.66 Q210.511 1513.66 213.566 1518.27 Q216.645 1522.85 216.645 1531.6 Q216.645 1540.33 213.566 1544.94 Q210.511 1549.52 204.701 1549.52 Q198.89 1549.52 195.812 1544.94 Q192.756 1540.33 192.756 1531.6 Q192.756 1522.85 195.812 1518.27 Q198.89 1513.66 204.701 1513.66 Z\" fill=\"#000000\" fill-rule=\"evenodd\" fill-opacity=\"1\" /><path clip-path=\"url(#clip520)\" d=\"M417.811 1544.91 L434.13 1544.91 L434.13 1548.85 L412.186 1548.85 L412.186 1544.91 Q414.848 1542.16 419.431 1537.53 Q424.037 1532.88 425.218 1531.53 Q427.463 1529.01 428.343 1527.27 Q429.246 1525.51 429.246 1523.82 Q429.246 1521.07 427.301 1519.33 Q425.38 1517.6 422.278 1517.6 Q420.079 1517.6 417.625 1518.36 Q415.195 1519.13 412.417 1520.68 L412.417 1515.95 Q415.241 1514.82 417.695 1514.24 Q420.148 1513.66 422.186 1513.66 Q427.556 1513.66 430.75 1516.35 Q433.945 1519.03 433.945 1523.52 Q433.945 1525.65 433.135 1527.57 Q432.347 1529.47 430.241 1532.07 Q429.662 1532.74 426.56 1535.95 Q423.459 1539.15 417.811 1544.91 Z\" fill=\"#000000\" fill-rule=\"evenodd\" fill-opacity=\"1\" /><path clip-path=\"url(#clip520)\" d=\"M443.991 1514.29 L462.347 1514.29 L462.347 1518.22 L448.273 1518.22 L448.273 1526.7 Q449.292 1526.35 450.31 1526.19 Q451.329 1526 452.347 1526 Q458.134 1526 461.514 1529.17 Q464.894 1532.34 464.894 1537.76 Q464.894 1543.34 461.421 1546.44 Q457.949 1549.52 451.63 1549.52 Q449.454 1549.52 447.185 1549.15 Q444.94 1548.78 442.533 1548.04 L442.533 1543.34 Q444.616 1544.47 446.838 1545.03 Q449.06 1545.58 451.537 1545.58 Q455.542 1545.58 457.88 1543.48 Q460.218 1541.37 460.218 1537.76 Q460.218 1534.15 457.88 1532.04 Q455.542 1529.94 451.537 1529.94 Q449.662 1529.94 447.787 1530.35 Q445.935 1530.77 443.991 1531.65 L443.991 1514.29 Z\" fill=\"#000000\" fill-rule=\"evenodd\" fill-opacity=\"1\" /><path clip-path=\"url(#clip520)\" d=\"M647.078 1514.29 L665.434 1514.29 L665.434 1518.22 L651.36 1518.22 L651.36 1526.7 Q652.379 1526.35 653.397 1526.19 Q654.416 1526 655.434 1526 Q661.221 1526 664.601 1529.17 Q667.981 1532.34 667.981 1537.76 Q667.981 1543.34 664.508 1546.44 Q661.036 1549.52 654.717 1549.52 Q652.541 1549.52 650.272 1549.15 Q648.027 1548.78 645.62 1548.04 L645.62 1543.34 Q647.703 1544.47 649.925 1545.03 Q652.147 1545.58 654.624 1545.58 Q658.629 1545.58 660.967 1543.48 Q663.305 1541.37 663.305 1537.76 Q663.305 1534.15 660.967 1532.04 Q658.629 1529.94 654.624 1529.94 Q652.749 1529.94 650.874 1530.35 Q649.022 1530.77 647.078 1531.65 L647.078 1514.29 Z\" fill=\"#000000\" fill-rule=\"evenodd\" fill-opacity=\"1\" /><path clip-path=\"url(#clip520)\" d=\"M687.193 1517.37 Q683.582 1517.37 681.754 1520.93 Q679.948 1524.47 679.948 1531.6 Q679.948 1538.71 681.754 1542.27 Q683.582 1545.82 687.193 1545.82 Q690.828 1545.82 692.633 1542.27 Q694.462 1538.71 694.462 1531.6 Q694.462 1524.47 692.633 1520.93 Q690.828 1517.37 687.193 1517.37 M687.193 1513.66 Q693.004 1513.66 696.059 1518.27 Q699.138 1522.85 699.138 1531.6 Q699.138 1540.33 696.059 1544.94 Q693.004 1549.52 687.193 1549.52 Q681.383 1549.52 678.305 1544.94 Q675.249 1540.33 675.249 1531.6 Q675.249 1522.85 678.305 1518.27 Q681.383 1513.66 687.193 1513.66 Z\" fill=\"#000000\" fill-rule=\"evenodd\" fill-opacity=\"1\" /><path clip-path=\"url(#clip520)\" d=\"M880.072 1514.29 L902.294 1514.29 L902.294 1516.28 L889.748 1548.85 L884.864 1548.85 L896.669 1518.22 L880.072 1518.22 L880.072 1514.29 Z\" fill=\"#000000\" fill-rule=\"evenodd\" fill-opacity=\"1\" /><path clip-path=\"url(#clip520)\" d=\"M911.461 1514.29 L929.817 1514.29 L929.817 1518.22 L915.743 1518.22 L915.743 1526.7 Q916.762 1526.35 917.78 1526.19 Q918.799 1526 919.817 1526 Q925.604 1526 928.984 1529.17 Q932.363 1532.34 932.363 1537.76 Q932.363 1543.34 928.891 1546.44 Q925.419 1549.52 919.1 1549.52 Q916.924 1549.52 914.655 1549.15 Q912.41 1548.78 910.002 1548.04 L910.002 1543.34 Q912.086 1544.47 914.308 1545.03 Q916.53 1545.58 919.007 1545.58 Q923.012 1545.58 925.35 1543.48 Q927.687 1541.37 927.687 1537.76 Q927.687 1534.15 925.35 1532.04 Q923.012 1529.94 919.007 1529.94 Q917.132 1529.94 915.257 1530.35 Q913.405 1530.77 911.461 1531.65 L911.461 1514.29 Z\" fill=\"#000000\" fill-rule=\"evenodd\" fill-opacity=\"1\" /><path clip-path=\"url(#clip520)\" d=\"M1099.66 1544.91 L1107.3 1544.91 L1107.3 1518.55 L1098.99 1520.21 L1098.99 1515.95 L1107.26 1514.29 L1111.93 1514.29 L1111.93 1544.91 L1119.57 1544.91 L1119.57 1548.85 L1099.66 1548.85 L1099.66 1544.91 Z\" fill=\"#000000\" fill-rule=\"evenodd\" fill-opacity=\"1\" /><path clip-path=\"url(#clip520)\" d=\"M1139.02 1517.37 Q1135.4 1517.37 1133.58 1520.93 Q1131.77 1524.47 1131.77 1531.6 Q1131.77 1538.71 1133.58 1542.27 Q1135.4 1545.82 1139.02 1545.82 Q1142.65 1545.82 1144.45 1542.27 Q1146.28 1538.71 1146.28 1531.6 Q1146.28 1524.47 1144.45 1520.93 Q1142.65 1517.37 1139.02 1517.37 M1139.02 1513.66 Q1144.83 1513.66 1147.88 1518.27 Q1150.96 1522.85 1150.96 1531.6 Q1150.96 1540.33 1147.88 1544.94 Q1144.83 1549.52 1139.02 1549.52 Q1133.2 1549.52 1130.13 1544.94 Q1127.07 1540.33 1127.07 1531.6 Q1127.07 1522.85 1130.13 1518.27 Q1133.2 1513.66 1139.02 1513.66 Z\" fill=\"#000000\" fill-rule=\"evenodd\" fill-opacity=\"1\" /><path clip-path=\"url(#clip520)\" d=\"M1169.18 1517.37 Q1165.57 1517.37 1163.74 1520.93 Q1161.93 1524.47 1161.93 1531.6 Q1161.93 1538.71 1163.74 1542.27 Q1165.57 1545.82 1169.18 1545.82 Q1172.81 1545.82 1174.62 1542.27 Q1176.45 1538.71 1176.45 1531.6 Q1176.45 1524.47 1174.62 1520.93 Q1172.81 1517.37 1169.18 1517.37 M1169.18 1513.66 Q1174.99 1513.66 1178.04 1518.27 Q1181.12 1522.85 1181.12 1531.6 Q1181.12 1540.33 1178.04 1544.94 Q1174.99 1549.52 1169.18 1549.52 Q1163.37 1549.52 1160.29 1544.94 Q1157.23 1540.33 1157.23 1531.6 Q1157.23 1522.85 1160.29 1518.27 Q1163.37 1513.66 1169.18 1513.66 Z\" fill=\"#000000\" fill-rule=\"evenodd\" fill-opacity=\"1\" /><polyline clip-path=\"url(#clip522)\" style=\"stroke:#000000; stroke-linecap:round; stroke-linejoin:round; stroke-width:2; stroke-opacity:0.1; fill:none\" points=\"186.274,1460.86 1167.84,1460.86 \"/>\n<polyline clip-path=\"url(#clip522)\" style=\"stroke:#000000; stroke-linecap:round; stroke-linejoin:round; stroke-width:2; stroke-opacity:0.1; fill:none\" points=\"186.274,1136.16 1167.84,1136.16 \"/>\n<polyline clip-path=\"url(#clip522)\" style=\"stroke:#000000; stroke-linecap:round; stroke-linejoin:round; stroke-width:2; stroke-opacity:0.1; fill:none\" points=\"186.274,811.454 1167.84,811.454 \"/>\n<polyline clip-path=\"url(#clip522)\" style=\"stroke:#000000; stroke-linecap:round; stroke-linejoin:round; stroke-width:2; stroke-opacity:0.1; fill:none\" points=\"186.274,486.75 1167.84,486.75 \"/>\n<polyline clip-path=\"url(#clip522)\" style=\"stroke:#000000; stroke-linecap:round; stroke-linejoin:round; stroke-width:2; stroke-opacity:0.1; fill:none\" points=\"186.274,162.047 1167.84,162.047 \"/>\n<polyline clip-path=\"url(#clip520)\" style=\"stroke:#000000; stroke-linecap:round; stroke-linejoin:round; stroke-width:4; stroke-opacity:1; fill:none\" points=\"186.274,1486.45 186.274,123.472 \"/>\n<polyline clip-path=\"url(#clip520)\" style=\"stroke:#000000; stroke-linecap:round; stroke-linejoin:round; stroke-width:4; stroke-opacity:1; fill:none\" points=\"186.274,1460.86 205.172,1460.86 \"/>\n<polyline clip-path=\"url(#clip520)\" style=\"stroke:#000000; stroke-linecap:round; stroke-linejoin:round; stroke-width:4; stroke-opacity:1; fill:none\" points=\"186.274,1136.16 205.172,1136.16 \"/>\n<polyline clip-path=\"url(#clip520)\" style=\"stroke:#000000; stroke-linecap:round; stroke-linejoin:round; stroke-width:4; stroke-opacity:1; fill:none\" points=\"186.274,811.454 205.172,811.454 \"/>\n<polyline clip-path=\"url(#clip520)\" style=\"stroke:#000000; stroke-linecap:round; stroke-linejoin:round; stroke-width:4; stroke-opacity:1; fill:none\" points=\"186.274,486.75 205.172,486.75 \"/>\n<polyline clip-path=\"url(#clip520)\" style=\"stroke:#000000; stroke-linecap:round; stroke-linejoin:round; stroke-width:4; stroke-opacity:1; fill:none\" points=\"186.274,162.047 205.172,162.047 \"/>\n<path clip-path=\"url(#clip520)\" d=\"M62.9365 1446.66 Q59.3254 1446.66 57.4967 1450.22 Q55.6912 1453.77 55.6912 1460.9 Q55.6912 1468 57.4967 1471.57 Q59.3254 1475.11 62.9365 1475.11 Q66.5707 1475.11 68.3763 1471.57 Q70.205 1468 70.205 1460.9 Q70.205 1453.77 68.3763 1450.22 Q66.5707 1446.66 62.9365 1446.66 M62.9365 1442.96 Q68.7467 1442.96 71.8022 1447.56 Q74.8809 1452.15 74.8809 1460.9 Q74.8809 1469.62 71.8022 1474.23 Q68.7467 1478.81 62.9365 1478.81 Q57.1264 1478.81 54.0477 1474.23 Q50.9921 1469.62 50.9921 1460.9 Q50.9921 1452.15 54.0477 1447.56 Q57.1264 1442.96 62.9365 1442.96 Z\" fill=\"#000000\" fill-rule=\"evenodd\" fill-opacity=\"1\" /><path clip-path=\"url(#clip520)\" d=\"M83.0984 1472.26 L87.9827 1472.26 L87.9827 1478.14 L83.0984 1478.14 L83.0984 1472.26 Z\" fill=\"#000000\" fill-rule=\"evenodd\" fill-opacity=\"1\" /><path clip-path=\"url(#clip520)\" d=\"M108.168 1446.66 Q104.557 1446.66 102.728 1450.22 Q100.922 1453.77 100.922 1460.9 Q100.922 1468 102.728 1471.57 Q104.557 1475.11 108.168 1475.11 Q111.802 1475.11 113.608 1471.57 Q115.436 1468 115.436 1460.9 Q115.436 1453.77 113.608 1450.22 Q111.802 1446.66 108.168 1446.66 M108.168 1442.96 Q113.978 1442.96 117.033 1447.56 Q120.112 1452.15 120.112 1460.9 Q120.112 1469.62 117.033 1474.23 Q113.978 1478.81 108.168 1478.81 Q102.358 1478.81 99.2789 1474.23 Q96.2234 1469.62 96.2234 1460.9 Q96.2234 1452.15 99.2789 1447.56 Q102.358 1442.96 108.168 1442.96 Z\" fill=\"#000000\" fill-rule=\"evenodd\" fill-opacity=\"1\" /><path clip-path=\"url(#clip520)\" d=\"M138.33 1446.66 Q134.719 1446.66 132.89 1450.22 Q131.084 1453.77 131.084 1460.9 Q131.084 1468 132.89 1471.57 Q134.719 1475.11 138.33 1475.11 Q141.964 1475.11 143.769 1471.57 Q145.598 1468 145.598 1460.9 Q145.598 1453.77 143.769 1450.22 Q141.964 1446.66 138.33 1446.66 M138.33 1442.96 Q144.14 1442.96 147.195 1447.56 Q150.274 1452.15 150.274 1460.9 Q150.274 1469.62 147.195 1474.23 Q144.14 1478.81 138.33 1478.81 Q132.519 1478.81 129.441 1474.23 Q126.385 1469.62 126.385 1460.9 Q126.385 1452.15 129.441 1447.56 Q132.519 1442.96 138.33 1442.96 Z\" fill=\"#000000\" fill-rule=\"evenodd\" fill-opacity=\"1\" /><path clip-path=\"url(#clip520)\" d=\"M63.9319 1121.96 Q60.3208 1121.96 58.4921 1125.52 Q56.6865 1129.06 56.6865 1136.19 Q56.6865 1143.3 58.4921 1146.86 Q60.3208 1150.41 63.9319 1150.41 Q67.5661 1150.41 69.3717 1146.86 Q71.2004 1143.3 71.2004 1136.19 Q71.2004 1129.06 69.3717 1125.52 Q67.5661 1121.96 63.9319 1121.96 M63.9319 1118.25 Q69.742 1118.25 72.7976 1122.86 Q75.8763 1127.44 75.8763 1136.19 Q75.8763 1144.92 72.7976 1149.53 Q69.742 1154.11 63.9319 1154.11 Q58.1217 1154.11 55.043 1149.53 Q51.9875 1144.92 51.9875 1136.19 Q51.9875 1127.44 55.043 1122.86 Q58.1217 1118.25 63.9319 1118.25 Z\" fill=\"#000000\" fill-rule=\"evenodd\" fill-opacity=\"1\" /><path clip-path=\"url(#clip520)\" d=\"M84.0938 1147.56 L88.978 1147.56 L88.978 1153.44 L84.0938 1153.44 L84.0938 1147.56 Z\" fill=\"#000000\" fill-rule=\"evenodd\" fill-opacity=\"1\" /><path clip-path=\"url(#clip520)\" d=\"M103.191 1149.5 L119.51 1149.5 L119.51 1153.44 L97.566 1153.44 L97.566 1149.5 Q100.228 1146.75 104.811 1142.12 Q109.418 1137.47 110.598 1136.12 Q112.844 1133.6 113.723 1131.86 Q114.626 1130.1 114.626 1128.41 Q114.626 1125.66 112.682 1123.92 Q110.76 1122.19 107.658 1122.19 Q105.459 1122.19 103.006 1122.95 Q100.575 1123.72 97.7974 1125.27 L97.7974 1120.54 Q100.621 1119.41 103.075 1118.83 Q105.529 1118.25 107.566 1118.25 Q112.936 1118.25 116.131 1120.94 Q119.325 1123.62 119.325 1128.11 Q119.325 1130.24 118.515 1132.16 Q117.728 1134.06 115.621 1136.66 Q115.043 1137.33 111.941 1140.54 Q108.839 1143.74 103.191 1149.5 Z\" fill=\"#000000\" fill-rule=\"evenodd\" fill-opacity=\"1\" /><path clip-path=\"url(#clip520)\" d=\"M129.371 1118.88 L147.728 1118.88 L147.728 1122.81 L133.654 1122.81 L133.654 1131.28 Q134.672 1130.94 135.691 1130.78 Q136.709 1130.59 137.728 1130.59 Q143.515 1130.59 146.894 1133.76 Q150.274 1136.93 150.274 1142.35 Q150.274 1147.93 146.802 1151.03 Q143.33 1154.11 137.01 1154.11 Q134.834 1154.11 132.566 1153.74 Q130.32 1153.37 127.913 1152.63 L127.913 1147.93 Q129.996 1149.06 132.219 1149.62 Q134.441 1150.17 136.918 1150.17 Q140.922 1150.17 143.26 1148.07 Q145.598 1145.96 145.598 1142.35 Q145.598 1138.74 143.26 1136.63 Q140.922 1134.53 136.918 1134.53 Q135.043 1134.53 133.168 1134.94 Q131.316 1135.36 129.371 1136.24 L129.371 1118.88 Z\" fill=\"#000000\" fill-rule=\"evenodd\" fill-opacity=\"1\" /><path clip-path=\"url(#clip520)\" d=\"M62.9365 797.253 Q59.3254 797.253 57.4967 800.818 Q55.6912 804.359 55.6912 811.489 Q55.6912 818.595 57.4967 822.16 Q59.3254 825.702 62.9365 825.702 Q66.5707 825.702 68.3763 822.16 Q70.205 818.595 70.205 811.489 Q70.205 804.359 68.3763 800.818 Q66.5707 797.253 62.9365 797.253 M62.9365 793.549 Q68.7467 793.549 71.8022 798.156 Q74.8809 802.739 74.8809 811.489 Q74.8809 820.216 71.8022 824.822 Q68.7467 829.405 62.9365 829.405 Q57.1264 829.405 54.0477 824.822 Q50.9921 820.216 50.9921 811.489 Q50.9921 802.739 54.0477 798.156 Q57.1264 793.549 62.9365 793.549 Z\" fill=\"#000000\" fill-rule=\"evenodd\" fill-opacity=\"1\" /><path clip-path=\"url(#clip520)\" d=\"M83.0984 822.854 L87.9827 822.854 L87.9827 828.734 L83.0984 828.734 L83.0984 822.854 Z\" fill=\"#000000\" fill-rule=\"evenodd\" fill-opacity=\"1\" /><path clip-path=\"url(#clip520)\" d=\"M98.2141 794.174 L116.57 794.174 L116.57 798.109 L102.496 798.109 L102.496 806.581 Q103.515 806.234 104.534 806.072 Q105.552 805.887 106.571 805.887 Q112.358 805.887 115.737 809.058 Q119.117 812.23 119.117 817.646 Q119.117 823.225 115.645 826.327 Q112.172 829.405 105.853 829.405 Q103.677 829.405 101.409 829.035 Q99.1632 828.665 96.7558 827.924 L96.7558 823.225 Q98.8391 824.359 101.061 824.915 Q103.284 825.47 105.76 825.47 Q109.765 825.47 112.103 823.364 Q114.441 821.257 114.441 817.646 Q114.441 814.035 112.103 811.929 Q109.765 809.822 105.76 809.822 Q103.885 809.822 102.01 810.239 Q100.159 810.655 98.2141 811.535 L98.2141 794.174 Z\" fill=\"#000000\" fill-rule=\"evenodd\" fill-opacity=\"1\" /><path clip-path=\"url(#clip520)\" d=\"M138.33 797.253 Q134.719 797.253 132.89 800.818 Q131.084 804.359 131.084 811.489 Q131.084 818.595 132.89 822.16 Q134.719 825.702 138.33 825.702 Q141.964 825.702 143.769 822.16 Q145.598 818.595 145.598 811.489 Q145.598 804.359 143.769 800.818 Q141.964 797.253 138.33 797.253 M138.33 793.549 Q144.14 793.549 147.195 798.156 Q150.274 802.739 150.274 811.489 Q150.274 820.216 147.195 824.822 Q144.14 829.405 138.33 829.405 Q132.519 829.405 129.441 824.822 Q126.385 820.216 126.385 811.489 Q126.385 802.739 129.441 798.156 Q132.519 793.549 138.33 793.549 Z\" fill=\"#000000\" fill-rule=\"evenodd\" fill-opacity=\"1\" /><path clip-path=\"url(#clip520)\" d=\"M63.9319 472.549 Q60.3208 472.549 58.4921 476.114 Q56.6865 479.656 56.6865 486.785 Q56.6865 493.892 58.4921 497.456 Q60.3208 500.998 63.9319 500.998 Q67.5661 500.998 69.3717 497.456 Q71.2004 493.892 71.2004 486.785 Q71.2004 479.656 69.3717 476.114 Q67.5661 472.549 63.9319 472.549 M63.9319 468.845 Q69.742 468.845 72.7976 473.452 Q75.8763 478.035 75.8763 486.785 Q75.8763 495.512 72.7976 500.118 Q69.742 504.702 63.9319 504.702 Q58.1217 504.702 55.043 500.118 Q51.9875 495.512 51.9875 486.785 Q51.9875 478.035 55.043 473.452 Q58.1217 468.845 63.9319 468.845 Z\" fill=\"#000000\" fill-rule=\"evenodd\" fill-opacity=\"1\" /><path clip-path=\"url(#clip520)\" d=\"M84.0938 498.151 L88.978 498.151 L88.978 504.03 L84.0938 504.03 L84.0938 498.151 Z\" fill=\"#000000\" fill-rule=\"evenodd\" fill-opacity=\"1\" /><path clip-path=\"url(#clip520)\" d=\"M97.9826 469.47 L120.205 469.47 L120.205 471.461 L107.658 504.03 L102.774 504.03 L114.58 473.406 L97.9826 473.406 L97.9826 469.47 Z\" fill=\"#000000\" fill-rule=\"evenodd\" fill-opacity=\"1\" /><path clip-path=\"url(#clip520)\" d=\"M129.371 469.47 L147.728 469.47 L147.728 473.406 L133.654 473.406 L133.654 481.878 Q134.672 481.531 135.691 481.369 Q136.709 481.183 137.728 481.183 Q143.515 481.183 146.894 484.355 Q150.274 487.526 150.274 492.943 Q150.274 498.521 146.802 501.623 Q143.33 504.702 137.01 504.702 Q134.834 504.702 132.566 504.331 Q130.32 503.961 127.913 503.22 L127.913 498.521 Q129.996 499.656 132.219 500.211 Q134.441 500.767 136.918 500.767 Q140.922 500.767 143.26 498.66 Q145.598 496.554 145.598 492.943 Q145.598 489.331 143.26 487.225 Q140.922 485.119 136.918 485.119 Q135.043 485.119 133.168 485.535 Q131.316 485.952 129.371 486.832 L129.371 469.47 Z\" fill=\"#000000\" fill-rule=\"evenodd\" fill-opacity=\"1\" /><path clip-path=\"url(#clip520)\" d=\"M53.7467 175.392 L61.3856 175.392 L61.3856 149.026 L53.0754 150.693 L53.0754 146.434 L61.3393 144.767 L66.0152 144.767 L66.0152 175.392 L73.654 175.392 L73.654 179.327 L53.7467 179.327 L53.7467 175.392 Z\" fill=\"#000000\" fill-rule=\"evenodd\" fill-opacity=\"1\" /><path clip-path=\"url(#clip520)\" d=\"M83.0984 173.447 L87.9827 173.447 L87.9827 179.327 L83.0984 179.327 L83.0984 173.447 Z\" fill=\"#000000\" fill-rule=\"evenodd\" fill-opacity=\"1\" /><path clip-path=\"url(#clip520)\" d=\"M108.168 147.846 Q104.557 147.846 102.728 151.41 Q100.922 154.952 100.922 162.082 Q100.922 169.188 102.728 172.753 Q104.557 176.295 108.168 176.295 Q111.802 176.295 113.608 172.753 Q115.436 169.188 115.436 162.082 Q115.436 154.952 113.608 151.41 Q111.802 147.846 108.168 147.846 M108.168 144.142 Q113.978 144.142 117.033 148.748 Q120.112 153.332 120.112 162.082 Q120.112 170.808 117.033 175.415 Q113.978 179.998 108.168 179.998 Q102.358 179.998 99.2789 175.415 Q96.2234 170.808 96.2234 162.082 Q96.2234 153.332 99.2789 148.748 Q102.358 144.142 108.168 144.142 Z\" fill=\"#000000\" fill-rule=\"evenodd\" fill-opacity=\"1\" /><path clip-path=\"url(#clip520)\" d=\"M138.33 147.846 Q134.719 147.846 132.89 151.41 Q131.084 154.952 131.084 162.082 Q131.084 169.188 132.89 172.753 Q134.719 176.295 138.33 176.295 Q141.964 176.295 143.769 172.753 Q145.598 169.188 145.598 162.082 Q145.598 154.952 143.769 151.41 Q141.964 147.846 138.33 147.846 M138.33 144.142 Q144.14 144.142 147.195 148.748 Q150.274 153.332 150.274 162.082 Q150.274 170.808 147.195 175.415 Q144.14 179.998 138.33 179.998 Q132.519 179.998 129.441 175.415 Q126.385 170.808 126.385 162.082 Q126.385 153.332 129.441 148.748 Q132.519 144.142 138.33 144.142 Z\" fill=\"#000000\" fill-rule=\"evenodd\" fill-opacity=\"1\" /><path clip-path=\"url(#clip520)\" d=\"M504.082 45.1919 L504.082 72.576 L496.628 72.576 L496.628 45.4349 Q496.628 38.994 494.117 35.7938 Q491.605 32.5936 486.582 32.5936 Q480.546 32.5936 477.062 36.4419 Q473.579 40.2903 473.579 46.9338 L473.579 72.576 L466.084 72.576 L466.084 9.54393 L473.579 9.54393 L473.579 34.2544 Q476.252 30.163 479.857 28.1376 Q483.503 26.1121 488.243 26.1121 Q496.061 26.1121 500.071 30.9732 Q504.082 35.7938 504.082 45.1919 Z\" fill=\"#000000\" fill-rule=\"evenodd\" fill-opacity=\"1\" /><path clip-path=\"url(#clip520)\" d=\"M537.826 76.7889 Q534.666 84.8907 531.668 87.3618 Q528.671 89.8329 523.648 89.8329 L517.693 89.8329 L517.693 83.5945 L522.068 83.5945 Q525.147 83.5945 526.848 82.1361 Q528.549 80.6778 530.615 75.2496 L531.952 71.8468 L513.601 27.2059 L521.501 27.2059 L535.679 62.6918 L549.857 27.2059 L557.756 27.2059 L537.826 76.7889 Z\" fill=\"#000000\" fill-rule=\"evenodd\" fill-opacity=\"1\" /><path clip-path=\"url(#clip520)\" d=\"M575.256 65.7705 L575.256 89.8329 L567.762 89.8329 L567.762 27.2059 L575.256 27.2059 L575.256 34.0924 Q577.606 30.0415 581.171 28.0971 Q584.776 26.1121 589.758 26.1121 Q598.022 26.1121 603.167 32.6746 Q608.352 39.2371 608.352 49.9314 Q608.352 60.6258 603.167 67.1883 Q598.022 73.7508 589.758 73.7508 Q584.776 73.7508 581.171 71.8063 Q577.606 69.8214 575.256 65.7705 M600.615 49.9314 Q600.615 41.7081 597.212 37.0496 Q593.85 32.3505 587.936 32.3505 Q582.021 32.3505 578.618 37.0496 Q575.256 41.7081 575.256 49.9314 Q575.256 58.1548 578.618 62.8538 Q582.021 67.5124 587.936 67.5124 Q593.85 67.5124 597.212 62.8538 Q600.615 58.1548 600.615 49.9314 Z\" fill=\"#000000\" fill-rule=\"evenodd\" fill-opacity=\"1\" /><path clip-path=\"url(#clip520)\" d=\"M659.515 48.0275 L659.515 51.6733 L625.244 51.6733 Q625.73 59.3701 629.862 63.421 Q634.035 67.4314 641.448 67.4314 Q645.742 67.4314 649.752 66.3781 Q653.803 65.3249 657.773 63.2184 L657.773 70.267 Q653.763 71.9684 649.55 72.8596 Q645.337 73.7508 641.002 73.7508 Q630.146 73.7508 623.786 67.4314 Q617.467 61.1119 617.467 50.3365 Q617.467 39.1965 623.462 32.6746 Q629.498 26.1121 639.706 26.1121 Q648.861 26.1121 654.168 32.0264 Q659.515 37.9003 659.515 48.0275 M652.061 45.84 Q651.98 39.7232 648.618 36.0774 Q645.296 32.4315 639.787 32.4315 Q633.549 32.4315 629.781 35.9558 Q626.055 39.4801 625.487 45.8805 L652.061 45.84 Z\" fill=\"#000000\" fill-rule=\"evenodd\" fill-opacity=\"1\" /><path clip-path=\"url(#clip520)\" d=\"M698.039 34.1734 Q696.783 33.4443 695.284 33.1202 Q693.826 32.7556 692.044 32.7556 Q685.724 32.7556 682.322 36.8875 Q678.959 40.9789 678.959 48.6757 L678.959 72.576 L671.465 72.576 L671.465 27.2059 L678.959 27.2059 L678.959 34.2544 Q681.309 30.1225 685.076 28.1376 Q688.844 26.1121 694.231 26.1121 Q695.001 26.1121 695.933 26.2337 Q696.864 26.3147 697.999 26.5172 L698.039 34.1734 Z\" fill=\"#000000\" fill-rule=\"evenodd\" fill-opacity=\"1\" /><path clip-path=\"url(#clip520)\" d=\"M738.427 49.9314 Q738.427 41.7081 735.024 37.0496 Q731.662 32.3505 725.747 32.3505 Q719.833 32.3505 716.43 37.0496 Q713.068 41.7081 713.068 49.9314 Q713.068 58.1548 716.43 62.8538 Q719.833 67.5124 725.747 67.5124 Q731.662 67.5124 735.024 62.8538 Q738.427 58.1548 738.427 49.9314 M713.068 34.0924 Q715.417 30.0415 718.982 28.0971 Q722.588 26.1121 727.57 26.1121 Q735.834 26.1121 740.979 32.6746 Q746.164 39.2371 746.164 49.9314 Q746.164 60.6258 740.979 67.1883 Q735.834 73.7508 727.57 73.7508 Q722.588 73.7508 718.982 71.8063 Q715.417 69.8214 713.068 65.7705 L713.068 72.576 L705.574 72.576 L705.574 9.54393 L713.068 9.54393 L713.068 34.0924 Z\" fill=\"#000000\" fill-rule=\"evenodd\" fill-opacity=\"1\" /><path clip-path=\"url(#clip520)\" d=\"M776.1 32.4315 Q770.105 32.4315 766.621 37.1306 Q763.137 41.7891 763.137 49.9314 Q763.137 58.0738 766.58 62.7728 Q770.064 67.4314 776.1 67.4314 Q782.055 67.4314 785.539 62.7323 Q789.022 58.0333 789.022 49.9314 Q789.022 41.8701 785.539 37.1711 Q782.055 32.4315 776.1 32.4315 M776.1 26.1121 Q785.822 26.1121 791.372 32.4315 Q796.922 38.7509 796.922 49.9314 Q796.922 61.0714 791.372 67.4314 Q785.822 73.7508 776.1 73.7508 Q766.337 73.7508 760.788 67.4314 Q755.278 61.0714 755.278 49.9314 Q755.278 38.7509 760.788 32.4315 Q766.337 26.1121 776.1 26.1121 Z\" fill=\"#000000\" fill-rule=\"evenodd\" fill-opacity=\"1\" /><path clip-path=\"url(#clip520)\" d=\"M809.277 9.54393 L816.731 9.54393 L816.731 72.576 L809.277 72.576 L809.277 9.54393 Z\" fill=\"#000000\" fill-rule=\"evenodd\" fill-opacity=\"1\" /><path clip-path=\"url(#clip520)\" d=\"M832.327 27.2059 L839.78 27.2059 L839.78 72.576 L832.327 72.576 L832.327 27.2059 M832.327 9.54393 L839.78 9.54393 L839.78 18.9825 L832.327 18.9825 L832.327 9.54393 Z\" fill=\"#000000\" fill-rule=\"evenodd\" fill-opacity=\"1\" /><path clip-path=\"url(#clip520)\" d=\"M888.027 28.9478 L888.027 35.9153 Q884.867 34.1734 881.667 33.3227 Q878.507 32.4315 875.266 32.4315 Q868.015 32.4315 864.005 37.0496 Q859.994 41.6271 859.994 49.9314 Q859.994 58.2358 864.005 62.8538 Q868.015 67.4314 875.266 67.4314 Q878.507 67.4314 881.667 66.5807 Q884.867 65.6895 888.027 63.9476 L888.027 70.8341 Q884.907 72.2924 881.545 73.0216 Q878.223 73.7508 874.456 73.7508 Q864.207 73.7508 858.171 67.3098 Q852.136 60.8689 852.136 49.9314 Q852.136 38.832 858.212 32.472 Q864.329 26.1121 874.942 26.1121 Q878.385 26.1121 881.667 26.8413 Q884.948 27.5299 888.027 28.9478 Z\" fill=\"#000000\" fill-rule=\"evenodd\" fill-opacity=\"1\" /><polyline clip-path=\"url(#clip522)\" style=\"stroke:#009af9; stroke-linecap:round; stroke-linejoin:round; stroke-width:4; stroke-opacity:1; fill:none\" points=\"214.054,162.047 214.989,280.121 215.925,378.516 216.86,461.773 217.796,533.137 218.731,594.985 219.666,649.102 220.602,696.853 221.537,739.298 222.472,777.275 223.408,811.454 224.343,842.378 225.278,870.491 226.214,896.159 227.149,919.689 228.084,941.336 229.02,961.317 229.955,979.819 230.89,996.999 231.826,1012.99 232.761,1027.92 233.697,1041.89 234.632,1054.98 235.567,1067.28 236.503,1078.86 237.438,1089.77 238.373,1100.08 239.309,1109.83 240.244,1119.07 241.179,1127.83 242.115,1136.16 243.05,1144.08 243.985,1151.62 244.921,1158.81 245.856,1165.68 246.792,1172.24 247.727,1178.51 248.662,1184.52 249.598,1190.27 250.533,1195.8 251.468,1201.1 252.404,1206.19 253.339,1211.09 254.274,1215.8 255.21,1220.34 256.145,1224.71 257.08,1228.93 258.016,1233 258.951,1236.93 259.887,1240.72 260.822,1244.39 261.757,1247.94 262.693,1251.38 263.628,1254.7 264.563,1257.92 265.499,1261.04 266.434,1264.07 267.369,1267.01 268.305,1269.86 269.24,1272.63 270.175,1275.32 271.111,1277.93 272.046,1280.47 272.982,1282.94 273.917,1285.35 274.852,1287.69 275.788,1289.96 276.723,1292.18 277.658,1294.35 278.594,1296.45 279.529,1298.51 280.464,1300.51 281.4,1302.47 282.335,1304.38 283.27,1306.24 284.206,1308.06 285.141,1309.84 286.077,1311.57 287.012,1313.27 287.947,1314.93 288.883,1316.55 289.818,1318.13 290.753,1319.69 291.689,1321.2 292.624,1322.69 293.559,1324.14 294.495,1325.57 295.43,1326.96 296.365,1328.33 297.301,1329.67 298.236,1330.98 299.171,1332.27 300.107,1333.53 301.042,1334.76 301.978,1335.98 302.913,1337.16 303.848,1338.33 304.784,1339.48 305.719,1340.6 306.654,1341.7 307.59,1342.79 308.525,1343.85 309.46,1344.9 310.396,1345.92 311.331,1346.93 312.266,1347.92 313.202,1348.89 314.137,1349.85 315.073,1350.79 316.008,1351.72 316.943,1352.63 317.879,1353.52 318.814,1354.4 319.749,1355.27 320.685,1356.12 321.62,1356.96 322.555,1357.78 323.491,1358.59 324.426,1359.39 325.361,1360.18 326.297,1360.95 327.232,1361.72 328.168,1362.47 329.103,1363.21 330.038,1363.93 330.974,1364.65 331.909,1365.36 332.844,1366.06 333.78,1366.74 334.715,1367.42 335.65,1368.09 336.586,1368.75 337.521,1369.4 338.456,1370.04 339.392,1370.67 340.327,1371.29 341.263,1371.9 342.198,1372.51 343.133,1373.1 344.069,1373.69 345.004,1374.27 345.939,1374.85 346.875,1375.41 347.81,1375.97 348.745,1376.52 349.681,1377.07 350.616,1377.6 351.551,1378.13 352.487,1378.66 353.422,1379.17 354.358,1379.69 355.293,1380.19 356.228,1380.69 357.164,1381.18 358.099,1381.67 359.034,1382.15 359.97,1382.62 360.905,1383.09 361.84,1383.55 362.776,1384.01 363.711,1384.46 364.646,1384.91 365.582,1385.35 366.517,1385.79 367.453,1386.22 368.388,1386.64 369.323,1387.06 370.259,1387.48 371.194,1387.89 372.129,1388.3 373.065,1388.7 374,1389.1 374.935,1389.5 375.871,1389.89 376.806,1390.27 377.741,1390.66 378.677,1391.03 379.612,1391.41 380.547,1391.78 381.483,1392.14 382.418,1392.5 383.354,1392.86 384.289,1393.21 385.224,1393.57 386.16,1393.91 387.095,1394.26 388.03,1394.6 388.966,1394.93 389.901,1395.26 390.836,1395.59 391.772,1395.92 392.707,1396.24 393.642,1396.56 394.578,1396.88 395.513,1397.19 396.449,1397.5 397.384,1397.81 398.319,1398.12 399.255,1398.42 400.19,1398.72 401.125,1399.01 402.061,1399.31 402.996,1399.6 403.931,1399.88 404.867,1400.17 405.802,1400.45 406.737,1400.73 407.673,1401.01 408.608,1401.28 409.544,1401.55 410.479,1401.82 411.414,1402.09 412.35,1402.36 413.285,1402.62 414.22,1402.88 415.156,1403.14 416.091,1403.39 417.026,1403.64 417.962,1403.9 418.897,1404.14 419.832,1404.39 420.768,1404.64 421.703,1404.88 422.639,1405.12 423.574,1405.36 424.509,1405.59 425.445,1405.83 426.38,1406.06 427.315,1406.29 428.251,1406.52 429.186,1406.74 430.121,1406.97 431.057,1407.19 431.992,1407.41 432.927,1407.63 433.863,1407.85 434.798,1408.06 435.734,1408.28 436.669,1408.49 437.604,1408.7 438.54,1408.91 439.475,1409.12 440.41,1409.32 441.346,1409.52 442.281,1409.73 443.216,1409.93 444.152,1410.13 445.087,1410.32 446.022,1410.52 446.958,1410.71 447.893,1410.91 448.828,1411.1 449.764,1411.29 450.699,1411.48 451.635,1411.66 452.57,1411.85 453.505,1412.03 454.441,1412.22 455.376,1412.4 456.311,1412.58 457.247,1412.76 458.182,1412.93 459.117,1413.11 460.053,1413.29 460.988,1413.46 461.923,1413.63 462.859,1413.8 463.794,1413.97 464.73,1414.14 465.665,1414.31 466.6,1414.48 467.536,1414.64 468.471,1414.8 469.406,1414.97 470.342,1415.13 471.277,1415.29 472.212,1415.45 473.148,1415.61 474.083,1415.76 475.018,1415.92 475.954,1416.07 476.889,1416.23 477.825,1416.38 478.76,1416.53 479.695,1416.68 480.631,1416.83 481.566,1416.98 482.501,1417.13 483.437,1417.28 484.372,1417.42 485.307,1417.57 486.243,1417.71 487.178,1417.85 488.113,1418 489.049,1418.14 489.984,1418.28 490.92,1418.42 491.855,1418.55 492.79,1418.69 493.726,1418.83 494.661,1418.96 495.596,1419.1 496.532,1419.23 497.467,1419.37 498.402,1419.5 499.338,1419.63 500.273,1419.76 501.208,1419.89 502.144,1420.02 503.079,1420.15 504.015,1420.27 504.95,1420.4 505.885,1420.53 506.821,1420.65 507.756,1420.77 508.691,1420.9 509.627,1421.02 510.562,1421.14 511.497,1421.26 512.433,1421.38 513.368,1421.5 514.303,1421.62 515.239,1421.74 516.174,1421.86 517.11,1421.97 518.045,1422.09 518.98,1422.21 519.916,1422.32 520.851,1422.43 521.786,1422.55 522.722,1422.66 523.657,1422.77 524.592,1422.88 525.528,1422.99 526.463,1423.11 527.398,1423.21 528.334,1423.32 529.269,1423.43 530.204,1423.54 531.14,1423.65 532.075,1423.75 533.011,1423.86 533.946,1423.96 534.881,1424.07 535.817,1424.17 536.752,1424.27 537.687,1424.38 538.623,1424.48 539.558,1424.58 540.493,1424.68 541.429,1424.78 542.364,1424.88 543.299,1424.98 544.235,1425.08 545.17,1425.18 546.106,1425.28 547.041,1425.37 547.976,1425.47 548.912,1425.57 549.847,1425.66 550.782,1425.76 551.718,1425.85 552.653,1425.95 553.588,1426.04 554.524,1426.13 555.459,1426.23 556.394,1426.32 557.33,1426.41 558.265,1426.5 559.201,1426.59 560.136,1426.68 561.071,1426.77 562.007,1426.86 562.942,1426.95 563.877,1427.04 564.813,1427.13 565.748,1427.21 566.683,1427.3 567.619,1427.39 568.554,1427.47 569.489,1427.56 570.425,1427.64 571.36,1427.73 572.296,1427.81 573.231,1427.9 574.166,1427.98 575.102,1428.06 576.037,1428.15 576.972,1428.23 577.908,1428.31 578.843,1428.39 579.778,1428.47 580.714,1428.55 581.649,1428.63 582.584,1428.71 583.52,1428.79 584.455,1428.87 585.391,1428.95 586.326,1429.03 587.261,1429.11 588.197,1429.18 589.132,1429.26 590.067,1429.34 591.003,1429.41 591.938,1429.49 592.873,1429.56 593.809,1429.64 594.744,1429.71 595.679,1429.79 596.615,1429.86 597.55,1429.94 598.485,1430.01 599.421,1430.08 600.356,1430.16 601.292,1430.23 602.227,1430.3 603.162,1430.37 604.098,1430.44 605.033,1430.52 605.968,1430.59 606.904,1430.66 607.839,1430.73 608.774,1430.8 609.71,1430.87 610.645,1430.93 611.58,1431 612.516,1431.07 613.451,1431.14 614.387,1431.21 615.322,1431.28 616.257,1431.34 617.193,1431.41 618.128,1431.48 619.063,1431.54 619.999,1431.61 620.934,1431.67 621.869,1431.74 622.805,1431.8 623.74,1431.87 624.675,1431.93 625.611,1432 626.546,1432.06 627.482,1432.13 628.417,1432.19 629.352,1432.25 630.288,1432.32 631.223,1432.38 632.158,1432.44 633.094,1432.5 634.029,1432.56 634.964,1432.63 635.9,1432.69 636.835,1432.75 637.77,1432.81 638.706,1432.87 639.641,1432.93 640.577,1432.99 641.512,1433.05 642.447,1433.11 643.383,1433.17 644.318,1433.23 645.253,1433.29 646.189,1433.34 647.124,1433.4 648.059,1433.46 648.995,1433.52 649.93,1433.58 650.865,1433.63 651.801,1433.69 652.736,1433.75 653.672,1433.8 654.607,1433.86 655.542,1433.91 656.478,1433.97 657.413,1434.03 658.348,1434.08 659.284,1434.14 660.219,1434.19 661.154,1434.25 662.09,1434.3 663.025,1434.35 663.96,1434.41 664.896,1434.46 665.831,1434.52 666.767,1434.57 667.702,1434.62 668.637,1434.68 669.573,1434.73 670.508,1434.78 671.443,1434.83 672.379,1434.88 673.314,1434.94 674.249,1434.99 675.185,1435.04 676.12,1435.09 677.055,1435.14 677.991,1435.19 678.926,1435.24 679.861,1435.29 680.797,1435.34 681.732,1435.39 682.668,1435.44 683.603,1435.49 684.538,1435.54 685.474,1435.59 686.409,1435.64 687.344,1435.69 688.28,1435.74 689.215,1435.79 690.15,1435.84 691.086,1435.88 692.021,1435.93 692.956,1435.98 693.892,1436.03 694.827,1436.07 695.763,1436.12 696.698,1436.17 697.633,1436.22 698.569,1436.26 699.504,1436.31 700.439,1436.36 701.375,1436.4 702.31,1436.45 703.245,1436.49 704.181,1436.54 705.116,1436.58 706.051,1436.63 706.987,1436.67 707.922,1436.72 708.858,1436.76 709.793,1436.81 710.728,1436.85 711.664,1436.9 712.599,1436.94 713.534,1436.99 714.47,1437.03 715.405,1437.07 716.34,1437.12 717.276,1437.16 718.211,1437.2 719.146,1437.25 720.082,1437.29 721.017,1437.33 721.953,1437.37 722.888,1437.42 723.823,1437.46 724.759,1437.5 725.694,1437.54 726.629,1437.58 727.565,1437.63 728.5,1437.67 729.435,1437.71 730.371,1437.75 731.306,1437.79 732.241,1437.83 733.177,1437.87 734.112,1437.91 735.048,1437.95 735.983,1437.99 736.918,1438.03 737.854,1438.08 738.789,1438.11 739.724,1438.15 740.66,1438.19 741.595,1438.23 742.53,1438.27 743.466,1438.31 744.401,1438.35 745.336,1438.39 746.272,1438.43 747.207,1438.47 748.142,1438.51 749.078,1438.54 750.013,1438.58 750.949,1438.62 751.884,1438.66 752.819,1438.7 753.755,1438.73 754.69,1438.77 755.625,1438.81 756.561,1438.85 757.496,1438.88 758.431,1438.92 759.367,1438.96 760.302,1439 761.237,1439.03 762.173,1439.07 763.108,1439.11 764.044,1439.14 764.979,1439.18 765.914,1439.21 766.85,1439.25 767.785,1439.29 768.72,1439.32 769.656,1439.36 770.591,1439.39 771.526,1439.43 772.462,1439.46 773.397,1439.5 774.332,1439.53 775.268,1439.57 776.203,1439.6 777.139,1439.64 778.074,1439.67 779.009,1439.71 779.945,1439.74 780.88,1439.78 781.815,1439.81 782.751,1439.84 783.686,1439.88 784.621,1439.91 785.557,1439.95 786.492,1439.98 787.427,1440.01 788.363,1440.05 789.298,1440.08 790.234,1440.11 791.169,1440.15 792.104,1440.18 793.04,1440.21 793.975,1440.25 794.91,1440.28 795.846,1440.31 796.781,1440.34 797.716,1440.38 798.652,1440.41 799.587,1440.44 800.522,1440.47 801.458,1440.5 802.393,1440.54 803.329,1440.57 804.264,1440.6 805.199,1440.63 806.135,1440.66 807.07,1440.69 808.005,1440.72 808.941,1440.76 809.876,1440.79 810.811,1440.82 811.747,1440.85 812.682,1440.88 813.617,1440.91 814.553,1440.94 815.488,1440.97 816.424,1441 817.359,1441.03 818.294,1441.06 819.23,1441.09 820.165,1441.12 821.1,1441.15 822.036,1441.18 822.971,1441.21 823.906,1441.24 824.842,1441.27 825.777,1441.3 826.712,1441.33 827.648,1441.36 828.583,1441.39 829.518,1441.42 830.454,1441.45 831.389,1441.48 832.325,1441.5 833.26,1441.53 834.195,1441.56 835.131,1441.59 836.066,1441.62 837.001,1441.65 837.937,1441.68 838.872,1441.7 839.807,1441.73 840.743,1441.76 841.678,1441.79 842.613,1441.82 843.549,1441.84 844.484,1441.87 845.42,1441.9 846.355,1441.93 847.29,1441.96 848.226,1441.98 849.161,1442.01 850.096,1442.04 851.032,1442.07 851.967,1442.09 852.902,1442.12 853.838,1442.15 854.773,1442.17 855.708,1442.2 856.644,1442.23 857.579,1442.25 858.515,1442.28 859.45,1442.31 860.385,1442.33 861.321,1442.36 862.256,1442.39 863.191,1442.41 864.127,1442.44 865.062,1442.46 865.997,1442.49 866.933,1442.52 867.868,1442.54 868.803,1442.57 869.739,1442.59 870.674,1442.62 871.61,1442.65 872.545,1442.67 873.48,1442.7 874.416,1442.72 875.351,1442.75 876.286,1442.77 877.222,1442.8 878.157,1442.82 879.092,1442.85 880.028,1442.87 880.963,1442.9 881.898,1442.92 882.834,1442.95 883.769,1442.97 884.705,1443 885.64,1443.02 886.575,1443.04 887.511,1443.07 888.446,1443.09 889.381,1443.12 890.317,1443.14 891.252,1443.17 892.187,1443.19 893.123,1443.21 894.058,1443.24 894.993,1443.26 895.929,1443.29 896.864,1443.31 897.799,1443.33 898.735,1443.36 899.67,1443.38 900.606,1443.4 901.541,1443.43 902.476,1443.45 903.412,1443.47 904.347,1443.5 905.282,1443.52 906.218,1443.54 907.153,1443.57 908.088,1443.59 909.024,1443.61 909.959,1443.64 910.894,1443.66 911.83,1443.68 912.765,1443.7 913.701,1443.73 914.636,1443.75 915.571,1443.77 916.507,1443.79 917.442,1443.82 918.377,1443.84 919.313,1443.86 920.248,1443.88 921.183,1443.91 922.119,1443.93 923.054,1443.95 923.989,1443.97 924.925,1443.99 925.86,1444.02 926.796,1444.04 927.731,1444.06 928.666,1444.08 929.602,1444.1 930.537,1444.12 931.472,1444.15 932.408,1444.17 933.343,1444.19 934.278,1444.21 935.214,1444.23 936.149,1444.25 937.084,1444.27 938.02,1444.29 938.955,1444.32 939.891,1444.34 940.826,1444.36 941.761,1444.38 942.697,1444.4 943.632,1444.42 944.567,1444.44 945.503,1444.46 946.438,1444.48 947.373,1444.5 948.309,1444.52 949.244,1444.54 950.179,1444.56 951.115,1444.59 952.05,1444.61 952.986,1444.63 953.921,1444.65 954.856,1444.67 955.792,1444.69 956.727,1444.71 957.662,1444.73 958.598,1444.75 959.533,1444.77 960.468,1444.79 961.404,1444.81 962.339,1444.83 963.274,1444.85 964.21,1444.87 965.145,1444.89 966.081,1444.91 967.016,1444.92 967.951,1444.94 968.887,1444.96 969.822,1444.98 970.757,1445 971.693,1445.02 972.628,1445.04 973.563,1445.06 974.499,1445.08 975.434,1445.1 976.369,1445.12 977.305,1445.14 978.24,1445.16 979.175,1445.18 980.111,1445.19 981.046,1445.21 981.982,1445.23 982.917,1445.25 983.852,1445.27 984.788,1445.29 985.723,1445.31 986.658,1445.33 987.594,1445.34 988.529,1445.36 989.464,1445.38 990.4,1445.4 991.335,1445.42 992.27,1445.44 993.206,1445.45 994.141,1445.47 995.077,1445.49 996.012,1445.51 996.947,1445.53 997.883,1445.55 998.818,1445.56 999.753,1445.58 1000.69,1445.6 1001.62,1445.62 1002.56,1445.63 1003.49,1445.65 1004.43,1445.67 1005.37,1445.69 1006.3,1445.71 1007.24,1445.72 1008.17,1445.74 1009.11,1445.76 1010.04,1445.78 1010.98,1445.79 1011.91,1445.81 1012.85,1445.83 1013.78,1445.85 1014.72,1445.86 1015.65,1445.88 1016.59,1445.9 1017.53,1445.92 1018.46,1445.93 1019.4,1445.95 1020.33,1445.97 1021.27,1445.98 1022.2,1446 1023.14,1446.02 1024.07,1446.03 1025.01,1446.05 1025.94,1446.07 1026.88,1446.09 1027.81,1446.1 1028.75,1446.12 1029.68,1446.14 1030.62,1446.15 1031.56,1446.17 1032.49,1446.19 1033.43,1446.2 1034.36,1446.22 1035.3,1446.23 1036.23,1446.25 1037.17,1446.27 1038.1,1446.28 1039.04,1446.3 1039.97,1446.32 1040.91,1446.33 1041.84,1446.35 1042.78,1446.37 1043.72,1446.38 1044.65,1446.4 1045.59,1446.41 1046.52,1446.43 1047.46,1446.45 1048.39,1446.46 1049.33,1446.48 1050.26,1446.49 1051.2,1446.51 1052.13,1446.53 1053.07,1446.54 1054,1446.56 1054.94,1446.57 1055.87,1446.59 1056.81,1446.6 1057.75,1446.62 1058.68,1446.64 1059.62,1446.65 1060.55,1446.67 1061.49,1446.68 1062.42,1446.7 1063.36,1446.71 1064.29,1446.73 1065.23,1446.74 1066.16,1446.76 1067.1,1446.77 1068.03,1446.79 1068.97,1446.8 1069.91,1446.82 1070.84,1446.84 1071.78,1446.85 1072.71,1446.87 1073.65,1446.88 1074.58,1446.9 1075.52,1446.91 1076.45,1446.93 1077.39,1446.94 1078.32,1446.96 1079.26,1446.97 1080.19,1446.99 1081.13,1447 1082.06,1447.01 1083,1447.03 1083.94,1447.04 1084.87,1447.06 1085.81,1447.07 1086.74,1447.09 1087.68,1447.1 1088.61,1447.12 1089.55,1447.13 1090.48,1447.15 1091.42,1447.16 1092.35,1447.18 1093.29,1447.19 1094.22,1447.2 1095.16,1447.22 1096.1,1447.23 1097.03,1447.25 1097.97,1447.26 1098.9,1447.28 1099.84,1447.29 1100.77,1447.3 1101.71,1447.32 1102.64,1447.33 1103.58,1447.35 1104.51,1447.36 1105.45,1447.37 1106.38,1447.39 1107.32,1447.4 1108.25,1447.42 1109.19,1447.43 1110.13,1447.44 1111.06,1447.46 1112,1447.47 1112.93,1447.49 1113.87,1447.5 1114.8,1447.51 1115.74,1447.53 1116.67,1447.54 1117.61,1447.55 1118.54,1447.57 1119.48,1447.58 1120.41,1447.59 1121.35,1447.61 1122.28,1447.62 1123.22,1447.64 1124.16,1447.65 1125.09,1447.66 1126.03,1447.68 1126.96,1447.69 1127.9,1447.7 1128.83,1447.72 1129.77,1447.73 1130.7,1447.74 1131.64,1447.76 1132.57,1447.77 1133.51,1447.78 1134.44,1447.79 1135.38,1447.81 1136.32,1447.82 1137.25,1447.83 1138.19,1447.85 1139.12,1447.86 1140.06,1447.87 \"/>\n<path clip-path=\"url(#clip520)\" d=\"M1371.19 1486.45 L2352.76 1486.45 L2352.76 123.472 L1371.19 123.472  Z\" fill=\"#ffffff\" fill-rule=\"evenodd\" fill-opacity=\"1\"/>\n<defs>\n  <clipPath id=\"clip523\">\n    <rect x=\"1371\" y=\"123\" width=\"983\" height=\"1364\"/>\n  </clipPath>\n</defs>\n<polyline clip-path=\"url(#clip523)\" style=\"stroke:#000000; stroke-linecap:round; stroke-linejoin:round; stroke-width:2; stroke-opacity:0.1; fill:none\" points=\"1389.62,1486.45 1389.62,123.472 \"/>\n<polyline clip-path=\"url(#clip523)\" style=\"stroke:#000000; stroke-linecap:round; stroke-linejoin:round; stroke-width:2; stroke-opacity:0.1; fill:none\" points=\"1623.46,1486.45 1623.46,123.472 \"/>\n<polyline clip-path=\"url(#clip523)\" style=\"stroke:#000000; stroke-linecap:round; stroke-linejoin:round; stroke-width:2; stroke-opacity:0.1; fill:none\" points=\"1857.3,1486.45 1857.3,123.472 \"/>\n<polyline clip-path=\"url(#clip523)\" style=\"stroke:#000000; stroke-linecap:round; stroke-linejoin:round; stroke-width:2; stroke-opacity:0.1; fill:none\" points=\"2091.14,1486.45 2091.14,123.472 \"/>\n<polyline clip-path=\"url(#clip523)\" style=\"stroke:#000000; stroke-linecap:round; stroke-linejoin:round; stroke-width:2; stroke-opacity:0.1; fill:none\" points=\"2324.98,1486.45 2324.98,123.472 \"/>\n<polyline clip-path=\"url(#clip520)\" style=\"stroke:#000000; stroke-linecap:round; stroke-linejoin:round; stroke-width:4; stroke-opacity:1; fill:none\" points=\"1371.19,1486.45 2352.76,1486.45 \"/>\n<polyline clip-path=\"url(#clip520)\" style=\"stroke:#000000; stroke-linecap:round; stroke-linejoin:round; stroke-width:4; stroke-opacity:1; fill:none\" points=\"1389.62,1486.45 1389.62,1467.55 \"/>\n<polyline clip-path=\"url(#clip520)\" style=\"stroke:#000000; stroke-linecap:round; stroke-linejoin:round; stroke-width:4; stroke-opacity:1; fill:none\" points=\"1623.46,1486.45 1623.46,1467.55 \"/>\n<polyline clip-path=\"url(#clip520)\" style=\"stroke:#000000; stroke-linecap:round; stroke-linejoin:round; stroke-width:4; stroke-opacity:1; fill:none\" points=\"1857.3,1486.45 1857.3,1467.55 \"/>\n<polyline clip-path=\"url(#clip520)\" style=\"stroke:#000000; stroke-linecap:round; stroke-linejoin:round; stroke-width:4; stroke-opacity:1; fill:none\" points=\"2091.14,1486.45 2091.14,1467.55 \"/>\n<polyline clip-path=\"url(#clip520)\" style=\"stroke:#000000; stroke-linecap:round; stroke-linejoin:round; stroke-width:4; stroke-opacity:1; fill:none\" points=\"2324.98,1486.45 2324.98,1467.55 \"/>\n<path clip-path=\"url(#clip520)\" d=\"M1389.62 1517.37 Q1386.01 1517.37 1384.18 1520.93 Q1382.37 1524.47 1382.37 1531.6 Q1382.37 1538.71 1384.18 1542.27 Q1386.01 1545.82 1389.62 1545.82 Q1393.25 1545.82 1395.06 1542.27 Q1396.89 1538.71 1396.89 1531.6 Q1396.89 1524.47 1395.06 1520.93 Q1393.25 1517.37 1389.62 1517.37 M1389.62 1513.66 Q1395.43 1513.66 1398.49 1518.27 Q1401.56 1522.85 1401.56 1531.6 Q1401.56 1540.33 1398.49 1544.94 Q1395.43 1549.52 1389.62 1549.52 Q1383.81 1549.52 1380.73 1544.94 Q1377.68 1540.33 1377.68 1531.6 Q1377.68 1522.85 1380.73 1518.27 Q1383.81 1513.66 1389.62 1513.66 Z\" fill=\"#000000\" fill-rule=\"evenodd\" fill-opacity=\"1\" /><path clip-path=\"url(#clip520)\" d=\"M1602.73 1544.91 L1619.05 1544.91 L1619.05 1548.85 L1597.1 1548.85 L1597.1 1544.91 Q1599.77 1542.16 1604.35 1537.53 Q1608.96 1532.88 1610.14 1531.53 Q1612.38 1529.01 1613.26 1527.27 Q1614.16 1525.51 1614.16 1523.82 Q1614.16 1521.07 1612.22 1519.33 Q1610.3 1517.6 1607.2 1517.6 Q1605 1517.6 1602.54 1518.36 Q1600.11 1519.13 1597.34 1520.68 L1597.34 1515.95 Q1600.16 1514.82 1602.61 1514.24 Q1605.07 1513.66 1607.1 1513.66 Q1612.47 1513.66 1615.67 1516.35 Q1618.86 1519.03 1618.86 1523.52 Q1618.86 1525.65 1618.05 1527.57 Q1617.27 1529.47 1615.16 1532.07 Q1614.58 1532.74 1611.48 1535.95 Q1608.38 1539.15 1602.73 1544.91 Z\" fill=\"#000000\" fill-rule=\"evenodd\" fill-opacity=\"1\" /><path clip-path=\"url(#clip520)\" d=\"M1628.91 1514.29 L1647.27 1514.29 L1647.27 1518.22 L1633.19 1518.22 L1633.19 1526.7 Q1634.21 1526.35 1635.23 1526.19 Q1636.25 1526 1637.27 1526 Q1643.05 1526 1646.43 1529.17 Q1649.81 1532.34 1649.81 1537.76 Q1649.81 1543.34 1646.34 1546.44 Q1642.87 1549.52 1636.55 1549.52 Q1634.37 1549.52 1632.1 1549.15 Q1629.86 1548.78 1627.45 1548.04 L1627.45 1543.34 Q1629.53 1544.47 1631.76 1545.03 Q1633.98 1545.58 1636.46 1545.58 Q1640.46 1545.58 1642.8 1543.48 Q1645.14 1541.37 1645.14 1537.76 Q1645.14 1534.15 1642.8 1532.04 Q1640.46 1529.94 1636.46 1529.94 Q1634.58 1529.94 1632.71 1530.35 Q1630.85 1530.77 1628.91 1531.65 L1628.91 1514.29 Z\" fill=\"#000000\" fill-rule=\"evenodd\" fill-opacity=\"1\" /><path clip-path=\"url(#clip520)\" d=\"M1832 1514.29 L1850.35 1514.29 L1850.35 1518.22 L1836.28 1518.22 L1836.28 1526.7 Q1837.3 1526.35 1838.32 1526.19 Q1839.33 1526 1840.35 1526 Q1846.14 1526 1849.52 1529.17 Q1852.9 1532.34 1852.9 1537.76 Q1852.9 1543.34 1849.43 1546.44 Q1845.96 1549.52 1839.64 1549.52 Q1837.46 1549.52 1835.19 1549.15 Q1832.95 1548.78 1830.54 1548.04 L1830.54 1543.34 Q1832.62 1544.47 1834.84 1545.03 Q1837.07 1545.58 1839.54 1545.58 Q1843.55 1545.58 1845.89 1543.48 Q1848.22 1541.37 1848.22 1537.76 Q1848.22 1534.15 1845.89 1532.04 Q1843.55 1529.94 1839.54 1529.94 Q1837.67 1529.94 1835.79 1530.35 Q1833.94 1530.77 1832 1531.65 L1832 1514.29 Z\" fill=\"#000000\" fill-rule=\"evenodd\" fill-opacity=\"1\" /><path clip-path=\"url(#clip520)\" d=\"M1872.11 1517.37 Q1868.5 1517.37 1866.67 1520.93 Q1864.87 1524.47 1864.87 1531.6 Q1864.87 1538.71 1866.67 1542.27 Q1868.5 1545.82 1872.11 1545.82 Q1875.75 1545.82 1877.55 1542.27 Q1879.38 1538.71 1879.38 1531.6 Q1879.38 1524.47 1877.55 1520.93 Q1875.75 1517.37 1872.11 1517.37 M1872.11 1513.66 Q1877.92 1513.66 1880.98 1518.27 Q1884.06 1522.85 1884.06 1531.6 Q1884.06 1540.33 1880.98 1544.94 Q1877.92 1549.52 1872.11 1549.52 Q1866.3 1549.52 1863.22 1544.94 Q1860.17 1540.33 1860.17 1531.6 Q1860.17 1522.85 1863.22 1518.27 Q1866.3 1513.66 1872.11 1513.66 Z\" fill=\"#000000\" fill-rule=\"evenodd\" fill-opacity=\"1\" /><path clip-path=\"url(#clip520)\" d=\"M2064.99 1514.29 L2087.21 1514.29 L2087.21 1516.28 L2074.67 1548.85 L2069.78 1548.85 L2081.59 1518.22 L2064.99 1518.22 L2064.99 1514.29 Z\" fill=\"#000000\" fill-rule=\"evenodd\" fill-opacity=\"1\" /><path clip-path=\"url(#clip520)\" d=\"M2096.38 1514.29 L2114.74 1514.29 L2114.74 1518.22 L2100.66 1518.22 L2100.66 1526.7 Q2101.68 1526.35 2102.7 1526.19 Q2103.72 1526 2104.74 1526 Q2110.52 1526 2113.9 1529.17 Q2117.28 1532.34 2117.28 1537.76 Q2117.28 1543.34 2113.81 1546.44 Q2110.34 1549.52 2104.02 1549.52 Q2101.84 1549.52 2099.57 1549.15 Q2097.33 1548.78 2094.92 1548.04 L2094.92 1543.34 Q2097 1544.47 2099.23 1545.03 Q2101.45 1545.58 2103.93 1545.58 Q2107.93 1545.58 2110.27 1543.48 Q2112.61 1541.37 2112.61 1537.76 Q2112.61 1534.15 2110.27 1532.04 Q2107.93 1529.94 2103.93 1529.94 Q2102.05 1529.94 2100.18 1530.35 Q2098.32 1530.77 2096.38 1531.65 L2096.38 1514.29 Z\" fill=\"#000000\" fill-rule=\"evenodd\" fill-opacity=\"1\" /><path clip-path=\"url(#clip520)\" d=\"M2284.58 1544.91 L2292.22 1544.91 L2292.22 1518.55 L2283.91 1520.21 L2283.91 1515.95 L2292.18 1514.29 L2296.85 1514.29 L2296.85 1544.91 L2304.49 1544.91 L2304.49 1548.85 L2284.58 1548.85 L2284.58 1544.91 Z\" fill=\"#000000\" fill-rule=\"evenodd\" fill-opacity=\"1\" /><path clip-path=\"url(#clip520)\" d=\"M2323.93 1517.37 Q2320.32 1517.37 2318.49 1520.93 Q2316.69 1524.47 2316.69 1531.6 Q2316.69 1538.71 2318.49 1542.27 Q2320.32 1545.82 2323.93 1545.82 Q2327.57 1545.82 2329.37 1542.27 Q2331.2 1538.71 2331.2 1531.6 Q2331.2 1524.47 2329.37 1520.93 Q2327.57 1517.37 2323.93 1517.37 M2323.93 1513.66 Q2329.74 1513.66 2332.8 1518.27 Q2335.88 1522.85 2335.88 1531.6 Q2335.88 1540.33 2332.8 1544.94 Q2329.74 1549.52 2323.93 1549.52 Q2318.12 1549.52 2315.05 1544.94 Q2311.99 1540.33 2311.99 1531.6 Q2311.99 1522.85 2315.05 1518.27 Q2318.12 1513.66 2323.93 1513.66 Z\" fill=\"#000000\" fill-rule=\"evenodd\" fill-opacity=\"1\" /><path clip-path=\"url(#clip520)\" d=\"M2354.1 1517.37 Q2350.48 1517.37 2348.66 1520.93 Q2346.85 1524.47 2346.85 1531.6 Q2346.85 1538.71 2348.66 1542.27 Q2350.48 1545.82 2354.1 1545.82 Q2357.73 1545.82 2359.54 1542.27 Q2361.36 1538.71 2361.36 1531.6 Q2361.36 1524.47 2359.54 1520.93 Q2357.73 1517.37 2354.1 1517.37 M2354.1 1513.66 Q2359.91 1513.66 2362.96 1518.27 Q2366.04 1522.85 2366.04 1531.6 Q2366.04 1540.33 2362.96 1544.94 Q2359.91 1549.52 2354.1 1549.52 Q2348.29 1549.52 2345.21 1544.94 Q2342.15 1540.33 2342.15 1531.6 Q2342.15 1522.85 2345.21 1518.27 Q2348.29 1513.66 2354.1 1513.66 Z\" fill=\"#000000\" fill-rule=\"evenodd\" fill-opacity=\"1\" /><polyline clip-path=\"url(#clip523)\" style=\"stroke:#000000; stroke-linecap:round; stroke-linejoin:round; stroke-width:2; stroke-opacity:0.1; fill:none\" points=\"1371.19,1455.47 2352.76,1455.47 \"/>\n<polyline clip-path=\"url(#clip523)\" style=\"stroke:#000000; stroke-linecap:round; stroke-linejoin:round; stroke-width:2; stroke-opacity:0.1; fill:none\" points=\"1371.19,1075.05 2352.76,1075.05 \"/>\n<polyline clip-path=\"url(#clip523)\" style=\"stroke:#000000; stroke-linecap:round; stroke-linejoin:round; stroke-width:2; stroke-opacity:0.1; fill:none\" points=\"1371.19,694.632 2352.76,694.632 \"/>\n<polyline clip-path=\"url(#clip523)\" style=\"stroke:#000000; stroke-linecap:round; stroke-linejoin:round; stroke-width:2; stroke-opacity:0.1; fill:none\" points=\"1371.19,314.214 2352.76,314.214 \"/>\n<polyline clip-path=\"url(#clip520)\" style=\"stroke:#000000; stroke-linecap:round; stroke-linejoin:round; stroke-width:4; stroke-opacity:1; fill:none\" points=\"1371.19,1486.45 1371.19,123.472 \"/>\n<polyline clip-path=\"url(#clip520)\" style=\"stroke:#000000; stroke-linecap:round; stroke-linejoin:round; stroke-width:4; stroke-opacity:1; fill:none\" points=\"1371.19,1455.47 1390.09,1455.47 \"/>\n<polyline clip-path=\"url(#clip520)\" style=\"stroke:#000000; stroke-linecap:round; stroke-linejoin:round; stroke-width:4; stroke-opacity:1; fill:none\" points=\"1371.19,1075.05 1390.09,1075.05 \"/>\n<polyline clip-path=\"url(#clip520)\" style=\"stroke:#000000; stroke-linecap:round; stroke-linejoin:round; stroke-width:4; stroke-opacity:1; fill:none\" points=\"1371.19,694.632 1390.09,694.632 \"/>\n<polyline clip-path=\"url(#clip520)\" style=\"stroke:#000000; stroke-linecap:round; stroke-linejoin:round; stroke-width:4; stroke-opacity:1; fill:none\" points=\"1371.19,314.214 1390.09,314.214 \"/>\n<path clip-path=\"url(#clip520)\" d=\"M1278.02 1441.27 Q1274.41 1441.27 1272.58 1444.83 Q1270.77 1448.37 1270.77 1455.5 Q1270.77 1462.61 1272.58 1466.17 Q1274.41 1469.72 1278.02 1469.72 Q1281.65 1469.72 1283.46 1466.17 Q1285.29 1462.61 1285.29 1455.5 Q1285.29 1448.37 1283.46 1444.83 Q1281.65 1441.27 1278.02 1441.27 M1278.02 1437.56 Q1283.83 1437.56 1286.88 1442.17 Q1289.96 1446.75 1289.96 1455.5 Q1289.96 1464.23 1286.88 1468.84 Q1283.83 1473.42 1278.02 1473.42 Q1272.21 1473.42 1269.13 1468.84 Q1266.07 1464.23 1266.07 1455.5 Q1266.07 1446.75 1269.13 1442.17 Q1272.21 1437.56 1278.02 1437.56 Z\" fill=\"#000000\" fill-rule=\"evenodd\" fill-opacity=\"1\" /><path clip-path=\"url(#clip520)\" d=\"M1298.18 1466.87 L1303.06 1466.87 L1303.06 1472.75 L1298.18 1472.75 L1298.18 1466.87 Z\" fill=\"#000000\" fill-rule=\"evenodd\" fill-opacity=\"1\" /><path clip-path=\"url(#clip520)\" d=\"M1323.25 1441.27 Q1319.64 1441.27 1317.81 1444.83 Q1316 1448.37 1316 1455.5 Q1316 1462.61 1317.81 1466.17 Q1319.64 1469.72 1323.25 1469.72 Q1326.88 1469.72 1328.69 1466.17 Q1330.52 1462.61 1330.52 1455.5 Q1330.52 1448.37 1328.69 1444.83 Q1326.88 1441.27 1323.25 1441.27 M1323.25 1437.56 Q1329.06 1437.56 1332.11 1442.17 Q1335.19 1446.75 1335.19 1455.5 Q1335.19 1464.23 1332.11 1468.84 Q1329.06 1473.42 1323.25 1473.42 Q1317.44 1473.42 1314.36 1468.84 Q1311.3 1464.23 1311.3 1455.5 Q1311.3 1446.75 1314.36 1442.17 Q1317.44 1437.56 1323.25 1437.56 Z\" fill=\"#000000\" fill-rule=\"evenodd\" fill-opacity=\"1\" /><path clip-path=\"url(#clip520)\" d=\"M1279.01 1060.85 Q1275.4 1060.85 1273.57 1064.41 Q1271.77 1067.95 1271.77 1075.08 Q1271.77 1082.19 1273.57 1085.76 Q1275.4 1089.3 1279.01 1089.3 Q1282.65 1089.3 1284.45 1085.76 Q1286.28 1082.19 1286.28 1075.08 Q1286.28 1067.95 1284.45 1064.41 Q1282.65 1060.85 1279.01 1060.85 M1279.01 1057.14 Q1284.82 1057.14 1287.88 1061.75 Q1290.96 1066.33 1290.96 1075.08 Q1290.96 1083.81 1287.88 1088.42 Q1284.82 1093 1279.01 1093 Q1273.2 1093 1270.12 1088.42 Q1267.07 1083.81 1267.07 1075.08 Q1267.07 1066.33 1270.12 1061.75 Q1273.2 1057.14 1279.01 1057.14 Z\" fill=\"#000000\" fill-rule=\"evenodd\" fill-opacity=\"1\" /><path clip-path=\"url(#clip520)\" d=\"M1299.17 1086.45 L1304.06 1086.45 L1304.06 1092.33 L1299.17 1092.33 L1299.17 1086.45 Z\" fill=\"#000000\" fill-rule=\"evenodd\" fill-opacity=\"1\" /><path clip-path=\"url(#clip520)\" d=\"M1314.29 1057.77 L1332.65 1057.77 L1332.65 1061.71 L1318.57 1061.71 L1318.57 1070.18 Q1319.59 1069.83 1320.61 1069.67 Q1321.63 1069.48 1322.65 1069.48 Q1328.43 1069.48 1331.81 1072.65 Q1335.19 1075.83 1335.19 1081.24 Q1335.19 1086.82 1331.72 1089.92 Q1328.25 1093 1321.93 1093 Q1319.75 1093 1317.48 1092.63 Q1315.24 1092.26 1312.83 1091.52 L1312.83 1086.82 Q1314.92 1087.95 1317.14 1088.51 Q1319.36 1089.07 1321.84 1089.07 Q1325.84 1089.07 1328.18 1086.96 Q1330.52 1084.85 1330.52 1081.24 Q1330.52 1077.63 1328.18 1075.52 Q1325.84 1073.42 1321.84 1073.42 Q1319.96 1073.42 1318.09 1073.83 Q1316.23 1074.25 1314.29 1075.13 L1314.29 1057.77 Z\" fill=\"#000000\" fill-rule=\"evenodd\" fill-opacity=\"1\" /><path clip-path=\"url(#clip520)\" d=\"M1268.83 707.977 L1276.47 707.977 L1276.47 681.611 L1268.16 683.278 L1268.16 679.019 L1276.42 677.352 L1281.1 677.352 L1281.1 707.977 L1288.73 707.977 L1288.73 711.912 L1268.83 711.912 L1268.83 707.977 Z\" fill=\"#000000\" fill-rule=\"evenodd\" fill-opacity=\"1\" /><path clip-path=\"url(#clip520)\" d=\"M1298.18 706.032 L1303.06 706.032 L1303.06 711.912 L1298.18 711.912 L1298.18 706.032 Z\" fill=\"#000000\" fill-rule=\"evenodd\" fill-opacity=\"1\" /><path clip-path=\"url(#clip520)\" d=\"M1323.25 680.431 Q1319.64 680.431 1317.81 683.995 Q1316 687.537 1316 694.667 Q1316 701.773 1317.81 705.338 Q1319.64 708.88 1323.25 708.88 Q1326.88 708.88 1328.69 705.338 Q1330.52 701.773 1330.52 694.667 Q1330.52 687.537 1328.69 683.995 Q1326.88 680.431 1323.25 680.431 M1323.25 676.727 Q1329.06 676.727 1332.11 681.333 Q1335.19 685.917 1335.19 694.667 Q1335.19 703.393 1332.11 708 Q1329.06 712.583 1323.25 712.583 Q1317.44 712.583 1314.36 708 Q1311.3 703.393 1311.3 694.667 Q1311.3 685.917 1314.36 681.333 Q1317.44 676.727 1323.25 676.727 Z\" fill=\"#000000\" fill-rule=\"evenodd\" fill-opacity=\"1\" /><path clip-path=\"url(#clip520)\" d=\"M1269.82 327.559 L1277.46 327.559 L1277.46 301.193 L1269.15 302.86 L1269.15 298.601 L1277.42 296.934 L1282.09 296.934 L1282.09 327.559 L1289.73 327.559 L1289.73 331.494 L1269.82 331.494 L1269.82 327.559 Z\" fill=\"#000000\" fill-rule=\"evenodd\" fill-opacity=\"1\" /><path clip-path=\"url(#clip520)\" d=\"M1299.17 325.614 L1304.06 325.614 L1304.06 331.494 L1299.17 331.494 L1299.17 325.614 Z\" fill=\"#000000\" fill-rule=\"evenodd\" fill-opacity=\"1\" /><path clip-path=\"url(#clip520)\" d=\"M1314.29 296.934 L1332.65 296.934 L1332.65 300.869 L1318.57 300.869 L1318.57 309.341 Q1319.59 308.994 1320.61 308.832 Q1321.63 308.647 1322.65 308.647 Q1328.43 308.647 1331.81 311.818 Q1335.19 314.99 1335.19 320.406 Q1335.19 325.985 1331.72 329.087 Q1328.25 332.165 1321.93 332.165 Q1319.75 332.165 1317.48 331.795 Q1315.24 331.425 1312.83 330.684 L1312.83 325.985 Q1314.92 327.119 1317.14 327.675 Q1319.36 328.23 1321.84 328.23 Q1325.84 328.23 1328.18 326.124 Q1330.52 324.017 1330.52 320.406 Q1330.52 316.795 1328.18 314.689 Q1325.84 312.582 1321.84 312.582 Q1319.96 312.582 1318.09 312.999 Q1316.23 313.415 1314.29 314.295 L1314.29 296.934 Z\" fill=\"#000000\" fill-rule=\"evenodd\" fill-opacity=\"1\" /><path clip-path=\"url(#clip520)\" d=\"M1666.32 48.0275 L1666.32 51.6733 L1632.05 51.6733 Q1632.53 59.3701 1636.66 63.421 Q1640.84 67.4314 1648.25 67.4314 Q1652.54 67.4314 1656.55 66.3781 Q1660.6 65.3249 1664.57 63.2184 L1664.57 70.267 Q1660.56 71.9684 1656.35 72.8596 Q1652.14 73.7508 1647.8 73.7508 Q1636.95 73.7508 1630.59 67.4314 Q1624.27 61.1119 1624.27 50.3365 Q1624.27 39.1965 1630.26 32.6746 Q1636.3 26.1121 1646.51 26.1121 Q1655.66 26.1121 1660.97 32.0264 Q1666.32 37.9003 1666.32 48.0275 M1658.86 45.84 Q1658.78 39.7232 1655.42 36.0774 Q1652.1 32.4315 1646.59 32.4315 Q1640.35 32.4315 1636.58 35.9558 Q1632.86 39.4801 1632.29 45.8805 L1658.86 45.84 Z\" fill=\"#000000\" fill-rule=\"evenodd\" fill-opacity=\"1\" /><path clip-path=\"url(#clip520)\" d=\"M1714.81 27.2059 L1698.4 49.2833 L1715.66 72.576 L1706.87 72.576 L1693.66 54.752 L1680.45 72.576 L1671.66 72.576 L1689.28 48.8377 L1673.16 27.2059 L1681.95 27.2059 L1693.98 43.369 L1706.01 27.2059 L1714.81 27.2059 Z\" fill=\"#000000\" fill-rule=\"evenodd\" fill-opacity=\"1\" /><path clip-path=\"url(#clip520)\" d=\"M1733.4 65.7705 L1733.4 89.8329 L1725.9 89.8329 L1725.9 27.2059 L1733.4 27.2059 L1733.4 34.0924 Q1735.75 30.0415 1739.31 28.0971 Q1742.92 26.1121 1747.9 26.1121 Q1756.16 26.1121 1761.31 32.6746 Q1766.49 39.2371 1766.49 49.9314 Q1766.49 60.6258 1761.31 67.1883 Q1756.16 73.7508 1747.9 73.7508 Q1742.92 73.7508 1739.31 71.8063 Q1735.75 69.8214 1733.4 65.7705 M1758.76 49.9314 Q1758.76 41.7081 1755.35 37.0496 Q1751.99 32.3505 1746.08 32.3505 Q1740.16 32.3505 1736.76 37.0496 Q1733.4 41.7081 1733.4 49.9314 Q1733.4 58.1548 1736.76 62.8538 Q1740.16 67.5124 1746.08 67.5124 Q1751.99 67.5124 1755.35 62.8538 Q1758.76 58.1548 1758.76 49.9314 Z\" fill=\"#000000\" fill-rule=\"evenodd\" fill-opacity=\"1\" /><path clip-path=\"url(#clip520)\" d=\"M1796.43 32.4315 Q1790.44 32.4315 1786.95 37.1306 Q1783.47 41.7891 1783.47 49.9314 Q1783.47 58.0738 1786.91 62.7728 Q1790.4 67.4314 1796.43 67.4314 Q1802.39 67.4314 1805.87 62.7323 Q1809.35 58.0333 1809.35 49.9314 Q1809.35 41.8701 1805.87 37.1711 Q1802.39 32.4315 1796.43 32.4315 M1796.43 26.1121 Q1806.15 26.1121 1811.7 32.4315 Q1817.25 38.7509 1817.25 49.9314 Q1817.25 61.0714 1811.7 67.4314 Q1806.15 73.7508 1796.43 73.7508 Q1786.67 73.7508 1781.12 67.4314 Q1775.61 61.0714 1775.61 49.9314 Q1775.61 38.7509 1781.12 32.4315 Q1786.67 26.1121 1796.43 26.1121 Z\" fill=\"#000000\" fill-rule=\"evenodd\" fill-opacity=\"1\" /><path clip-path=\"url(#clip520)\" d=\"M1867.32 45.1919 L1867.32 72.576 L1859.87 72.576 L1859.87 45.4349 Q1859.87 38.994 1857.36 35.7938 Q1854.84 32.5936 1849.82 32.5936 Q1843.79 32.5936 1840.3 36.4419 Q1836.82 40.2903 1836.82 46.9338 L1836.82 72.576 L1829.32 72.576 L1829.32 27.2059 L1836.82 27.2059 L1836.82 34.2544 Q1839.49 30.163 1843.1 28.1376 Q1846.74 26.1121 1851.48 26.1121 Q1859.3 26.1121 1863.31 30.9732 Q1867.32 35.7938 1867.32 45.1919 Z\" fill=\"#000000\" fill-rule=\"evenodd\" fill-opacity=\"1\" /><path clip-path=\"url(#clip520)\" d=\"M1921 48.0275 L1921 51.6733 L1886.73 51.6733 Q1887.21 59.3701 1891.34 63.421 Q1895.52 67.4314 1902.93 67.4314 Q1907.22 67.4314 1911.23 66.3781 Q1915.28 65.3249 1919.25 63.2184 L1919.25 70.267 Q1915.24 71.9684 1911.03 72.8596 Q1906.82 73.7508 1902.48 73.7508 Q1891.63 73.7508 1885.27 67.4314 Q1878.95 61.1119 1878.95 50.3365 Q1878.95 39.1965 1884.94 32.6746 Q1890.98 26.1121 1901.19 26.1121 Q1910.34 26.1121 1915.65 32.0264 Q1921 37.9003 1921 48.0275 M1913.54 45.84 Q1913.46 39.7232 1910.1 36.0774 Q1906.78 32.4315 1901.27 32.4315 Q1895.03 32.4315 1891.26 35.9558 Q1887.54 39.4801 1886.97 45.8805 L1913.54 45.84 Z\" fill=\"#000000\" fill-rule=\"evenodd\" fill-opacity=\"1\" /><path clip-path=\"url(#clip520)\" d=\"M1970.94 45.1919 L1970.94 72.576 L1963.49 72.576 L1963.49 45.4349 Q1963.49 38.994 1960.98 35.7938 Q1958.47 32.5936 1953.44 32.5936 Q1947.41 32.5936 1943.92 36.4419 Q1940.44 40.2903 1940.44 46.9338 L1940.44 72.576 L1932.95 72.576 L1932.95 27.2059 L1940.44 27.2059 L1940.44 34.2544 Q1943.11 30.163 1946.72 28.1376 Q1950.37 26.1121 1955.1 26.1121 Q1962.92 26.1121 1966.93 30.9732 Q1970.94 35.7938 1970.94 45.1919 Z\" fill=\"#000000\" fill-rule=\"evenodd\" fill-opacity=\"1\" /><path clip-path=\"url(#clip520)\" d=\"M1993.18 14.324 L1993.18 27.2059 L2008.54 27.2059 L2008.54 32.9987 L1993.18 32.9987 L1993.18 57.6282 Q1993.18 63.1779 1994.68 64.7578 Q1996.22 66.3376 2000.88 66.3376 L2008.54 66.3376 L2008.54 72.576 L2000.88 72.576 Q1992.25 72.576 1988.97 69.3758 Q1985.69 66.1351 1985.69 57.6282 L1985.69 32.9987 L1980.22 32.9987 L1980.22 27.2059 L1985.69 27.2059 L1985.69 14.324 L1993.18 14.324 Z\" fill=\"#000000\" fill-rule=\"evenodd\" fill-opacity=\"1\" /><path clip-path=\"url(#clip520)\" d=\"M2018.34 27.2059 L2025.79 27.2059 L2025.79 72.576 L2018.34 72.576 L2018.34 27.2059 M2018.34 9.54393 L2025.79 9.54393 L2025.79 18.9825 L2018.34 18.9825 L2018.34 9.54393 Z\" fill=\"#000000\" fill-rule=\"evenodd\" fill-opacity=\"1\" /><path clip-path=\"url(#clip520)\" d=\"M2062.01 49.7694 Q2052.97 49.7694 2049.49 51.8354 Q2046.01 53.9013 2046.01 58.8839 Q2046.01 62.8538 2048.6 65.2034 Q2051.23 67.5124 2055.73 67.5124 Q2061.93 67.5124 2065.65 63.1374 Q2069.42 58.7219 2069.42 51.4303 L2069.42 49.7694 L2062.01 49.7694 M2076.87 46.6907 L2076.87 72.576 L2069.42 72.576 L2069.42 65.6895 Q2066.87 69.8214 2063.06 71.8063 Q2059.25 73.7508 2053.74 73.7508 Q2046.78 73.7508 2042.64 69.8619 Q2038.55 65.9325 2038.55 59.3701 Q2038.55 51.7138 2043.66 47.825 Q2048.8 43.9361 2058.97 43.9361 L2069.42 43.9361 L2069.42 43.2069 Q2069.42 38.0623 2066.02 35.2672 Q2062.66 32.4315 2056.54 32.4315 Q2052.65 32.4315 2048.96 33.3632 Q2045.28 34.295 2041.88 36.1584 L2041.88 29.2718 Q2045.97 27.692 2049.81 26.9223 Q2053.66 26.1121 2057.31 26.1121 Q2067.15 26.1121 2072.01 31.2163 Q2076.87 36.3204 2076.87 46.6907 Z\" fill=\"#000000\" fill-rule=\"evenodd\" fill-opacity=\"1\" /><path clip-path=\"url(#clip520)\" d=\"M2092.23 9.54393 L2099.68 9.54393 L2099.68 72.576 L2092.23 72.576 L2092.23 9.54393 Z\" fill=\"#000000\" fill-rule=\"evenodd\" fill-opacity=\"1\" /><polyline clip-path=\"url(#clip523)\" style=\"stroke:#009af9; stroke-linecap:round; stroke-linejoin:round; stroke-width:4; stroke-opacity:1; fill:none\" points=\"1398.97,1447.87 1399.91,1447.11 1400.84,1446.35 1401.78,1445.58 1402.71,1444.81 1403.65,1444.05 1404.59,1443.28 1405.52,1442.51 1406.46,1441.74 1407.39,1440.97 1408.33,1440.2 1409.26,1439.43 1410.2,1438.66 1411.13,1437.89 1412.07,1437.11 1413,1436.34 1413.94,1435.56 1414.87,1434.79 1415.81,1434.01 1416.74,1433.23 1417.68,1432.46 1418.62,1431.68 1419.55,1430.9 1420.49,1430.12 1421.42,1429.34 1422.36,1428.55 1423.29,1427.77 1424.23,1426.99 1425.16,1426.2 1426.1,1425.42 1427.03,1424.63 1427.97,1423.84 1428.9,1423.06 1429.84,1422.27 1430.78,1421.48 1431.71,1420.69 1432.65,1419.9 1433.58,1419.11 1434.52,1418.32 1435.45,1417.52 1436.39,1416.73 1437.32,1415.93 1438.26,1415.14 1439.19,1414.34 1440.13,1413.55 1441.06,1412.75 1442,1411.95 1442.93,1411.15 1443.87,1410.35 1444.81,1409.55 1445.74,1408.75 1446.68,1407.94 1447.61,1407.14 1448.55,1406.34 1449.48,1405.53 1450.42,1404.73 1451.35,1403.92 1452.29,1403.11 1453.22,1402.3 1454.16,1401.5 1455.09,1400.69 1456.03,1399.88 1456.97,1399.06 1457.9,1398.25 1458.84,1397.44 1459.77,1396.63 1460.71,1395.81 1461.64,1395 1462.58,1394.18 1463.51,1393.36 1464.45,1392.54 1465.38,1391.73 1466.32,1390.91 1467.25,1390.09 1468.19,1389.27 1469.12,1388.44 1470.06,1387.62 1471,1386.8 1471.93,1385.97 1472.87,1385.15 1473.8,1384.32 1474.74,1383.5 1475.67,1382.67 1476.61,1381.84 1477.54,1381.01 1478.48,1380.18 1479.41,1379.35 1480.35,1378.52 1481.28,1377.68 1482.22,1376.85 1483.16,1376.02 1484.09,1375.18 1485.03,1374.35 1485.96,1373.51 1486.9,1372.67 1487.83,1371.83 1488.77,1370.99 1489.7,1370.15 1490.64,1369.31 1491.57,1368.47 1492.51,1367.63 1493.44,1366.79 1494.38,1365.94 1495.31,1365.1 1496.25,1364.25 1497.19,1363.4 1498.12,1362.56 1499.06,1361.71 1499.99,1360.86 1500.93,1360.01 1501.86,1359.16 1502.8,1358.31 1503.73,1357.45 1504.67,1356.6 1505.6,1355.75 1506.54,1354.89 1507.47,1354.03 1508.41,1353.18 1509.35,1352.32 1510.28,1351.46 1511.22,1350.6 1512.15,1349.74 1513.09,1348.88 1514.02,1348.02 1514.96,1347.16 1515.89,1346.29 1516.83,1345.43 1517.76,1344.56 1518.7,1343.7 1519.63,1342.83 1520.57,1341.96 1521.5,1341.09 1522.44,1340.22 1523.38,1339.35 1524.31,1338.48 1525.25,1337.61 1526.18,1336.73 1527.12,1335.86 1528.05,1334.99 1528.99,1334.11 1529.92,1333.23 1530.86,1332.36 1531.79,1331.48 1532.73,1330.6 1533.66,1329.72 1534.6,1328.84 1535.54,1327.95 1536.47,1327.07 1537.41,1326.19 1538.34,1325.3 1539.28,1324.42 1540.21,1323.53 1541.15,1322.64 1542.08,1321.76 1543.02,1320.87 1543.95,1319.98 1544.89,1319.09 1545.82,1318.2 1546.76,1317.3 1547.69,1316.41 1548.63,1315.52 1549.57,1314.62 1550.5,1313.72 1551.44,1312.83 1552.37,1311.93 1553.31,1311.03 1554.24,1310.13 1555.18,1309.23 1556.11,1308.33 1557.05,1307.43 1557.98,1306.52 1558.92,1305.62 1559.85,1304.71 1560.79,1303.81 1561.73,1302.9 1562.66,1301.99 1563.6,1301.09 1564.53,1300.18 1565.47,1299.27 1566.4,1298.35 1567.34,1297.44 1568.27,1296.53 1569.21,1295.61 1570.14,1294.7 1571.08,1293.78 1572.01,1292.87 1572.95,1291.95 1573.88,1291.03 1574.82,1290.11 1575.76,1289.19 1576.69,1288.27 1577.63,1287.35 1578.56,1286.42 1579.5,1285.5 1580.43,1284.58 1581.37,1283.65 1582.3,1282.72 1583.24,1281.8 1584.17,1280.87 1585.11,1279.94 1586.04,1279.01 1586.98,1278.07 1587.92,1277.14 1588.85,1276.21 1589.79,1275.28 1590.72,1274.34 1591.66,1273.4 1592.59,1272.47 1593.53,1271.53 1594.46,1270.59 1595.4,1269.65 1596.33,1268.71 1597.27,1267.77 1598.2,1266.83 1599.14,1265.88 1600.07,1264.94 1601.01,1263.99 1601.95,1263.05 1602.88,1262.1 1603.82,1261.15 1604.75,1260.2 1605.69,1259.25 1606.62,1258.3 1607.56,1257.35 1608.49,1256.39 1609.43,1255.44 1610.36,1254.49 1611.3,1253.53 1612.23,1252.57 1613.17,1251.62 1614.11,1250.66 1615.04,1249.7 1615.98,1248.74 1616.91,1247.78 1617.85,1246.81 1618.78,1245.85 1619.72,1244.88 1620.65,1243.92 1621.59,1242.95 1622.52,1241.99 1623.46,1241.02 1624.39,1240.05 1625.33,1239.08 1626.26,1238.11 1627.2,1237.14 1628.14,1236.16 1629.07,1235.19 1630.01,1234.21 1630.94,1233.24 1631.88,1232.26 1632.81,1231.28 1633.75,1230.3 1634.68,1229.32 1635.62,1228.34 1636.55,1227.36 1637.49,1226.38 1638.42,1225.39 1639.36,1224.41 1640.3,1223.42 1641.23,1222.44 1642.17,1221.45 1643.1,1220.46 1644.04,1219.47 1644.97,1218.48 1645.91,1217.49 1646.84,1216.5 1647.78,1215.5 1648.71,1214.51 1649.65,1213.51 1650.58,1212.52 1651.52,1211.52 1652.45,1210.52 1653.39,1209.52 1654.33,1208.52 1655.26,1207.52 1656.2,1206.52 1657.13,1205.51 1658.07,1204.51 1659,1203.5 1659.94,1202.5 1660.87,1201.49 1661.81,1200.48 1662.74,1199.47 1663.68,1198.46 1664.61,1197.45 1665.55,1196.44 1666.49,1195.42 1667.42,1194.41 1668.36,1193.39 1669.29,1192.38 1670.23,1191.36 1671.16,1190.34 1672.1,1189.32 1673.03,1188.3 1673.97,1187.28 1674.9,1186.26 1675.84,1185.23 1676.77,1184.21 1677.71,1183.18 1678.64,1182.16 1679.58,1181.13 1680.52,1180.1 1681.45,1179.07 1682.39,1178.04 1683.32,1177.01 1684.26,1175.97 1685.19,1174.94 1686.13,1173.91 1687.06,1172.87 1688,1171.83 1688.93,1170.8 1689.87,1169.76 1690.8,1168.72 1691.74,1167.68 1692.68,1166.63 1693.61,1165.59 1694.55,1164.55 1695.48,1163.5 1696.42,1162.45 1697.35,1161.41 1698.29,1160.36 1699.22,1159.31 1700.16,1158.26 1701.09,1157.21 1702.03,1156.16 1702.96,1155.1 1703.9,1154.05 1704.83,1152.99 1705.77,1151.94 1706.71,1150.88 1707.64,1149.82 1708.58,1148.76 1709.51,1147.7 1710.45,1146.64 1711.38,1145.57 1712.32,1144.51 1713.25,1143.44 1714.19,1142.38 1715.12,1141.31 1716.06,1140.24 1716.99,1139.17 1717.93,1138.1 1718.86,1137.03 1719.8,1135.96 1720.74,1134.89 1721.67,1133.81 1722.61,1132.73 1723.54,1131.66 1724.48,1130.58 1725.41,1129.5 1726.35,1128.42 1727.28,1127.34 1728.22,1126.26 1729.15,1125.17 1730.09,1124.09 1731.02,1123.01 1731.96,1121.92 1732.9,1120.83 1733.83,1119.74 1734.77,1118.65 1735.7,1117.56 1736.64,1116.47 1737.57,1115.38 1738.51,1114.28 1739.44,1113.19 1740.38,1112.09 1741.31,1110.99 1742.25,1109.9 1743.18,1108.8 1744.12,1107.7 1745.05,1106.59 1745.99,1105.49 1746.93,1104.39 1747.86,1103.28 1748.8,1102.18 1749.73,1101.07 1750.67,1099.96 1751.6,1098.85 1752.54,1097.74 1753.47,1096.63 1754.41,1095.52 1755.34,1094.4 1756.28,1093.29 1757.21,1092.17 1758.15,1091.06 1759.09,1089.94 1760.02,1088.82 1760.96,1087.7 1761.89,1086.58 1762.83,1085.45 1763.76,1084.33 1764.7,1083.2 1765.63,1082.08 1766.57,1080.95 1767.5,1079.82 1768.44,1078.69 1769.37,1077.56 1770.31,1076.43 1771.24,1075.3 1772.18,1074.17 1773.12,1073.03 1774.05,1071.89 1774.99,1070.76 1775.92,1069.62 1776.86,1068.48 1777.79,1067.34 1778.73,1066.2 1779.66,1065.05 1780.6,1063.91 1781.53,1062.76 1782.47,1061.62 1783.4,1060.47 1784.34,1059.32 1785.28,1058.17 1786.21,1057.02 1787.15,1055.87 1788.08,1054.72 1789.02,1053.56 1789.95,1052.41 1790.89,1051.25 1791.82,1050.09 1792.76,1048.93 1793.69,1047.77 1794.63,1046.61 1795.56,1045.45 1796.5,1044.29 1797.43,1043.12 1798.37,1041.96 1799.31,1040.79 1800.24,1039.62 1801.18,1038.45 1802.11,1037.28 1803.05,1036.11 1803.98,1034.94 1804.92,1033.76 1805.85,1032.59 1806.79,1031.41 1807.72,1030.23 1808.66,1029.05 1809.59,1027.87 1810.53,1026.69 1811.47,1025.51 1812.4,1024.33 1813.34,1023.14 1814.27,1021.96 1815.21,1020.77 1816.14,1019.58 1817.08,1018.39 1818.01,1017.2 1818.95,1016.01 1819.88,1014.82 1820.82,1013.62 1821.75,1012.43 1822.69,1011.23 1823.62,1010.04 1824.56,1008.84 1825.5,1007.64 1826.43,1006.44 1827.37,1005.23 1828.3,1004.03 1829.24,1002.83 1830.17,1001.62 1831.11,1000.41 1832.04,999.204 1832.98,997.995 1833.91,996.784 1834.85,995.572 1835.78,994.359 1836.72,993.145 1837.66,991.929 1838.59,990.713 1839.53,989.495 1840.46,988.276 1841.4,987.055 1842.33,985.834 1843.27,984.611 1844.2,983.387 1845.14,982.162 1846.07,980.935 1847.01,979.708 1847.94,978.479 1848.88,977.249 1849.81,976.017 1850.75,974.785 1851.69,973.551 1852.62,972.316 1853.56,971.08 1854.49,969.842 1855.43,968.604 1856.36,967.364 1857.3,966.123 1858.23,964.88 1859.17,963.637 1860.1,962.392 1861.04,961.146 1861.97,959.899 1862.91,958.65 1863.85,957.4 1864.78,956.149 1865.72,954.897 1866.65,953.643 1867.59,952.389 1868.52,951.133 1869.46,949.875 1870.39,948.617 1871.33,947.357 1872.26,946.096 1873.2,944.834 1874.13,943.57 1875.07,942.306 1876,941.04 1876.94,939.772 1877.88,938.504 1878.81,937.234 1879.75,935.963 1880.68,934.691 1881.62,933.417 1882.55,932.142 1883.49,930.866 1884.42,929.589 1885.36,928.31 1886.29,927.03 1887.23,925.749 1888.16,924.466 1889.1,923.182 1890.04,921.897 1890.97,920.611 1891.91,919.324 1892.84,918.035 1893.78,916.745 1894.71,915.453 1895.65,914.16 1896.58,912.866 1897.52,911.571 1898.45,910.275 1899.39,908.977 1900.32,907.678 1901.26,906.377 1902.19,905.075 1903.13,903.772 1904.07,902.468 1905,901.162 1905.94,899.855 1906.87,898.547 1907.81,897.238 1908.74,895.927 1909.68,894.615 1910.61,893.301 1911.55,891.987 1912.48,890.671 1913.42,889.353 1914.35,888.035 1915.29,886.715 1916.23,885.393 1917.16,884.071 1918.1,882.747 1919.03,881.422 1919.97,880.095 1920.9,878.767 1921.84,877.438 1922.77,876.108 1923.71,874.776 1924.64,873.443 1925.58,872.108 1926.51,870.772 1927.45,869.435 1928.38,868.097 1929.32,866.757 1930.26,865.416 1931.19,864.074 1932.13,862.73 1933.06,861.385 1934,860.038 1934.93,858.69 1935.87,857.341 1936.8,855.991 1937.74,854.639 1938.67,853.286 1939.61,851.931 1940.54,850.576 1941.48,849.218 1942.42,847.86 1943.35,846.5 1944.29,845.139 1945.22,843.776 1946.16,842.412 1947.09,841.047 1948.03,839.68 1948.96,838.312 1949.9,836.943 1950.83,835.572 1951.77,834.2 1952.7,832.827 1953.64,831.452 1954.57,830.076 1955.51,828.698 1956.45,827.319 1957.38,825.939 1958.32,824.557 1959.25,823.174 1960.19,821.79 1961.12,820.404 1962.06,819.017 1962.99,817.628 1963.93,816.238 1964.86,814.847 1965.8,813.454 1966.73,812.06 1967.67,810.665 1968.61,809.268 1969.54,807.87 1970.48,806.47 1971.41,805.069 1972.35,803.667 1973.28,802.263 1974.22,800.858 1975.15,799.451 1976.09,798.043 1977.02,796.634 1977.96,795.223 1978.89,793.811 1979.83,792.397 1980.76,790.982 1981.7,789.566 1982.64,788.148 1983.57,786.729 1984.51,785.308 1985.44,783.886 1986.38,782.462 1987.31,781.038 1988.25,779.611 1989.18,778.184 1990.12,776.754 1991.05,775.324 1991.99,773.892 1992.92,772.459 1993.86,771.024 1994.8,769.588 1995.73,768.15 1996.67,766.711 1997.6,765.27 1998.54,763.828 1999.47,762.385 2000.41,760.94 2001.34,759.494 2002.28,758.046 2003.21,756.597 2004.15,755.146 2005.08,753.694 2006.02,752.241 2006.95,750.786 2007.89,749.33 2008.83,747.872 2009.76,746.413 2010.7,744.952 2011.63,743.49 2012.57,742.026 2013.5,740.561 2014.44,739.095 2015.37,737.627 2016.31,736.157 2017.24,734.686 2018.18,733.214 2019.11,731.74 2020.05,730.265 2020.99,728.788 2021.92,727.31 2022.86,725.83 2023.79,724.349 2024.73,722.866 2025.66,721.382 2026.6,719.897 2027.53,718.41 2028.47,716.921 2029.4,715.431 2030.34,713.94 2031.27,712.447 2032.21,710.952 2033.14,709.456 2034.08,707.959 2035.02,706.46 2035.95,704.96 2036.89,703.458 2037.82,701.954 2038.76,700.45 2039.69,698.943 2040.63,697.435 2041.56,695.926 2042.5,694.415 2043.43,692.903 2044.37,691.389 2045.3,689.873 2046.24,688.357 2047.18,686.838 2048.11,685.318 2049.05,683.797 2049.98,682.274 2050.92,680.749 2051.85,679.224 2052.79,677.696 2053.72,676.167 2054.66,674.637 2055.59,673.105 2056.53,671.571 2057.46,670.036 2058.4,668.499 2059.33,666.961 2060.27,665.422 2061.21,663.88 2062.14,662.338 2063.08,660.793 2064.01,659.248 2064.95,657.7 2065.88,656.151 2066.82,654.601 2067.75,653.049 2068.69,651.496 2069.62,649.941 2070.56,648.384 2071.49,646.826 2072.43,645.266 2073.36,643.705 2074.3,642.142 2075.24,640.578 2076.17,639.012 2077.11,637.445 2078.04,635.876 2078.98,634.305 2079.91,632.733 2080.85,631.159 2081.78,629.584 2082.72,628.007 2083.65,626.429 2084.59,624.849 2085.52,623.268 2086.46,621.685 2087.4,620.1 2088.33,618.514 2089.27,616.926 2090.2,615.336 2091.14,613.746 2092.07,612.153 2093.01,610.559 2093.94,608.963 2094.88,607.366 2095.81,605.767 2096.75,604.167 2097.68,602.565 2098.62,600.961 2099.55,599.356 2100.49,597.749 2101.43,596.14 2102.36,594.53 2103.3,592.919 2104.23,591.305 2105.17,589.691 2106.1,588.074 2107.04,586.456 2107.97,584.837 2108.91,583.215 2109.84,581.592 2110.78,579.968 2111.71,578.342 2112.65,576.714 2113.59,575.085 2114.52,573.454 2115.46,571.821 2116.39,570.187 2117.33,568.551 2118.26,566.914 2119.2,565.275 2120.13,563.634 2121.07,561.992 2122,560.348 2122.94,558.702 2123.87,557.055 2124.81,555.406 2125.74,553.755 2126.68,552.103 2127.62,550.45 2128.55,548.794 2129.49,547.137 2130.42,545.478 2131.36,543.818 2132.29,542.156 2133.23,540.492 2134.16,538.827 2135.1,537.16 2136.03,535.491 2136.97,533.821 2137.9,532.149 2138.84,530.475 2139.78,528.8 2140.71,527.123 2141.65,525.445 2142.58,523.764 2143.52,522.082 2144.45,520.399 2145.39,518.713 2146.32,517.026 2147.26,515.338 2148.19,513.647 2149.13,511.955 2150.06,510.262 2151,508.566 2151.93,506.869 2152.87,505.171 2153.81,503.47 2154.74,501.768 2155.68,500.064 2156.61,498.359 2157.55,496.651 2158.48,494.943 2159.42,493.232 2160.35,491.52 2161.29,489.806 2162.22,488.09 2163.16,486.373 2164.09,484.653 2165.03,482.933 2165.97,481.21 2166.9,479.486 2167.84,477.76 2168.77,476.032 2169.71,474.303 2170.64,472.572 2171.58,470.839 2172.51,469.104 2173.45,467.368 2174.38,465.63 2175.32,463.89 2176.25,462.149 2177.19,460.406 2178.12,458.661 2179.06,456.914 2180,455.166 2180.93,453.416 2181.87,451.664 2182.8,449.91 2183.74,448.155 2184.67,446.398 2185.61,444.639 2186.54,442.878 2187.48,441.116 2188.41,439.352 2189.35,437.586 2190.28,435.819 2191.22,434.049 2192.16,432.278 2193.09,430.505 2194.03,428.731 2194.96,426.954 2195.9,425.176 2196.83,423.396 2197.77,421.614 2198.7,419.831 2199.64,418.046 2200.57,416.259 2201.51,414.47 2202.44,412.679 2203.38,410.887 2204.31,409.093 2205.25,407.297 2206.19,405.499 2207.12,403.7 2208.06,401.899 2208.99,400.096 2209.93,398.291 2210.86,396.484 2211.8,394.676 2212.73,392.865 2213.67,391.053 2214.6,389.239 2215.54,387.424 2216.47,385.606 2217.41,383.787 2218.35,381.966 2219.28,380.143 2220.22,378.319 2221.15,376.492 2222.09,374.664 2223.02,372.834 2223.96,371.002 2224.89,369.168 2225.83,367.332 2226.76,365.495 2227.7,363.656 2228.63,361.815 2229.57,359.972 2230.5,358.127 2231.44,356.281 2232.38,354.432 2233.31,352.582 2234.25,350.73 2235.18,348.876 2236.12,347.02 2237.05,345.163 2237.99,343.303 2238.92,341.442 2239.86,339.579 2240.79,337.714 2241.73,335.847 2242.66,333.978 2243.6,332.108 2244.54,330.235 2245.47,328.361 2246.41,326.485 2247.34,324.607 2248.28,322.727 2249.21,320.845 2250.15,318.962 2251.08,317.076 2252.02,315.189 2252.95,313.3 2253.89,311.409 2254.82,309.516 2255.76,307.621 2256.69,305.724 2257.63,303.825 2258.57,301.925 2259.5,300.022 2260.44,298.118 2261.37,296.212 2262.31,294.304 2263.24,292.394 2264.18,290.482 2265.11,288.568 2266.05,286.652 2266.98,284.735 2267.92,282.815 2268.85,280.894 2269.79,278.971 2270.73,277.046 2271.66,275.118 2272.6,273.189 2273.53,271.258 2274.47,269.325 2275.4,267.391 2276.34,265.454 2277.27,263.515 2278.21,261.575 2279.14,259.632 2280.08,257.688 2281.01,255.741 2281.95,253.793 2282.88,251.843 2283.82,249.891 2284.76,247.937 2285.69,245.981 2286.63,244.023 2287.56,242.063 2288.5,240.101 2289.43,238.137 2290.37,236.171 2291.3,234.203 2292.24,232.234 2293.17,230.262 2294.11,228.288 2295.04,226.313 2295.98,224.335 2296.92,222.356 2297.85,220.374 2298.79,218.391 2299.72,216.405 2300.66,214.418 2301.59,212.429 2302.53,210.437 2303.46,208.444 2304.4,206.449 2305.33,204.451 2306.27,202.452 2307.2,200.451 2308.14,198.448 2309.07,196.442 2310.01,194.435 2310.95,192.426 2311.88,190.415 2312.82,188.402 2313.75,186.386 2314.69,184.369 2315.62,182.35 2316.56,180.329 2317.49,178.305 2318.43,176.28 2319.36,174.253 2320.3,172.224 2321.23,170.192 2322.17,168.159 2323.11,166.124 2324.04,164.086 2324.98,162.047 \"/>\n</svg>\n"
     },
     "execution_count": 28,
     "metadata": {},
     "output_type": "execute_result"
    }
   ],
   "source": [
    "p=1:0.1:100\n",
    "g(x)=x^-1\n",
    "gg(x)=2.7^(x/100)-1\n",
    "q=g.(p)\n",
    "qq=gg.(p)\n",
    "p1=plot(p,q,label=\"hyperbolic\",title=\"hyperbolic\")\n",
    "# ! implies that it is added to the current plot\n",
    "p2=plot(p,qq,label=\"exponential\")\n",
    "title!(\"exponential\")\n",
    "plot(p1,p2,layout=(1,2),legend=false)"
   ]
  },
  {
   "cell_type": "code",
   "execution_count": 29,
   "metadata": {},
   "outputs": [
    {
     "data": {
      "text/plain": [
       "Dict{String, Any} with 8 entries:\n",
       "  \"shadow2\"       => -1.5\n",
       "  \"status_primal\" => FEASIBLE_POINT\n",
       "  \"status\"        => OPTIMAL\n",
       "  \"objective\"     => 205.0\n",
       "  \"x\"             => 15.0\n",
       "  \"shadow1\"       => -0.25\n",
       "  \"status_dual\"   => FEASIBLE_POINT\n",
       "  \"y\"             => 1.25"
      ]
     },
     "execution_count": 29,
     "metadata": {},
     "output_type": "execute_result"
    }
   ],
   "source": [
    "function linearmodel(;y1=3,xo1=12,yo2=20,xc1=6,xc2=7,yc1=8,yc2=12,c1=100,c2=120)\n",
    "    #example code from https://jump.dev/JuMP.jl/stable/tutorials/getting_started/getting_started_with_JuMP/\n",
    "    model=Model(GLPK.Optimizer)\n",
    "    set_silent(model)#set_optimizer_attribute(model,\"print_level\",0)#\n",
    "    #region variables\n",
    "    @variable(model,x>=0)\n",
    "    @variable(model,0<=y<=y1)\n",
    "    #endregion\n",
    "    #region objective\n",
    "    @objective(model,Min,xo1*x+yo2*y)\n",
    "    #endregion\n",
    "    #region contstraints\n",
    "    @constraint(model,con1,xc1*x+yc1*y>=c1)\n",
    "    @constraint(model,con2,xc2*x+yc2*y>=c2)\n",
    "    #endregion\n",
    "    #print(model)\n",
    "    optimize!(model)\n",
    "    if termination_status(model) != OPTIMAL\n",
    "        #does not work for Ipopt\n",
    "        @warn(\"The model was not solved correctly.\")\n",
    "        return\n",
    "    end\n",
    "    return Dict(\"status\"=>termination_status(model),\"status_primal\"=>primal_status(model),\"status_dual\"=>dual_status(model),\"objective\"=>objective_value(model),\"x\"=>value(x),\"y\"=>value(y),\"shadow1\"=>shadow_price(con1),\"shadow2\"=>shadow_price(con2))\n",
    "end\n",
    "linearmodel()"
   ]
  },
  {
   "attachments": {},
   "cell_type": "markdown",
   "metadata": {},
   "source": [
    "There are a lot of ways a dataframe can be constructed. Too much to mention here. You do need consistent column lengths though.\n",
    "\n",
    "One way to create a dataframe is through a dictionary (column names are the keywords and column vectors are the values of the dictionary). The values of the dataframe cannot be a scalar; it needs to be a vector."
   ]
  },
  {
   "cell_type": "code",
   "execution_count": 2,
   "metadata": {},
   "outputs": [
    {
     "data": {
      "text/html": [
       "<div><div style = \"float: left;\"><span>3×3 DataFrame</span></div><div style = \"clear: both;\"></div></div><div class = \"data-frame\" style = \"overflow-x: scroll;\"><table class = \"data-frame\" style = \"margin-bottom: 6px;\"><thead><tr class = \"header\"><th class = \"rowNumber\" style = \"font-weight: bold; text-align: right;\">Row</th><th style = \"text-align: left;\">A</th><th style = \"text-align: left;\">B</th><th style = \"text-align: left;\">C</th></tr><tr class = \"subheader headerLastRow\"><th class = \"rowNumber\" style = \"font-weight: bold; text-align: right;\"></th><th title = \"Union{Missing, Int64}\" style = \"text-align: left;\">Int64?</th><th title = \"Union{Missing, Int64}\" style = \"text-align: left;\">Int64?</th><th title = \"Union{Missing, String}\" style = \"text-align: left;\">String?</th></tr></thead><tbody><tr><td class = \"rowNumber\" style = \"font-weight: bold; text-align: right;\">1</td><td style = \"text-align: right;\">1</td><td style = \"text-align: right;\">4</td><td style = \"font-style: italic; text-align: left;\">missing</td></tr><tr><td class = \"rowNumber\" style = \"font-weight: bold; text-align: right;\">2</td><td style = \"font-style: italic; text-align: right;\">missing</td><td style = \"text-align: right;\">5</td><td style = \"text-align: left;\">y</td></tr><tr><td class = \"rowNumber\" style = \"font-weight: bold; text-align: right;\">3</td><td style = \"text-align: right;\">3</td><td style = \"font-style: italic; text-align: right;\">missing</td><td style = \"text-align: left;\">z</td></tr></tbody></table></div>"
      ],
      "text/latex": [
       "\\begin{tabular}{r|ccc}\n",
       "\t& A & B & C\\\\\n",
       "\t\\hline\n",
       "\t& Int64? & Int64? & String?\\\\\n",
       "\t\\hline\n",
       "\t1 & 1 & 4 & \\emph{missing} \\\\\n",
       "\t2 & \\emph{missing} & 5 & y \\\\\n",
       "\t3 & 3 & \\emph{missing} & z \\\\\n",
       "\\end{tabular}\n"
      ],
      "text/plain": [
       "\u001b[1m3×3 DataFrame\u001b[0m\n",
       "\u001b[1m Row \u001b[0m│\u001b[1m A       \u001b[0m\u001b[1m B       \u001b[0m\u001b[1m C       \u001b[0m\n",
       "     │\u001b[90m Int64?  \u001b[0m\u001b[90m Int64?  \u001b[0m\u001b[90m String? \u001b[0m\n",
       "─────┼───────────────────────────\n",
       "   1 │       1        4 \u001b[90m missing \u001b[0m\n",
       "   2 │\u001b[90m missing \u001b[0m       5  y\n",
       "   3 │       3 \u001b[90m missing \u001b[0m z"
      ]
     },
     "execution_count": 2,
     "metadata": {},
     "output_type": "execute_result"
    }
   ],
   "source": [
    "df=DataFrame()\n",
    "df.A=[1,missing,3]\n",
    "df.B=[4,5,missing]\n",
    "df.C=[missing,\"y\",\"z\"]\n",
    "df"
   ]
  },
  {
   "cell_type": "code",
   "execution_count": 4,
   "metadata": {},
   "outputs": [
    {
     "data": {
      "text/html": [
       "<div><div style = \"float: left;\"><span>1×3 DataFrame</span></div><div style = \"clear: both;\"></div></div><div class = \"data-frame\" style = \"overflow-x: scroll;\"><table class = \"data-frame\" style = \"margin-bottom: 6px;\"><thead><tr class = \"header\"><th class = \"rowNumber\" style = \"font-weight: bold; text-align: right;\">Row</th><th style = \"text-align: left;\">A</th><th style = \"text-align: left;\">B</th><th style = \"text-align: left;\">C</th></tr><tr class = \"subheader headerLastRow\"><th class = \"rowNumber\" style = \"font-weight: bold; text-align: right;\"></th><th title = \"Int64\" style = \"text-align: left;\">Int64</th><th title = \"Int64\" style = \"text-align: left;\">Int64</th><th title = \"Union{Missing, String}\" style = \"text-align: left;\">String?</th></tr></thead><tbody><tr><td class = \"rowNumber\" style = \"font-weight: bold; text-align: right;\">1</td><td style = \"text-align: right;\">1</td><td style = \"text-align: right;\">4</td><td style = \"font-style: italic; text-align: left;\">missing</td></tr></tbody></table></div>"
      ],
      "text/latex": [
       "\\begin{tabular}{r|ccc}\n",
       "\t& A & B & C\\\\\n",
       "\t\\hline\n",
       "\t& Int64 & Int64 & String?\\\\\n",
       "\t\\hline\n",
       "\t1 & 1 & 4 & \\emph{missing} \\\\\n",
       "\\end{tabular}\n"
      ],
      "text/plain": [
       "\u001b[1m1×3 DataFrame\u001b[0m\n",
       "\u001b[1m Row \u001b[0m│\u001b[1m A     \u001b[0m\u001b[1m B     \u001b[0m\u001b[1m C       \u001b[0m\n",
       "     │\u001b[90m Int64 \u001b[0m\u001b[90m Int64 \u001b[0m\u001b[90m String? \u001b[0m\n",
       "─────┼───────────────────────\n",
       "   1 │     1      4 \u001b[90m missing \u001b[0m"
      ]
     },
     "execution_count": 4,
     "metadata": {},
     "output_type": "execute_result"
    }
   ],
   "source": [
    "dfl = dropmissing(df,Not(:C))"
   ]
  },
  {
   "cell_type": "code",
   "execution_count": 7,
   "metadata": {},
   "outputs": [
    {
     "data": {
      "text/html": [
       "<div><div style = \"float: left;\"><span>3×3 DataFrame</span></div><div style = \"clear: both;\"></div></div><div class = \"data-frame\" style = \"overflow-x: scroll;\"><table class = \"data-frame\" style = \"margin-bottom: 6px;\"><thead><tr class = \"header\"><th class = \"rowNumber\" style = \"font-weight: bold; text-align: right;\">Row</th><th style = \"text-align: left;\">A</th><th style = \"text-align: left;\">B</th><th style = \"text-align: left;\">C</th></tr><tr class = \"subheader headerLastRow\"><th class = \"rowNumber\" style = \"font-weight: bold; text-align: right;\"></th><th title = \"Int64\" style = \"text-align: left;\">Int64</th><th title = \"Int64\" style = \"text-align: left;\">Int64</th><th title = \"String\" style = \"text-align: left;\">String</th></tr></thead><tbody><tr><td class = \"rowNumber\" style = \"font-weight: bold; text-align: right;\">1</td><td style = \"text-align: right;\">1</td><td style = \"text-align: right;\">4</td><td style = \"text-align: left;\">x</td></tr><tr><td class = \"rowNumber\" style = \"font-weight: bold; text-align: right;\">2</td><td style = \"text-align: right;\">0</td><td style = \"text-align: right;\">5</td><td style = \"text-align: left;\">y</td></tr><tr><td class = \"rowNumber\" style = \"font-weight: bold; text-align: right;\">3</td><td style = \"text-align: right;\">3</td><td style = \"text-align: right;\">0</td><td style = \"text-align: left;\">z</td></tr></tbody></table></div>"
      ],
      "text/latex": [
       "\\begin{tabular}{r|ccc}\n",
       "\t& A & B & C\\\\\n",
       "\t\\hline\n",
       "\t& Int64 & Int64 & String\\\\\n",
       "\t\\hline\n",
       "\t1 & 1 & 4 & x \\\\\n",
       "\t2 & 0 & 5 & y \\\\\n",
       "\t3 & 3 & 0 & z \\\\\n",
       "\\end{tabular}\n"
      ],
      "text/plain": [
       "\u001b[1m3×3 DataFrame\u001b[0m\n",
       "\u001b[1m Row \u001b[0m│\u001b[1m A     \u001b[0m\u001b[1m B     \u001b[0m\u001b[1m C      \u001b[0m\n",
       "     │\u001b[90m Int64 \u001b[0m\u001b[90m Int64 \u001b[0m\u001b[90m String \u001b[0m\n",
       "─────┼──────────────────────\n",
       "   1 │     1      4  x\n",
       "   2 │     0      5  y\n",
       "   3 │     3      0  z"
      ]
     },
     "execution_count": 7,
     "metadata": {},
     "output_type": "execute_result"
    }
   ],
   "source": [
    "dfk=DataFrame()\n",
    "for dfn in names(df)\n",
    "    if dfn == \"C\"\n",
    "        dfk[!,dfn]=replace(df[!,dfn],missing => \"x\")\n",
    "    else\n",
    "        dfk[!,dfn]=replace(df[!,dfn],missing => 0)\n",
    "    end\n",
    "end\n",
    "dfk"
   ]
  },
  {
   "cell_type": "code",
   "execution_count": 3,
   "metadata": {},
   "outputs": [
    {
     "data": {
      "text/html": [
       "<div><div style = \"float: left;\"><span>68×5 DataFrame</span></div><div style = \"float: right;\"><span style = \"font-style: italic;\">43 rows omitted</span></div><div style = \"clear: both;\"></div></div><div class = \"data-frame\" style = \"overflow-x: scroll;\"><table class = \"data-frame\" style = \"margin-bottom: 6px;\"><thead><tr class = \"header\"><th class = \"rowNumber\" style = \"font-weight: bold; text-align: right;\">Row</th><th style = \"text-align: left;\">Technology</th><th style = \"text-align: left;\">Parameter</th><th style = \"text-align: left;\">category</th><th style = \"text-align: left;\">responsibility</th><th style = \"text-align: left;\">remarks</th></tr><tr class = \"subheader headerLastRow\"><th class = \"rowNumber\" style = \"font-weight: bold; text-align: right;\"></th><th title = \"Any\" style = \"text-align: left;\">Any</th><th title = \"Any\" style = \"text-align: left;\">Any</th><th title = \"Any\" style = \"text-align: left;\">Any</th><th title = \"Any\" style = \"text-align: left;\">Any</th><th title = \"Any\" style = \"text-align: left;\">Any</th></tr></thead><tbody><tr><td class = \"rowNumber\" style = \"font-weight: bold; text-align: right;\">1</td><td style = \"text-align: left;\">electricity demand</td><td style = \"font-style: italic; text-align: left;\">missing</td><td style = \"text-align: left;\">demand</td><td style = \"text-align: left;\">T6?</td><td style = \"font-style: italic; text-align: left;\">missing</td></tr><tr><td class = \"rowNumber\" style = \"font-weight: bold; text-align: right;\">2</td><td style = \"text-align: left;\">buildings</td><td style = \"font-style: italic; text-align: left;\">missing</td><td style = \"text-align: left;\">demand</td><td style = \"text-align: left;\">T8</td><td style = \"font-style: italic; text-align: left;\">missing</td></tr><tr><td class = \"rowNumber\" style = \"font-weight: bold; text-align: right;\">3</td><td style = \"text-align: left;\">industry</td><td style = \"font-style: italic; text-align: left;\">missing</td><td style = \"text-align: left;\">demand</td><td style = \"text-align: left;\">T8</td><td style = \"font-style: italic; text-align: left;\">missing</td></tr><tr><td class = \"rowNumber\" style = \"font-weight: bold; text-align: right;\">4</td><td style = \"text-align: left;\">nuclear fuel</td><td style = \"font-style: italic; text-align: left;\">missing</td><td style = \"text-align: left;\">sources</td><td style = \"text-align: left;\">T5</td><td style = \"font-style: italic; text-align: left;\">missing</td></tr><tr><td class = \"rowNumber\" style = \"font-weight: bold; text-align: right;\">5</td><td style = \"text-align: left;\">coal</td><td style = \"font-style: italic; text-align: left;\">missing</td><td style = \"text-align: left;\">sources</td><td style = \"text-align: left;\">T5</td><td style = \"font-style: italic; text-align: left;\">missing</td></tr><tr><td class = \"rowNumber\" style = \"font-weight: bold; text-align: right;\">6</td><td style = \"text-align: left;\">oil</td><td style = \"font-style: italic; text-align: left;\">missing</td><td style = \"text-align: left;\">sources</td><td style = \"text-align: left;\">T5</td><td style = \"font-style: italic; text-align: left;\">missing</td></tr><tr><td class = \"rowNumber\" style = \"font-weight: bold; text-align: right;\">7</td><td style = \"text-align: left;\">bio oil</td><td style = \"font-style: italic; text-align: left;\">missing</td><td style = \"text-align: left;\">sources</td><td style = \"text-align: left;\">T4?</td><td style = \"font-style: italic; text-align: left;\">missing</td></tr><tr><td class = \"rowNumber\" style = \"font-weight: bold; text-align: right;\">8</td><td style = \"text-align: left;\">synthetic oil</td><td style = \"font-style: italic; text-align: left;\">missing</td><td style = \"text-align: left;\">sources</td><td style = \"text-align: left;\">T4?</td><td style = \"font-style: italic; text-align: left;\">missing</td></tr><tr><td class = \"rowNumber\" style = \"font-weight: bold; text-align: right;\">9</td><td style = \"text-align: left;\">natural gas</td><td style = \"font-style: italic; text-align: left;\">missing</td><td style = \"text-align: left;\">sources</td><td style = \"text-align: left;\">Virgine (Fluxys, T2.5), Tars (KUL, T2.5)</td><td style = \"font-style: italic; text-align: left;\">missing</td></tr><tr><td class = \"rowNumber\" style = \"font-weight: bold; text-align: right;\">10</td><td style = \"text-align: left;\">synthetic gas</td><td style = \"font-style: italic; text-align: left;\">missing</td><td style = \"text-align: left;\">sources</td><td style = \"text-align: left;\">T4?</td><td style = \"font-style: italic; text-align: left;\">missing</td></tr><tr><td class = \"rowNumber\" style = \"font-weight: bold; text-align: right;\">11</td><td style = \"text-align: left;\">hydrogen</td><td style = \"font-style: italic; text-align: left;\">missing</td><td style = \"text-align: left;\">sources</td><td style = \"text-align: left;\">T5</td><td style = \"font-style: italic; text-align: left;\">missing</td></tr><tr><td class = \"rowNumber\" style = \"font-weight: bold; text-align: right;\">12</td><td style = \"text-align: left;\">biogas</td><td style = \"font-style: italic; text-align: left;\">missing</td><td style = \"text-align: left;\">sources</td><td style = \"text-align: left;\">T4?</td><td style = \"font-style: italic; text-align: left;\">missing</td></tr><tr><td class = \"rowNumber\" style = \"font-weight: bold; text-align: right;\">13</td><td style = \"text-align: left;\">biomass</td><td style = \"font-style: italic; text-align: left;\">missing</td><td style = \"text-align: left;\">sources</td><td style = \"text-align: left;\">T4?</td><td style = \"font-style: italic; text-align: left;\">missing</td></tr><tr><td style = \"text-align: right;\">&vellip;</td><td style = \"text-align: right;\">&vellip;</td><td style = \"text-align: right;\">&vellip;</td><td style = \"text-align: right;\">&vellip;</td><td style = \"text-align: right;\">&vellip;</td><td style = \"text-align: right;\">&vellip;</td></tr><tr><td class = \"rowNumber\" style = \"font-weight: bold; text-align: right;\">57</td><td style = \"text-align: left;\">hydrogen storage</td><td style = \"font-style: italic; text-align: left;\">missing</td><td style = \"text-align: left;\">hydrogen storage</td><td style = \"text-align: left;\">T5</td><td style = \"text-align: left;\">missing</td></tr><tr><td class = \"rowNumber\" style = \"font-weight: bold; text-align: right;\">58</td><td style = \"text-align: left;\">Electrolyser</td><td style = \"font-style: italic; text-align: left;\">missing</td><td style = \"text-align: left;\">hydrogen</td><td style = \"text-align: left;\">T5</td><td style = \"font-style: italic; text-align: left;\">missing</td></tr><tr><td class = \"rowNumber\" style = \"font-weight: bold; text-align: right;\">59</td><td style = \"text-align: left;\">Fuel cell</td><td style = \"font-style: italic; text-align: left;\">missing</td><td style = \"text-align: left;\">hydrogen</td><td style = \"text-align: left;\">T5</td><td style = \"font-style: italic; text-align: left;\">missing</td></tr><tr><td class = \"rowNumber\" style = \"font-weight: bold; text-align: right;\">60</td><td style = \"text-align: left;\">direct air capture</td><td style = \"font-style: italic; text-align: left;\">missing</td><td style = \"text-align: left;\">co2</td><td style = \"text-align: left;\">T5</td><td style = \"text-align: left;\">missing</td></tr><tr><td class = \"rowNumber\" style = \"font-weight: bold; text-align: right;\">61</td><td style = \"text-align: left;\">carbon capture</td><td style = \"font-style: italic; text-align: left;\">missing</td><td style = \"text-align: left;\">co2</td><td style = \"text-align: left;\">T5</td><td style = \"font-style: italic; text-align: left;\">Rather as part of a power plant or separate power plants?</td></tr><tr><td class = \"rowNumber\" style = \"font-weight: bold; text-align: right;\">62</td><td style = \"text-align: left;\">Vehicle to grid</td><td style = \"font-style: italic; text-align: left;\">missing</td><td style = \"text-align: left;\">transport, storage</td><td style = \"text-align: left;\">Omar</td><td style = \"font-style: italic; text-align: left;\">missing</td></tr><tr><td class = \"rowNumber\" style = \"font-weight: bold; text-align: right;\">63</td><td style = \"text-align: left;\">district heating</td><td style = \"font-style: italic; text-align: left;\">missing</td><td style = \"text-align: left;\">heating</td><td style = \"text-align: left;\">outside of scope of the project?</td><td style = \"font-style: italic; text-align: left;\">missing</td></tr><tr><td class = \"rowNumber\" style = \"font-weight: bold; text-align: right;\">64</td><td style = \"text-align: left;\">cars</td><td style = \"font-style: italic; text-align: left;\">missing</td><td style = \"text-align: left;\">transport</td><td style = \"text-align: left;\">T8</td><td style = \"font-style: italic; text-align: left;\">missing</td></tr><tr><td class = \"rowNumber\" style = \"font-weight: bold; text-align: right;\">65</td><td style = \"text-align: left;\">trucks</td><td style = \"font-style: italic; text-align: left;\">missing</td><td style = \"text-align: left;\">transport</td><td style = \"text-align: left;\">T8</td><td style = \"font-style: italic; text-align: left;\">missing</td></tr><tr><td class = \"rowNumber\" style = \"font-weight: bold; text-align: right;\">66</td><td style = \"text-align: left;\">planes</td><td style = \"font-style: italic; text-align: left;\">missing</td><td style = \"text-align: left;\">transport </td><td style = \"text-align: left;\">outside of scope of the project?</td><td style = \"font-style: italic; text-align: left;\">missing</td></tr><tr><td class = \"rowNumber\" style = \"font-weight: bold; text-align: right;\">67</td><td style = \"text-align: left;\">ships</td><td style = \"font-style: italic; text-align: left;\">missing</td><td style = \"text-align: left;\">transport</td><td style = \"text-align: left;\">outside of scope of the project?</td><td style = \"font-style: italic; text-align: left;\">missing</td></tr><tr><td class = \"rowNumber\" style = \"font-weight: bold; text-align: right;\">68</td><td style = \"text-align: left;\">refueling infrastructure</td><td style = \"font-style: italic; text-align: left;\">missing</td><td style = \"text-align: left;\">transport</td><td style = \"text-align: left;\">outside of scope of the project?</td><td style = \"font-style: italic; text-align: left;\">missing</td></tr></tbody></table></div>"
      ],
      "text/latex": [
       "\\begin{tabular}{r|ccccc}\n",
       "\t& Technology & Parameter & category & responsibility & \\\\\n",
       "\t\\hline\n",
       "\t& Any & Any & Any & Any & \\\\\n",
       "\t\\hline\n",
       "\t1 & electricity demand & \\emph{missing} & demand & T6? & $\\dots$ \\\\\n",
       "\t2 & buildings & \\emph{missing} & demand & T8 & $\\dots$ \\\\\n",
       "\t3 & industry & \\emph{missing} & demand & T8 & $\\dots$ \\\\\n",
       "\t4 & nuclear fuel & \\emph{missing} & sources & T5 & $\\dots$ \\\\\n",
       "\t5 & coal & \\emph{missing} & sources & T5 & $\\dots$ \\\\\n",
       "\t6 & oil & \\emph{missing} & sources & T5 & $\\dots$ \\\\\n",
       "\t7 & bio oil & \\emph{missing} & sources & T4? & $\\dots$ \\\\\n",
       "\t8 & synthetic oil & \\emph{missing} & sources & T4? & $\\dots$ \\\\\n",
       "\t9 & natural gas & \\emph{missing} & sources & Virgine (Fluxys, T2.5), Tars (KUL, T2.5) & $\\dots$ \\\\\n",
       "\t10 & synthetic gas & \\emph{missing} & sources & T4? & $\\dots$ \\\\\n",
       "\t11 & hydrogen & \\emph{missing} & sources & T5 & $\\dots$ \\\\\n",
       "\t12 & biogas & \\emph{missing} & sources & T4? & $\\dots$ \\\\\n",
       "\t13 & biomass & \\emph{missing} & sources & T4? & $\\dots$ \\\\\n",
       "\t14 & waste & \\emph{missing} & sources & T4? & $\\dots$ \\\\\n",
       "\t15 & co2 & \\emph{missing} & co2 & T5 & $\\dots$ \\\\\n",
       "\t16 & ammonia & \\emph{missing} & sources & T4? & $\\dots$ \\\\\n",
       "\t17 & electricity & \\emph{missing} & sources & T5? & $\\dots$ \\\\\n",
       "\t18 & heat & \\emph{missing} & sources & outside of scope of the project? & $\\dots$ \\\\\n",
       "\t19 & oil refinery & \\emph{missing} & conversion & T5 & $\\dots$ \\\\\n",
       "\t20 & bio refinery & \\emph{missing} & conversion & T4? & $\\dots$ \\\\\n",
       "\t21 & fuel synthesis & \\emph{missing} & conversion & T4? & $\\dots$ \\\\\n",
       "\t22 & ammonia synthesis & \\emph{missing} & conversion & T4? & $\\dots$ \\\\\n",
       "\t23 & electricity transmission & \\emph{missing} & electricity network & T6? & $\\dots$ \\\\\n",
       "\t24 & electricity distribution & \\emph{missing} & electricity network & T6? & $\\dots$ \\\\\n",
       "\t25 & transformer & \\emph{missing} & electricity network & T6? & $\\dots$ \\\\\n",
       "\t26 & cable & \\emph{missing} & electricity network & T6? & $\\dots$ \\\\\n",
       "\t27 & overheadline & \\emph{missing} & electricity network & T6? & $\\dots$ \\\\\n",
       "\t28 & gas transmission & \\emph{missing} & gas network & T7? & $\\dots$ \\\\\n",
       "\t29 & gas distribution & \\emph{missing} & gas network & T7? & $\\dots$ \\\\\n",
       "\t30 & compressor station & \\emph{missing} & gas network & T7? & $\\dots$ \\\\\n",
       "\t$\\dots$ & $\\dots$ & $\\dots$ & $\\dots$ & $\\dots$ &  \\\\\n",
       "\\end{tabular}\n"
      ],
      "text/plain": [
       "\u001b[1m68×5 DataFrame\u001b[0m\n",
       "\u001b[1m Row \u001b[0m│\u001b[1m Technology               \u001b[0m\u001b[1m Parameter \u001b[0m\u001b[1m category           \u001b[0m\u001b[1m responsibility\u001b[0m ⋯\n",
       "     │\u001b[90m Any                      \u001b[0m\u001b[90m Any       \u001b[0m\u001b[90m Any                \u001b[0m\u001b[90m Any           \u001b[0m ⋯\n",
       "─────┼──────────────────────────────────────────────────────────────────────────\n",
       "   1 │ electricity demand       \u001b[90m missing   \u001b[0m demand              T6?            ⋯\n",
       "   2 │ buildings                \u001b[90m missing   \u001b[0m demand              T8\n",
       "   3 │ industry                 \u001b[90m missing   \u001b[0m demand              T8\n",
       "   4 │ nuclear fuel             \u001b[90m missing   \u001b[0m sources             T5\n",
       "   5 │ coal                     \u001b[90m missing   \u001b[0m sources             T5             ⋯\n",
       "   6 │ oil                      \u001b[90m missing   \u001b[0m sources             T5\n",
       "   7 │ bio oil                  \u001b[90m missing   \u001b[0m sources             T4?\n",
       "   8 │ synthetic oil            \u001b[90m missing   \u001b[0m sources             T4?\n",
       "   9 │ natural gas              \u001b[90m missing   \u001b[0m sources             Virgine (Fluxy ⋯\n",
       "  10 │ synthetic gas            \u001b[90m missing   \u001b[0m sources             T4?\n",
       "  11 │ hydrogen                 \u001b[90m missing   \u001b[0m sources             T5\n",
       "  ⋮  │            ⋮                  ⋮              ⋮                          ⋱\n",
       "  59 │ Fuel cell                \u001b[90m missing   \u001b[0m hydrogen            T5\n",
       "  60 │ direct air capture       \u001b[90m missing   \u001b[0m co2                 T5             ⋯\n",
       "  61 │ carbon capture           \u001b[90m missing   \u001b[0m co2                 T5\n",
       "  62 │ Vehicle to grid          \u001b[90m missing   \u001b[0m transport, storage  Omar\n",
       "  63 │ district heating         \u001b[90m missing   \u001b[0m heating             outside of sco\n",
       "  64 │ cars                     \u001b[90m missing   \u001b[0m transport           T8             ⋯\n",
       "  65 │ trucks                   \u001b[90m missing   \u001b[0m transport           T8\n",
       "  66 │ planes                   \u001b[90m missing   \u001b[0m transport           outside of sco\n",
       "  67 │ ships                    \u001b[90m missing   \u001b[0m transport           outside of sco\n",
       "  68 │ refueling infrastructure \u001b[90m missing   \u001b[0m transport           outside of sco ⋯\n",
       "\u001b[36m                                                   2 columns and 47 rows omitted\u001b[0m"
      ]
     },
     "execution_count": 3,
     "metadata": {},
     "output_type": "execute_result"
    }
   ],
   "source": [
    "dfxl=DataFrame(XLSX.readtable(\"./Data_Tars/RawData.xlsx\",\"Tabelle1\"))\n",
    "#Dict(pairs(eachcol(dfxl)))"
   ]
  },
  {
   "attachments": {},
   "cell_type": "markdown",
   "metadata": {},
   "source": [
    "# Julia Study Group mod files\n",
    "I suppose that the easiest way to play around with and show off our code is through here. Other ways, perhaps more on the coding side, are also welcome."
   ]
  },
  {
   "cell_type": "code",
   "execution_count": 1,
   "metadata": {},
   "outputs": [],
   "source": [
    "using DataFrames\n",
    "include(\"./mod_Tars.jl\")"
   ]
  },
  {
   "cell_type": "code",
   "execution_count": 2,
   "metadata": {},
   "outputs": [
    {
     "data": {
      "text/html": [
       "<div><div style = \"float: left;\"><span>1×8 DataFrame</span></div><div style = \"clear: both;\"></div></div><div class = \"data-frame\" style = \"overflow-x: scroll;\"><table class = \"data-frame\" style = \"margin-bottom: 6px;\"><thead><tr class = \"header\"><th class = \"rowNumber\" style = \"font-weight: bold; text-align: right;\">Row</th><th style = \"text-align: left;\">objective</th><th style = \"text-align: left;\">shadow1</th><th style = \"text-align: left;\">shadow2</th><th style = \"text-align: left;\">status</th><th style = \"text-align: left;\">status_dual</th><th style = \"text-align: left;\">status_primal</th><th style = \"text-align: left;\">x</th><th style = \"text-align: left;\">y</th></tr><tr class = \"subheader headerLastRow\"><th class = \"rowNumber\" style = \"font-weight: bold; text-align: right;\"></th><th title = \"Float64\" style = \"text-align: left;\">Float64</th><th title = \"Float64\" style = \"text-align: left;\">Float64</th><th title = \"Float64\" style = \"text-align: left;\">Float64</th><th title = \"String\" style = \"text-align: left;\">String</th><th title = \"String\" style = \"text-align: left;\">String</th><th title = \"String\" style = \"text-align: left;\">String</th><th title = \"Float64\" style = \"text-align: left;\">Float64</th><th title = \"Float64\" style = \"text-align: left;\">Float64</th></tr></thead><tbody><tr><td class = \"rowNumber\" style = \"font-weight: bold; text-align: right;\">1</td><td style = \"text-align: right;\">205.0</td><td style = \"text-align: right;\">-0.25</td><td style = \"text-align: right;\">-1.5</td><td style = \"text-align: left;\">OPTIMAL</td><td style = \"text-align: left;\">FEASIBLE_POINT</td><td style = \"text-align: left;\">FEASIBLE_POINT</td><td style = \"text-align: right;\">15.0</td><td style = \"text-align: right;\">1.25</td></tr></tbody></table></div>"
      ],
      "text/latex": [
       "\\begin{tabular}{r|cccccccc}\n",
       "\t& objective & shadow1 & shadow2 & status & status\\_dual & status\\_primal & x & y\\\\\n",
       "\t\\hline\n",
       "\t& Float64 & Float64 & Float64 & String & String & String & Float64 & Float64\\\\\n",
       "\t\\hline\n",
       "\t1 & 205.0 & -0.25 & -1.5 & OPTIMAL & FEASIBLE\\_POINT & FEASIBLE\\_POINT & 15.0 & 1.25 \\\\\n",
       "\\end{tabular}\n"
      ],
      "text/plain": [
       "\u001b[1m1×8 DataFrame\u001b[0m\n",
       "\u001b[1m Row \u001b[0m│\u001b[1m objective \u001b[0m\u001b[1m shadow1 \u001b[0m\u001b[1m shadow2 \u001b[0m\u001b[1m status  \u001b[0m\u001b[1m status_dual    \u001b[0m\u001b[1m status_primal  \u001b[0m\u001b[1m x\u001b[0m ⋯\n",
       "     │\u001b[90m Float64   \u001b[0m\u001b[90m Float64 \u001b[0m\u001b[90m Float64 \u001b[0m\u001b[90m String  \u001b[0m\u001b[90m String         \u001b[0m\u001b[90m String         \u001b[0m\u001b[90m F\u001b[0m ⋯\n",
       "─────┼──────────────────────────────────────────────────────────────────────────\n",
       "   1 │     205.0    -0.25     -1.5  OPTIMAL  FEASIBLE_POINT  FEASIBLE_POINT    ⋯\n",
       "\u001b[36m                                                               2 columns omitted\u001b[0m"
      ]
     },
     "execution_count": 2,
     "metadata": {},
     "output_type": "execute_result"
    }
   ],
   "source": [
    "iodb=mod_Tars.loadfile()\n",
    "mod_Tars.savefile(iodb;iofile=\"Data_Tars/iofile_Tars_jupyter.json\")\n",
    "iodf=DataFrame(iodb[\"modelresults\"])\n",
    "mod_Tars.savefile(iodf;iofile=\"Data_Tars/iofile_Tars_jupyter.csv\")\n",
    "iodf"
   ]
  }
 ],
 "metadata": {
  "kernelspec": {
   "display_name": "Julia 1.8.5",
   "language": "julia",
   "name": "julia-1.8"
  },
  "language_info": {
   "file_extension": ".jl",
   "mimetype": "application/julia",
   "name": "julia",
   "version": "1.8.5"
  }
 },
 "nbformat": 4,
 "nbformat_minor": 4
}
